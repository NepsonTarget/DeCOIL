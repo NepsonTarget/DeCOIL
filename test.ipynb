{
 "cells": [
  {
   "cell_type": "code",
   "execution_count": 2,
   "metadata": {},
   "outputs": [],
   "source": [
    "import json\n",
    "import os\n",
    "import random\n",
    "import numpy as np\n",
    "import pandas as pd\n",
    "from tqdm.auto import tqdm\n",
    "from sklearn.metrics import ndcg_score\n",
    "from sklearn.model_selection import train_test_split\n",
    "from MLDE_lite.src.models import *\n",
    "from MLDE_lite.src.Datasets import Dataset\n",
    "\n",
    "from optimization.src.oracle import Oracle\n",
    "from optimization.src.encoding_utils import *"
   ]
  },
  {
   "cell_type": "code",
   "execution_count": 3,
   "metadata": {},
   "outputs": [],
   "source": [
    "fitness_df = pd.read_csv('/home/jyang4/repos/DeCOIL/data/GB1_fitness.csv')\n",
    "dataset = Dataset(dataframe = fitness_df)\n",
    "\n",
    "dataset.encode_X(encoding = 'one-hot')\n",
    "\n",
    "X_train_all = np.array(dataset.X)\n",
    "np.save('/home/jyang4/repos/DeCOIL/one_hot.npy', X_train_all)"
   ]
  },
  {
   "cell_type": "code",
   "execution_count": null,
   "metadata": {},
   "outputs": [],
   "source": []
  }
 ],
 "metadata": {
  "kernelspec": {
   "display_name": "ProtGraphR",
   "language": "python",
   "name": "python3"
  },
  "language_info": {
   "codemirror_mode": {
    "name": "ipython",
    "version": 3
   },
   "file_extension": ".py",
   "mimetype": "text/x-python",
   "name": "python",
   "nbconvert_exporter": "python",
   "pygments_lexer": "ipython3",
   "version": "3.9.13"
  },
  "orig_nbformat": 4,
  "vscode": {
   "interpreter": {
    "hash": "139d1aaa1d1fb05ac2b871ea076ee69809b0d9a8dfdac7dc2e2d4e05ffa29f01"
   }
  }
 },
 "nbformat": 4,
 "nbformat_minor": 2
}

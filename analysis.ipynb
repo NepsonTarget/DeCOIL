{
 "cells": [
  {
   "cell_type": "code",
   "execution_count": 2,
   "metadata": {},
   "outputs": [],
   "source": [
    "import os\n",
    "import numpy as np\n",
    "import pandas as pd\n",
    "import json\n",
    "import seaborn as sns\n",
    "import matplotlib.pyplot as plt\n",
    "import matplotlib as mpl\n",
    "import pickle\n",
    "from itertools import product, combinations\n",
    "from scipy.stats import spearmanr\n",
    "from sklearn.linear_model import LinearRegression, Ridge\n",
    "from sklearn.cluster import KMeans\n",
    "\n",
    "from Bio.Seq import Seq\n",
    "from optimization.src.oracle import *\n",
    "from optimization.src.encoding_utils import *\n",
    "from sklearn.decomposition import PCA\n",
    "from sklearn.manifold import TSNE\n",
    "\n",
    "font = {'family' : 'arial',\n",
    "        'size'   : 16}\n",
    "mpl.rc('font', **font)\n",
    "mpl.rc('lines', linewidth=2)\n",
    "mpl.rcParams['axes.linewidth'] = 2\n",
    "mpl.rcParams['xtick.major.width'] = 2\n",
    "mpl.rcParams['ytick.major.width'] = 2\n",
    "\n",
    "labels = ['A', 'C', 'G', 'T', 'AG', 'CT', 'AC', 'GT', 'GC', 'AT', 'ACT', 'GCT', 'ACG', 'AGT', 'ACGT']\n",
    "labels2 = ['A', 'C', 'G', 'T', 'R', 'Y', 'M', 'K', 'S', 'W', 'H', 'B', 'V', 'D', 'N']\n",
    "labels4 = ['A', 'C', 'G', 'T', 'AG  (R)', 'CT (Y)', 'AC (M)', 'GT (K)', 'GC (S)', 'AT (W)', 'ACT (H)', 'GCT (B)', 'ACG (V)', 'AGT (D)', 'ACGT (N)']\n",
    "\n",
    "labels3 = []\n",
    "for i in range(12):\n",
    "    labels3 += [str(i) + 'A', str(i) + 'C', str(i) + 'G', str(i) + 'T']"
   ]
  },
  {
   "cell_type": "code",
   "execution_count": 22,
   "metadata": {},
   "outputs": [
    {
     "data": {
      "text/plain": [
       "4.66583746397373"
      ]
     },
     "execution_count": 22,
     "metadata": {},
     "output_type": "execute_result"
    }
   ],
   "source": [
    "ESM = np.load('/home/jyang4/repos/StARDUST/data/GB1/ESM2_all.npy')\n",
    "manhattandistance(ESM[0,:], ESM[1,:])"
   ]
  },
  {
   "cell_type": "code",
   "execution_count": 23,
   "metadata": {},
   "outputs": [],
   "source": [
    "distances = []\n",
    "for i in range(10000):\n",
    "   choices = np.random.choice(149000, 2, replace=False)\n",
    "   distances.append((manhattandistance(ESM[choices[0],:], ESM[choices[1],:])))"
   ]
  },
  {
   "cell_type": "code",
   "execution_count": 24,
   "metadata": {},
   "outputs": [
    {
     "data": {
      "text/plain": [
       "Text(0.5, 0, 'manhattan distance')"
      ]
     },
     "execution_count": 24,
     "metadata": {},
     "output_type": "execute_result"
    },
    {
     "data": {
      "image/png": "[encoded data removed]",
      "text/plain": [
       "<Figure size 432x288 with 1 Axes>"
      ]
     },
     "metadata": {
      "needs_background": "light"
     },
     "output_type": "display_data"
    }
   ],
   "source": [
    "plt.hist(distances)\n",
    "plt.xlabel('manhattan distance')"
   ]
  },
  {
   "cell_type": "code",
   "execution_count": 7,
   "metadata": {},
   "outputs": [
    {
     "data": {
      "text/plain": [
       "8.513422430061777e-06"
      ]
     },
     "execution_count": 7,
     "metadata": {},
     "output_type": "execute_result"
    }
   ],
   "source": [
    "min(distances)"
   ]
  },
  {
   "cell_type": "markdown",
   "metadata": {},
   "source": [
    "### Load the optimization results"
   ]
  },
  {
   "cell_type": "code",
   "execution_count": 5,
   "metadata": {},
   "outputs": [
    {
     "data": {
      "text/plain": [
       "'NNBVTDNBBTCY'"
      ]
     },
     "execution_count": 5,
     "metadata": {},
     "output_type": "execute_result"
    }
   ],
   "source": [
    "results = np.load('optimization/saved/simple_exp25_TrpB/results.npy', allow_pickle=True)\n",
    "means = results.item()['means']\n",
    "vars = results.item()['vars']\n",
    "Xts = results.item()['Xts'].astype(int)\n",
    "\n",
    "final_means = means[-1, :, :]\n",
    "final_vars = vars[-1, :, :]\n",
    "\n",
    "initial_encodings = Xts[0, :, :]\n",
    "final_encodings = Xts[-1, :, :]\n",
    "encoding2seq(final_encodings[131, :, 0])\n",
    "\n",
    "# results = np.load('dclo/saved/simple_stochastic_exp010_mix2/results.npy', allow_pickle=True)\n",
    "# means = results.item()['means']\n",
    "# vars = results.item()['vars']\n",
    "# Xts = results.item()['Xts'].astype(int)\n",
    "\n",
    "# final_means = means[-1, :, :]\n",
    "# final_vars = vars[-1, :, :]\n",
    "\n",
    "# initial_encodings2 = Xts[0, :, :]\n",
    "# final_encodings2 = Xts[-1, :, :]\n",
    "\n",
    "# results = np.load('dclo/saved/simple_stochastic_exp25/results.npy', allow_pickle=True)\n",
    "# means = results.item()['means']\n",
    "# vars = results.item()['vars']\n",
    "# Xts = results.item()['Xts'].astype(int)\n",
    "\n",
    "# final_means = means[-1, :, :]\n",
    "# final_vars = vars[-1, :, :]\n",
    "\n",
    "# initial_encodings3 = Xts[0, :, :]\n",
    "# final_encodings3 = Xts[-1, :, :]\n"
   ]
  },
  {
   "cell_type": "code",
   "execution_count": 13,
   "metadata": {},
   "outputs": [],
   "source": [
    "final_encodings = seq2encoding('TWCNNBNYBAST')\n",
    "final_encodings = final_encodings.reshape(1, 48, 1)"
   ]
  },
  {
   "cell_type": "code",
   "execution_count": 6,
   "metadata": {},
   "outputs": [
    {
     "name": "stdout",
     "output_type": "stream",
     "text": [
      "(57, 48, 1)\n"
     ]
    }
   ],
   "source": [
    "library_sizes, unique_indices, final_AA_encodings, unique_encodings, unique_AA_encodings = get_AA_encodings(final_encodings)"
   ]
  },
  {
   "cell_type": "code",
   "execution_count": 15,
   "metadata": {},
   "outputs": [
    {
     "data": {
      "text/plain": [
       "array([21, 33, 20, 30, 26, 25, 24, 22, 27, 12, 23,  9, 56, 54, 29, 15, 28,\n",
       "       55, 44, 50, 31,  7, 43,  6, 47, 46, 10, 45, 36, 35, 34,  8, 49, 13,\n",
       "       32, 48, 38, 39, 37, 11, 14, 17, 16, 52, 41, 51, 53, 19, 40, 18, 42,\n",
       "        2,  1,  5,  3,  0,  4])"
      ]
     },
     "execution_count": 15,
     "metadata": {},
     "output_type": "execute_result"
    }
   ],
   "source": [
    "order = np.argsort(final_means[:,0][unique_indices])\n",
    "order"
   ]
  },
  {
   "cell_type": "code",
   "execution_count": 8,
   "metadata": {},
   "outputs": [
    {
     "data": {
      "text/plain": [
       "(array([107.,  27.,  39.,  35.,  17.,   9.,   1.,   3.,   0.,   2.]),\n",
       " array([ 1170. ,  5683.5, 10197. , 14710.5, 19224. , 23737.5, 28251. ,\n",
       "        32764.5, 37278. , 41791.5, 46305. ]),\n",
       " <BarContainer object of 10 artists>)"
      ]
     },
     "execution_count": 8,
     "metadata": {},
     "output_type": "execute_result"
    },
    {
     "data": {
      "image/png": "[encoded data removed]",
      "text/plain": [
       "<Figure size 432x288 with 1 Axes>"
      ]
     },
     "metadata": {
      "needs_background": "light"
     },
     "output_type": "display_data"
    }
   ],
   "source": [
    "plt.hist(library_sizes)"
   ]
  },
  {
   "cell_type": "code",
   "execution_count": 16,
   "metadata": {},
   "outputs": [
    {
     "data": {
      "image/png": "[encoded data removed]",
      "text/plain": [
       "<Figure size 576x1152 with 20 Axes>"
      ]
     },
     "metadata": {
      "needs_background": "light"
     },
     "output_type": "display_data"
    }
   ],
   "source": [
    "#labels = ['V39', 'D40', 'G41', 'V54']\n",
    "labels = ['Y182', 'V183', 'F184', 'S186']\n",
    "\n",
    "font = {'family' : 'arial',\n",
    "        'size'   : 16}\n",
    "mpl.rc('font', **font)\n",
    "mpl.rc('lines', linewidth=2)\n",
    "mpl.rcParams['axes.linewidth'] = 2\n",
    "mpl.rcParams['xtick.major.width'] = 2\n",
    "mpl.rcParams['ytick.major.width'] = 2\n",
    "\n",
    "#counts = counts.reindex(labels2)\n",
    "plt.figure(figsize = (8,16))\n",
    "\n",
    "for i, index in enumerate(order[:10]):\n",
    "        data = unique_AA_encodings[index,:,0].reshape((4,21))\n",
    "\n",
    "        plt.subplot(10,1,i+1)\n",
    "        sns.heatmap(data, vmin = 0, vmax = 1728/4, yticklabels=labels, xticklabels=ALL_AAS, linewidths=2, cmap = 'viridis')\n",
    "        plt.xlabel('Amino acid residue')\n",
    "\n",
    "#plt.savefig('AAs0.jpg', dpi=500)"
   ]
  },
  {
   "cell_type": "code",
   "execution_count": 12,
   "metadata": {},
   "outputs": [
    {
     "data": {
      "text/plain": [
       "15.967978192865166"
      ]
     },
     "execution_count": 12,
     "metadata": {},
     "output_type": "execute_result"
    }
   ],
   "source": [
    "coverages[163]"
   ]
  },
  {
   "cell_type": "code",
   "execution_count": 13,
   "metadata": {},
   "outputs": [
    {
     "data": {
      "text/plain": [
       "20.927013620941384"
      ]
     },
     "execution_count": 13,
     "metadata": {},
     "output_type": "execute_result"
    }
   ],
   "source": [
    "coverages[229]"
   ]
  },
  {
   "cell_type": "code",
   "execution_count": 16,
   "metadata": {},
   "outputs": [],
   "source": [
    "np.save('simple_stochastic_TrpB_exp25.npy', unique_encodings)"
   ]
  },
  {
   "attachments": {},
   "cell_type": "markdown",
   "metadata": {},
   "source": [
    "Get the best encodings and mix them together"
   ]
  },
  {
   "cell_type": "code",
   "execution_count": 25,
   "metadata": {},
   "outputs": [],
   "source": [
    "results2 = np.load('dclo/saved/coverage_simple_stochastic_TrpB/results.npy', allow_pickle=True)\n",
    "means2 = results2.item()['means']\n",
    "final_means2 = means2[-1, :, :]\n",
    "coverages = final_means2[:,0] #full coverage hamming\n",
    "order = coverages.argsort()\n",
    "ranks1 = order.argsort()"
   ]
  },
  {
   "cell_type": "code",
   "execution_count": 20,
   "metadata": {},
   "outputs": [
    {
     "data": {
      "text/plain": [
       "array([ 67,  77,  95, 140, 144, 168, 170, 185, 209, 230])"
      ]
     },
     "execution_count": 20,
     "metadata": {},
     "output_type": "execute_result"
    }
   ],
   "source": [
    "indices = np.where(ranks1 >= 230)[0]\n",
    "indices"
   ]
  },
  {
   "cell_type": "code",
   "execution_count": 25,
   "metadata": {},
   "outputs": [
    {
     "data": {
      "text/plain": [
       "45"
      ]
     },
     "execution_count": 25,
     "metadata": {},
     "output_type": "execute_result"
    }
   ],
   "source": [
    "n_mix = 2\n",
    "all_combos = list(combinations(indices, n_mix))\n",
    "len(all_combos)"
   ]
  },
  {
   "cell_type": "code",
   "execution_count": 26,
   "metadata": {},
   "outputs": [],
   "source": [
    "new_encodings = np.zeros((len(all_combos), 48, n_mix))\n",
    "\n",
    "for i, combo in enumerate(all_combos):\n",
    "    for j, index in enumerate(combo):\n",
    "        new_encodings[i, :, j] = final_encodings[index, : , 0]\n",
    "\n",
    "new_encodings"
   ]
  },
  {
   "cell_type": "code",
   "execution_count": 28,
   "metadata": {},
   "outputs": [],
   "source": [
    "np.save('top10_mix2.npy', new_encodings)"
   ]
  },
  {
   "cell_type": "code",
   "execution_count": 12,
   "metadata": {},
   "outputs": [
    {
     "data": {
      "text/plain": [
       "Text(0.5, 0, 'total library size')"
      ]
     },
     "execution_count": 12,
     "metadata": {},
     "output_type": "execute_result"
    },
    {
     "data": {
      "image/png": "[encoded data removed]",
      "text/plain": [
       "<Figure size 432x288 with 1 Axes>"
      ]
     },
     "metadata": {
      "needs_background": "light"
     },
     "output_type": "display_data"
    }
   ],
   "source": [
    "#calculating library sizes\n",
    "sizes = []\n",
    "for i in range(240):\n",
    "    sizes.append(np.product(np.sum(final_encodings[i, :].reshape(12, 4), axis =1)))\n",
    "plt.hist(sizes)\n",
    "plt.xlabel('total library size')"
   ]
  },
  {
   "attachments": {},
   "cell_type": "markdown",
   "metadata": {},
   "source": [
    "### Linear regression to predict MLDE performance from the DC library embedding"
   ]
  },
  {
   "cell_type": "code",
   "execution_count": 11,
   "metadata": {},
   "outputs": [],
   "source": [
    "x = final_encodings[:, :, 0]"
   ]
  },
  {
   "cell_type": "code",
   "execution_count": 22,
   "metadata": {},
   "outputs": [],
   "source": [
    "y = all_maxes_medians.T"
   ]
  },
  {
   "cell_type": "code",
   "execution_count": 14,
   "metadata": {},
   "outputs": [
    {
     "data": {
      "text/plain": [
       "(1, 80)"
      ]
     },
     "execution_count": 14,
     "metadata": {},
     "output_type": "execute_result"
    }
   ],
   "source": [
    "y.shape"
   ]
  },
  {
   "cell_type": "code",
   "execution_count": 26,
   "metadata": {},
   "outputs": [
    {
     "name": "stdout",
     "output_type": "stream",
     "text": [
      "[[-3.08855924e+12 -2.30398156e-01  2.55604903e+11  3.19686947e-02\n",
      "  -1.51639861e-02 -1.97375348e-01 -1.22488352e-01  2.55604903e+11\n",
      "  -6.35024463e-02  4.91364596e-02 -6.77184796e-02  3.89862323e-02\n",
      "   2.55604903e+11 -4.61716021e-02 -7.31170996e-02  1.70403268e+11\n",
      "   1.70403268e+11 -2.69760150e-02  2.55604903e+11  2.55604903e+11\n",
      "   9.15527344e-05 -3.24958400e-04  1.70403268e+11 -1.77246236e-02\n",
      "   6.39012257e+10  6.39012257e+10  2.55604903e+11 -2.92098309e-02\n",
      "  -6.39012257e+10  6.39012257e+10  2.55604903e+11  0.00000000e+00\n",
      "   1.48638154e-01  2.04102229e-02 -7.17216287e-02  3.14941973e-02\n",
      "   2.55604903e+11  1.27802451e+11  2.55604903e+11 -6.21185193e-02\n",
      "  -3.15366972e-02  1.27802451e+11 -2.78533421e-02  2.55604903e+11\n",
      "   4.25697443e-02 -1.62168426e-02 -4.20195614e-02 -1.44713537e-02]]\n",
      "0.0\n"
     ]
    }
   ],
   "source": [
    "lr = LinearRegression(fit_intercept=False)\n",
    "lr.fit(x, y)\n",
    "y_pred = lr.predict(x)\n",
    "print(lr.coef_)\n",
    "print(lr.intercept_)"
   ]
  },
  {
   "cell_type": "code",
   "execution_count": 27,
   "metadata": {},
   "outputs": [
    {
     "name": "stdout",
     "output_type": "stream",
     "text": [
      "SpearmanrResult(correlation=0.9168699721491654, pvalue=7.635588694635967e-33)\n"
     ]
    },
    {
     "data": {
      "image/png": "[encoded data removed]",
      "text/plain": [
       "<Figure size 432x288 with 1 Axes>"
      ]
     },
     "metadata": {
      "needs_background": "light"
     },
     "output_type": "display_data"
    }
   ],
   "source": [
    "plt.plot(y_pred, y, '.')\n",
    "print(spearmanr(y_pred, y))"
   ]
  },
  {
   "cell_type": "code",
   "execution_count": 32,
   "metadata": {},
   "outputs": [
    {
     "data": {
      "text/plain": [
       "array([0, 1, 0, 1, 0, 1, 0, 1, 1, 0, 1, 1, 0, 1, 0, 0, 1, 0, 0, 0, 0, 0,\n",
       "       1, 1, 1, 1, 1, 1, 0, 1, 0, 1, 0, 1, 1, 1, 1, 0, 1, 1, 0, 0, 1, 1,\n",
       "       0, 1, 0, 0, 1, 0, 1, 1, 0, 0, 1, 0, 0, 1, 0, 0, 1, 0, 0, 1, 0, 1,\n",
       "       0, 0, 1, 0, 1, 0, 1, 0, 0, 1, 0, 0, 1, 0])"
      ]
     },
     "execution_count": 32,
     "metadata": {},
     "output_type": "execute_result"
    }
   ],
   "source": [
    "x[:,5]"
   ]
  },
  {
   "cell_type": "markdown",
   "metadata": {},
   "source": [
    "### Visualize the optimization trajectory"
   ]
  },
  {
   "cell_type": "code",
   "execution_count": 4,
   "metadata": {},
   "outputs": [],
   "source": [
    "def trajectory_plot2(means):\n",
    "    overall_means = np.mean(means, axis = 1)\n",
    "    overall_stds = np.std(means, axis = 1)\n",
    "\n",
    "    fig, (ax1, ax2) = plt.subplots(figsize=(12, 5), nrows=1, ncols=2)\n",
    "    iters = 120\n",
    "    ax1.set_xlim(0, iters)\n",
    "    ax2.set_xlim(0, iters)\n",
    "    #ax1.set_ylim(0, 160000)\n",
    "    #ax2.set_ylim(0, 384)\n",
    "    ax1.plot(overall_means[:,0], 'r')\n",
    "    ax1.fill_between(list(range(iters)), overall_means[:,0] - overall_stds[:,0], overall_means[:,0] + overall_stds[:,0], alpha=0.3, facecolor='r')\n",
    "    ax1.plot(overall_means[:,2], 'r--')\n",
    "    ax1.fill_between(list(range(iters)), overall_means[:,2] - overall_stds[:,2], overall_means[:,2] + overall_stds[:,2], alpha=0.3, facecolor='r')\n",
    "    plt.legend(['Score', 'Raw Score'], loc = 'lower right')\n",
    "\n",
    "    ax2.plot(overall_means[:,3], 'b--')\n",
    "    ax2.plot(overall_means[:,4], 'b-')\n",
    "    ax2.fill_between(list(range(iters)), overall_means[:,4] - overall_stds[:,4], overall_means[:,4] + overall_stds[:,4], alpha=0.3, facecolor='b')\n",
    "    ax2.fill_between(list(range(iters)), overall_means[:,3] - overall_stds[:,3], overall_means[:,3] + overall_stds[:,3], alpha=0.3, facecolor='b')\n",
    "\n",
    "    ax1.set_xlabel(\"Iterations\")\n",
    "    ax1.set_ylabel(\"Overall Score\", color='r')\n",
    "    ax1.tick_params(axis=\"y\", labelcolor='r')\n",
    "\n",
    "    ax2.set_ylabel(\"Counts\", color='b')\n",
    "    ax2.set_xlabel(\"Iterations\")\n",
    "    ax2.tick_params(axis=\"y\", labelcolor='b')\n",
    "\n",
    "    plt.legend(['Top 25%', 'Unique'], loc = 'lower right')\n",
    "    #plt.savefig('trajectory.jpg', dpi=500)"
   ]
  },
  {
   "cell_type": "code",
   "execution_count": 5,
   "metadata": {},
   "outputs": [
    {
     "name": "stderr",
     "output_type": "stream",
     "text": [
      "findfont: Font family ['arial'] not found. Falling back to DejaVu Sans.\n"
     ]
    },
    {
     "data": {
      "image/png": "[encoded data removed]",
      "text/plain": [
       "<Figure size 864x360 with 2 Axes>"
      ]
     },
     "metadata": {
      "needs_background": "light"
     },
     "output_type": "display_data"
    }
   ],
   "source": [
    "trajectory_plot2(means)"
   ]
  },
  {
   "cell_type": "code",
   "execution_count": 5,
   "metadata": {},
   "outputs": [
    {
     "data": {
      "image/png": "[encoded data removed]",
      "text/plain": [
       "<Figure size 864x360 with 2 Axes>"
      ]
     },
     "metadata": {
      "needs_background": "light"
     },
     "output_type": "display_data"
    }
   ],
   "source": [
    "trajectory_plot2(np.sqrt(vars))"
   ]
  },
  {
   "attachments": {},
   "cell_type": "markdown",
   "metadata": {},
   "source": [
    "### Visualize the initital and final libraries\n",
    "Analysis is independent but in reality, they effects are all coordinated\n",
    "\n",
    "#### for analyzing how similar the AA distributions are to each other"
   ]
  },
  {
   "cell_type": "code",
   "execution_count": 12,
   "metadata": {},
   "outputs": [
    {
     "name": "stdout",
     "output_type": "stream",
     "text": [
      "(78, 48, 1)\n",
      "(240, 48, 2)\n",
      "(122, 48, 1)\n",
      "(240, 48, 1)\n",
      "(31, 48, 1)\n"
     ]
    }
   ],
   "source": [
    "pure_random_AA_encoding = np.ones((1, 84)) * 6912/84 #needs to be adjusted if you are ignoring stop codons\n",
    "\n",
    "_, _, final_AA_encodings, _, _ = get_AA_encodings(final_encodings)\n",
    "\n",
    "_, _, final_AA_encodings2, _, _ = get_AA_encodings(final_encodings2)\n",
    "\n",
    "_, _, final_AA_encodings3, _, _ = get_AA_encodings(final_encodings3)\n",
    "\n",
    "_, _, initial_AA_encodings, _, _ = get_AA_encodings(initial_encodings)\n",
    "\n",
    "#for GB1 triad\n",
    "swiftlib_encodings = np.zeros((31, 48, 1))\n",
    "max10000 = [\"DYANNSGSADNS\", \"NHCNNSGGADNS\", \"VNCNNSGGADNS\", \"VWSNNSGGADNS\", \"NNCNDSGGADNS\", \"VHCNNSGGANNS\", \"VHSNNSGGANNC\", \"DYSNNSGGADNS\", \"VHANNSGGANNS\", \"NBCNNSGGADNS\"]\n",
    "max40000 = [\"NNSNNSGGANNS\", \"NHSNNSGSADNS\", \"NNSNDSGSADNS\", \"VNSNNSGSADNS\", \"VHSNNSGSANNS\", \"NNSDNSGSADNS\", \"DNSNNSGSADNS\", \"NDSNNSGSADNS\", \"NHSNDSGSANNS\", \"NNSNNSGSANNC\"]\n",
    "max160000 = [\"NNSNNSKSCNNS\", \"NNSNNSRSCNNS\", \"NNSNNSKSCDNS\", \"NHSNNSKSCNNS\", \"NNSNDSKSCNNS\", \"VNSNNSKSCNNS\", \"NNSNNSGSANNS\", \"NNSNNSRSCDNS\", \"NNMNNSKSCNNS\", \"NNSDNSKSCNNS\"]\n",
    "\n",
    "for i, encoding in enumerate(max10000 + max40000 + max160000 + [\"NNKNNKNNKNNK\"]):\n",
    "    swiftlib_encodings[i, :, :] = seq2encoding(encoding).T\n",
    "\n",
    "_, _, swiftlib_AA_encodings, _, _ = get_AA_encodings(swiftlib_encodings)\n",
    "\n",
    "#for GB1 ypred\n",
    "# swiftlib_AA_encodings = np.zeros((10, 84))\n",
    "# for i, encoding in enumerate([\n",
    "#             \"DNSNNCGCAGCA\",\n",
    "#             \"WDSNNSGCAGCA\",\n",
    "#             \"DKSNNSGCAGCA\",\n",
    "#             \"NNSNDCGCAGCA\",\n",
    "#             \"NDCNNSGCAGCA\",\n",
    "#             \"VTANNSGCAGCA\",\n",
    "#             \"NTCNDSGCAGCA\",\n",
    "#             \"NTCDNSGCAGCA\",\n",
    "#             \"DTSNNCGCAGCA\",\n",
    "#             \"BTCNNSGCAGCA\"\n",
    "#         ],):\n",
    "#     encoding = seq2encoding(encoding)\n",
    "#     encoding = encoding.reshape(4, 12)\n",
    "#     for j, row in enumerate(encoding):\n",
    "#         swiftlib_AA_encodings[i,21*j:21*(j+1)] = np.array(list(mixedcodon2aaprobs(encoding).values()))\n",
    "\n",
    "#for TrpB\n",
    "# swiftlib_AA_encodings = np.zeros((3, 84))\n",
    "# for i, encoding in enumerate([\"TACNNSNNSDCA\", \"TACDNSNNSRSC\", \"TWCDNSNNSASC\"]):\n",
    "#     encoding = seq2encoding(encoding)\n",
    "#     encoding = encoding.reshape(4, 12)\n",
    "#     for j, row in enumerate(encoding):\n",
    "#         swiftlib_AA_encodings[i,21*j:21*(j+1)] = np.array(list(mixedcodon2aaprobs(encoding).values()))"
   ]
  },
  {
   "cell_type": "code",
   "execution_count": 13,
   "metadata": {},
   "outputs": [
    {
     "name": "stderr",
     "output_type": "stream",
     "text": [
      "/home/jyang4/miniconda3/envs/ProtGraphR/lib/python3.9/site-packages/sklearn/manifold/_t_sne.py:780: FutureWarning: The default initialization in TSNE will change from 'random' to 'pca' in 1.2.\n",
      "  warnings.warn(\n",
      "/home/jyang4/miniconda3/envs/ProtGraphR/lib/python3.9/site-packages/sklearn/manifold/_t_sne.py:790: FutureWarning: The default learning rate in TSNE will change from 200.0 to 'auto' in 1.2.\n",
      "  warnings.warn(\n"
     ]
    }
   ],
   "source": [
    "#all_encodings = np.concatenate((initial_encodings, final_encodings))\n",
    "#all_encodings = np.concatenate((initial_AA_encodings, final_AA_encodings, final_TrpB_AA_encodings, swiftlib_AA_encodings, pure_random_AA_encoding))\n",
    "all_encodings = np.concatenate((initial_AA_encodings[:,:,0], final_AA_encodings[:,:,0], final_AA_encodings2[:,:,1], final_AA_encodings3[:,:,0], np.squeeze(swiftlib_AA_encodings), pure_random_AA_encoding))\n",
    "\n",
    "np.random.seed(42)\n",
    "tsne = TSNE(n_components=2)\n",
    "transformed = tsne.fit_transform(all_encodings)\n",
    "\n",
    "#pca = PCA(n_components=2)\n",
    "#transformed = pca.fit_transform(all_encodings)"
   ]
  },
  {
   "cell_type": "code",
   "execution_count": 16,
   "metadata": {},
   "outputs": [
    {
     "name": "stderr",
     "output_type": "stream",
     "text": [
      "/home/jyang4/miniconda3/envs/ProtGraphR/lib/python3.9/site-packages/seaborn/_decorators.py:36: FutureWarning: Pass the following variables as keyword args: x, y. From version 0.12, the only valid positional argument will be `data`, and passing other arguments without an explicit keyword will result in an error or misinterpretation.\n",
      "  warnings.warn(\n"
     ]
    },
    {
     "data": {
      "text/plain": [
       "<matplotlib.legend.Legend at 0x7fd9a058bd30>"
      ]
     },
     "execution_count": 16,
     "metadata": {},
     "output_type": "execute_result"
    },
    {
     "data": {
      "image/png": "[encoded data removed]",
      "text/plain": [
       "<Figure size 288x288 with 1 Axes>"
      ]
     },
     "metadata": {
      "needs_background": "light"
     },
     "output_type": "display_data"
    }
   ],
   "source": [
    "from mimetypes import init\n",
    "\n",
    "font = {'family' : 'arial',\n",
    "        'size'   : 16}\n",
    "mpl.rc('font', **font)\n",
    "mpl.rc('lines', linewidth=2)\n",
    "mpl.rcParams['axes.linewidth'] = 2\n",
    "mpl.rcParams['xtick.major.width'] = 2\n",
    "mpl.rcParams['ytick.major.width'] = 2\n",
    "\n",
    "#pca = PCA(n_components=2)\n",
    "#transformed = pca.fit_transform(initial_encodings)\n",
    "#print(pca.explained_variance_ratio_)\n",
    "\n",
    "plt.figure(figsize = (4, 4))\n",
    "#plt.tight_layout()\n",
    "#plt.subplot(1, 2, 1)\n",
    "\n",
    "plt.plot(transformed[:240,0], transformed[:240,1], '.r')\n",
    "#plt.plot(transformed[240:480,0], transformed[240:480,1], '.b')\n",
    "#plt.plot(transformed[480:720,0], transformed[480:720,1], '.c')\n",
    "#plt.plot(transformed[720:960,0], transformed[720:960,1], '.m')\n",
    "\n",
    "plt.plot(transformed[-32:-22,0], transformed[-32:-22,1], 'ks')\n",
    "plt.plot(transformed[-22:-12,0], transformed[-22:-12,1], 'gs')\n",
    "plt.plot(transformed[-12:-2,0], transformed[-12:-2,1], 'ys')\n",
    "plt.plot(transformed[-2,0], transformed[-2,1], 'ys')\n",
    "plt.plot(transformed[-1,0], transformed[-1,1], 'ms')\n",
    "\n",
    "results2 = np.load('dclo/saved/coverage_simple_stochastic/results.npy', allow_pickle=True)\n",
    "means2 = results2.item()['means']\n",
    "final_means2 = means2[-1, :, :]\n",
    "coverages = final_means2[:,0] #full coverage hamming\n",
    "order = coverages.argsort()\n",
    "ranks1 = order.argsort()\n",
    "\n",
    "#sns.scatterplot(transformed[720:960,0], transformed[720:960,1], hue=all_maxes_medians.reshape(-1))\n",
    "\n",
    "# results2 = np.load('dclo/saved/coverage_simple_stochastic/results.npy', allow_pickle=True)\n",
    "# means2 = results2.item()['means']\n",
    "# final_means2 = means2[-1, :, :]\n",
    "# coverages = final_means2[:,0]\n",
    "#sns.scatterplot(transformed[720:960,0], transformed[720:960,1], hue=coverages)\n",
    "\n",
    "#sns.scatterplot(transformed[240:-5,0], transformed[240:-5,1], hue=medians)\n",
    "sns.scatterplot(transformed[240:480,0], transformed[240:480,1], hue=clusters, palette='tab10')\n",
    "\n",
    "\n",
    "plt.xlabel('t-SNE 1')\n",
    "plt.ylabel('t-SNE 2')\n",
    "#plt.title('Initial Libraries')\n",
    "#plt.xlim(-2, 2)\n",
    "#plt.ylim(-2, 2)\n",
    "\n",
    "# pca = PCA(n_components=2)\n",
    "# transformed = pca.fit_transform(final_encodings)\n",
    "# print(pca.explained_variance_ratio_)\n",
    "\n",
    "# tsne = TSNE(n_components=2)\n",
    "# transformed = tsne.fit_transform(final_encodings)\n",
    "\n",
    "# plt.subplot(1, 2, 2)\n",
    "\n",
    "\n",
    "#plt.plot(transformed[245,0], transformed[245,1], 'go')\n",
    "#plt.plot(transformed[249,0], transformed[249,1], 'go')\n",
    "\n",
    "# plt.xlabel('t-SNE 1')\n",
    "# plt.title('Optimized Libraries')\n",
    "#plt.xlim(-2, 2)\n",
    "#plt.ylim(-2, 2)\n",
    "\n",
    "#plt.legend(['Initial Libraries', 'Optimized Libraries', 'Case Studies'], bbox_to_anchor = (1.05, 0.7))\n",
    "plt.legend(bbox_to_anchor = (1.05, 0.7))\n",
    "#plt.savefig('tSNE.png', dpi = 500, bbox_inches='tight')"
   ]
  },
  {
   "cell_type": "code",
   "execution_count": 15,
   "metadata": {},
   "outputs": [
    {
     "data": {
      "text/plain": [
       "array([ 1,  0,  3,  6,  3,  3,  4,  4,  2,  4,  8,  0,  4,  3, 10,  4,  2,\n",
       "        2,  2,  6,  1,  2, 10,  5, 10,  2,  0,  2,  0,  0, 11,  4,  3,  5,\n",
       "       10,  3, 10,  8,  9,  9,  3, 10,  8,  4,  9,  0,  5,  9,  7,  6,  7,\n",
       "        0,  1, 10,  0,  5,  6,  3, 10,  4,  9,  4,  4,  4,  9, 10,  3,  1,\n",
       "        4, 10,  1,  7,  0,  3,  2,  8,  6,  0,  1,  4, 10, 10,  3,  1, 10,\n",
       "        3,  9,  0,  7,  2,  1,  3,  3,  4,  1,  2,  0,  1,  4,  7,  5,  3,\n",
       "        6,  4,  8,  2,  0,  4,  5,  6,  0,  5,  0,  8,  7,  6,  5,  3,  5,\n",
       "        0,  3,  1,  0,  0,  2,  1, 10,  2,  2,  1,  9,  6,  6,  8,  9,  2,\n",
       "        2,  1,  0, 10, 10,  8,  1,  2,  5,  8, 10,  0,  3,  3,  6, 11,  0,\n",
       "        2,  6,  3,  4,  3,  0, 10,  4,  4,  6, 11,  3,  1, 10,  3,  3,  8,\n",
       "        0,  4,  2,  3,  2,  2,  3,  5,  8,  6,  5,  5,  4,  6,  8,  1,  1,\n",
       "        8,  9,  0,  9,  4,  4,  1,  1, 10,  1,  0,  0,  5,  2,  6, 10,  8,\n",
       "        4,  8,  5,  4,  3,  2,  9,  3,  0,  2,  5,  2,  5,  3, 10,  0,  1,\n",
       "        2,  2,  3, 10,  9,  3, 11,  2,  7,  2,  0,  7,  2,  2,  2,  5,  6,\n",
       "        2,  6], dtype=int32)"
      ]
     },
     "execution_count": 15,
     "metadata": {},
     "output_type": "execute_result"
    }
   ],
   "source": [
    "model = KMeans(12)\n",
    "clusters = model.fit_predict(transformed[240:480])\n",
    "clusters"
   ]
  },
  {
   "cell_type": "code",
   "execution_count": 219,
   "metadata": {},
   "outputs": [
    {
     "data": {
      "text/html": [
       "<div>\n",
       "<style scoped>\n",
       "    .dataframe tbody tr th:only-of-type {\n",
       "        vertical-align: middle;\n",
       "    }\n",
       "\n",
       "    .dataframe tbody tr th {\n",
       "        vertical-align: top;\n",
       "    }\n",
       "\n",
       "    .dataframe thead th {\n",
       "        text-align: right;\n",
       "    }\n",
       "</style>\n",
       "<table border=\"1\" class=\"dataframe\">\n",
       "  <thead>\n",
       "    <tr style=\"text-align: right;\">\n",
       "      <th></th>\n",
       "      <th>AAencoding1</th>\n",
       "      <th>AAencoding2</th>\n",
       "      <th>Cluster1</th>\n",
       "      <th>Cluster2</th>\n",
       "      <th>Boosting Max</th>\n",
       "      <th>Coverage</th>\n",
       "      <th>tSNE1</th>\n",
       "      <th>tSNE2</th>\n",
       "      <th>distance</th>\n",
       "      <th>full_distance</th>\n",
       "    </tr>\n",
       "  </thead>\n",
       "  <tbody>\n",
       "    <tr>\n",
       "      <th>0</th>\n",
       "      <td>[0.0, 0.0, 0.0, 0.0, 0.0, 0.0, 0.0, 576.0, 0.0...</td>\n",
       "      <td>[192.0, 128.0, 0.0, 0.0, 128.0, 192.0, 0.0, 12...</td>\n",
       "      <td>7</td>\n",
       "      <td>2</td>\n",
       "      <td>0.617493</td>\n",
       "      <td>23.244197</td>\n",
       "      <td>[-26.09448, 13.99217]</td>\n",
       "      <td>[53.286095, -2.1562438]</td>\n",
       "      <td>81.006463</td>\n",
       "      <td>1464.502646</td>\n",
       "    </tr>\n",
       "    <tr>\n",
       "      <th>1</th>\n",
       "      <td>[0.0, 0.0, 0.0, 0.0, 0.0, 0.0, 0.0, 576.0, 0.0...</td>\n",
       "      <td>[216.0, 0.0, 108.0, 108.0, 0.0, 216.0, 0.0, 10...</td>\n",
       "      <td>7</td>\n",
       "      <td>3</td>\n",
       "      <td>0.707733</td>\n",
       "      <td>23.353671</td>\n",
       "      <td>[-24.00987, 13.519274]</td>\n",
       "      <td>[-24.172789, -1.7338996]</td>\n",
       "      <td>15.254043</td>\n",
       "      <td>1444.393298</td>\n",
       "    </tr>\n",
       "    <tr>\n",
       "      <th>2</th>\n",
       "      <td>[216.0, 0.0, 108.0, 108.0, 0.0, 216.0, 0.0, 10...</td>\n",
       "      <td>[288.0, 0.0, 0.0, 0.0, 144.0, 0.0, 0.0, 216.0,...</td>\n",
       "      <td>2</td>\n",
       "      <td>0</td>\n",
       "      <td>0.687614</td>\n",
       "      <td>23.681335</td>\n",
       "      <td>[52.626415, 6.3773384]</td>\n",
       "      <td>[10.970732, -11.692252]</td>\n",
       "      <td>45.406014</td>\n",
       "      <td>1240.387036</td>\n",
       "    </tr>\n",
       "    <tr>\n",
       "      <th>3</th>\n",
       "      <td>[0.0, 0.0, 0.0, 0.0, 0.0, 0.0, 0.0, 384.0, 0.0...</td>\n",
       "      <td>[288.0, 0.0, 0.0, 0.0, 192.0, 0.0, 0.0, 288.0,...</td>\n",
       "      <td>7</td>\n",
       "      <td>0</td>\n",
       "      <td>0.862463</td>\n",
       "      <td>22.953738</td>\n",
       "      <td>[-24.019543, 7.8174706]</td>\n",
       "      <td>[8.821808, -4.9138837]</td>\n",
       "      <td>35.222744</td>\n",
       "      <td>1415.389699</td>\n",
       "    </tr>\n",
       "    <tr>\n",
       "      <th>4</th>\n",
       "      <td>[288.0, 0.0, 0.0, 0.0, 0.0, 0.0, 0.0, 288.0, 0...</td>\n",
       "      <td>[0.0, 144.0, 144.0, 0.0, 144.0, 144.0, 144.0, ...</td>\n",
       "      <td>0</td>\n",
       "      <td>6</td>\n",
       "      <td>0.825004</td>\n",
       "      <td>23.627419</td>\n",
       "      <td>[5.1837177, -5.3372426]</td>\n",
       "      <td>[38.894146, 13.482553]</td>\n",
       "      <td>38.608000</td>\n",
       "      <td>1296.888584</td>\n",
       "    </tr>\n",
       "    <tr>\n",
       "      <th>...</th>\n",
       "      <td>...</td>\n",
       "      <td>...</td>\n",
       "      <td>...</td>\n",
       "      <td>...</td>\n",
       "      <td>...</td>\n",
       "      <td>...</td>\n",
       "      <td>...</td>\n",
       "      <td>...</td>\n",
       "      <td>...</td>\n",
       "      <td>...</td>\n",
       "    </tr>\n",
       "    <tr>\n",
       "      <th>235</th>\n",
       "      <td>[0.0, 0.0, 144.0, 144.0, 0.0, 0.0, 144.0, 216....</td>\n",
       "      <td>[216.0, 0.0, 108.0, 108.0, 0.0, 216.0, 0.0, 10...</td>\n",
       "      <td>2</td>\n",
       "      <td>1</td>\n",
       "      <td>0.658760</td>\n",
       "      <td>22.534080</td>\n",
       "      <td>[44.359184, 2.343974]</td>\n",
       "      <td>[29.829584, 45.656666]</td>\n",
       "      <td>45.684774</td>\n",
       "      <td>1603.516136</td>\n",
       "    </tr>\n",
       "    <tr>\n",
       "      <th>236</th>\n",
       "      <td>[216.0, 0.0, 108.0, 108.0, 0.0, 216.0, 0.0, 10...</td>\n",
       "      <td>[0.0, 0.0, 144.0, 144.0, 0.0, 0.0, 144.0, 144....</td>\n",
       "      <td>3</td>\n",
       "      <td>5</td>\n",
       "      <td>0.825004</td>\n",
       "      <td>23.670006</td>\n",
       "      <td>[-24.419033, -1.8264208]</td>\n",
       "      <td>[-5.0754743, 9.437583]</td>\n",
       "      <td>22.384170</td>\n",
       "      <td>1167.427942</td>\n",
       "    </tr>\n",
       "    <tr>\n",
       "      <th>237</th>\n",
       "      <td>[216.0, 0.0, 72.0, 144.0, 0.0, 216.0, 0.0, 144...</td>\n",
       "      <td>[216.0, 0.0, 216.0, 0.0, 0.0, 216.0, 0.0, 216....</td>\n",
       "      <td>0</td>\n",
       "      <td>3</td>\n",
       "      <td>0.794447</td>\n",
       "      <td>22.911613</td>\n",
       "      <td>[-0.93521804, -10.4958935]</td>\n",
       "      <td>[-28.708641, 0.8066234]</td>\n",
       "      <td>29.985162</td>\n",
       "      <td>1246.152479</td>\n",
       "    </tr>\n",
       "    <tr>\n",
       "      <th>238</th>\n",
       "      <td>[288.0, 0.0, 0.0, 0.0, 144.0, 0.0, 0.0, 144.0,...</td>\n",
       "      <td>[0.0, 0.0, 128.0, 64.0, 0.0, 192.0, 128.0, 128...</td>\n",
       "      <td>0</td>\n",
       "      <td>4</td>\n",
       "      <td>0.707733</td>\n",
       "      <td>23.712017</td>\n",
       "      <td>[10.06345, -10.251858]</td>\n",
       "      <td>[-5.2175155, 42.185116]</td>\n",
       "      <td>54.618166</td>\n",
       "      <td>1244.405079</td>\n",
       "    </tr>\n",
       "    <tr>\n",
       "      <th>239</th>\n",
       "      <td>[288.0, 0.0, 0.0, 0.0, 96.0, 0.0, 0.0, 192.0, ...</td>\n",
       "      <td>[0.0, 144.0, 144.0, 0.0, 144.0, 144.0, 144.0, ...</td>\n",
       "      <td>0</td>\n",
       "      <td>1</td>\n",
       "      <td>0.931106</td>\n",
       "      <td>23.189448</td>\n",
       "      <td>[9.802597, -0.70436686]</td>\n",
       "      <td>[22.916264, 44.398296]</td>\n",
       "      <td>46.970400</td>\n",
       "      <td>1779.887637</td>\n",
       "    </tr>\n",
       "  </tbody>\n",
       "</table>\n",
       "<p>240 rows × 10 columns</p>\n",
       "</div>"
      ],
      "text/plain": [
       "                                           AAencoding1  \\\n",
       "0    [0.0, 0.0, 0.0, 0.0, 0.0, 0.0, 0.0, 576.0, 0.0...   \n",
       "1    [0.0, 0.0, 0.0, 0.0, 0.0, 0.0, 0.0, 576.0, 0.0...   \n",
       "2    [216.0, 0.0, 108.0, 108.0, 0.0, 216.0, 0.0, 10...   \n",
       "3    [0.0, 0.0, 0.0, 0.0, 0.0, 0.0, 0.0, 384.0, 0.0...   \n",
       "4    [288.0, 0.0, 0.0, 0.0, 0.0, 0.0, 0.0, 288.0, 0...   \n",
       "..                                                 ...   \n",
       "235  [0.0, 0.0, 144.0, 144.0, 0.0, 0.0, 144.0, 216....   \n",
       "236  [216.0, 0.0, 108.0, 108.0, 0.0, 216.0, 0.0, 10...   \n",
       "237  [216.0, 0.0, 72.0, 144.0, 0.0, 216.0, 0.0, 144...   \n",
       "238  [288.0, 0.0, 0.0, 0.0, 144.0, 0.0, 0.0, 144.0,...   \n",
       "239  [288.0, 0.0, 0.0, 0.0, 96.0, 0.0, 0.0, 192.0, ...   \n",
       "\n",
       "                                           AAencoding2  Cluster1  Cluster2  \\\n",
       "0    [192.0, 128.0, 0.0, 0.0, 128.0, 192.0, 0.0, 12...         7         2   \n",
       "1    [216.0, 0.0, 108.0, 108.0, 0.0, 216.0, 0.0, 10...         7         3   \n",
       "2    [288.0, 0.0, 0.0, 0.0, 144.0, 0.0, 0.0, 216.0,...         2         0   \n",
       "3    [288.0, 0.0, 0.0, 0.0, 192.0, 0.0, 0.0, 288.0,...         7         0   \n",
       "4    [0.0, 144.0, 144.0, 0.0, 144.0, 144.0, 144.0, ...         0         6   \n",
       "..                                                 ...       ...       ...   \n",
       "235  [216.0, 0.0, 108.0, 108.0, 0.0, 216.0, 0.0, 10...         2         1   \n",
       "236  [0.0, 0.0, 144.0, 144.0, 0.0, 0.0, 144.0, 144....         3         5   \n",
       "237  [216.0, 0.0, 216.0, 0.0, 0.0, 216.0, 0.0, 216....         0         3   \n",
       "238  [0.0, 0.0, 128.0, 64.0, 0.0, 192.0, 128.0, 128...         0         4   \n",
       "239  [0.0, 144.0, 144.0, 0.0, 144.0, 144.0, 144.0, ...         0         1   \n",
       "\n",
       "     Boosting Max   Coverage                       tSNE1  \\\n",
       "0        0.617493  23.244197       [-26.09448, 13.99217]   \n",
       "1        0.707733  23.353671      [-24.00987, 13.519274]   \n",
       "2        0.687614  23.681335      [52.626415, 6.3773384]   \n",
       "3        0.862463  22.953738     [-24.019543, 7.8174706]   \n",
       "4        0.825004  23.627419     [5.1837177, -5.3372426]   \n",
       "..            ...        ...                         ...   \n",
       "235      0.658760  22.534080       [44.359184, 2.343974]   \n",
       "236      0.825004  23.670006    [-24.419033, -1.8264208]   \n",
       "237      0.794447  22.911613  [-0.93521804, -10.4958935]   \n",
       "238      0.707733  23.712017      [10.06345, -10.251858]   \n",
       "239      0.931106  23.189448     [9.802597, -0.70436686]   \n",
       "\n",
       "                        tSNE2   distance  full_distance  \n",
       "0     [53.286095, -2.1562438]  81.006463    1464.502646  \n",
       "1    [-24.172789, -1.7338996]  15.254043    1444.393298  \n",
       "2     [10.970732, -11.692252]  45.406014    1240.387036  \n",
       "3      [8.821808, -4.9138837]  35.222744    1415.389699  \n",
       "4      [38.894146, 13.482553]  38.608000    1296.888584  \n",
       "..                        ...        ...            ...  \n",
       "235    [29.829584, 45.656666]  45.684774    1603.516136  \n",
       "236    [-5.0754743, 9.437583]  22.384170    1167.427942  \n",
       "237   [-28.708641, 0.8066234]  29.985162    1246.152479  \n",
       "238   [-5.2175155, 42.185116]  54.618166    1244.405079  \n",
       "239    [22.916264, 44.398296]  46.970400    1779.887637  \n",
       "\n",
       "[240 rows x 10 columns]"
      ]
     },
     "execution_count": 219,
     "metadata": {},
     "output_type": "execute_result"
    }
   ],
   "source": [
    "df = pd.DataFrame()\n",
    "df['AAencoding1'] = list(final_AA_encodings[:,:,0])\n",
    "df['AAencoding2'] = list(final_AA_encodings[:,:,1])\n",
    "df['Cluster1'] = clusters[:240]\n",
    "df['Cluster2'] = clusters[240:]\n",
    "df['Boosting Max'] = all_maxes_medians.T\n",
    "\n",
    "results2 = np.load('dclo/saved/coverage_simple_stochastic_mix2/results.npy', allow_pickle=True)\n",
    "means2 = results2.item()['means']\n",
    "final_means2 = means2[-1, :, :]\n",
    "coverages = final_means2[:,0]\n",
    "\n",
    "df['Coverage'] = coverages\n",
    "df['tSNE1'] = list(transformed[240:480])\n",
    "df['tSNE2'] = list(transformed[480:720])\n",
    "df['distance'] = df.apply(lambda x: math.dist(x.tSNE1, x.tSNE2), axis=1)\n",
    "df['full_distance'] = df.apply(lambda x: math.dist(x.AAencoding1, x.AAencoding2), axis=1)\n",
    "df"
   ]
  },
  {
   "cell_type": "code",
   "execution_count": 227,
   "metadata": {},
   "outputs": [],
   "source": [
    "df['Coverage Rank'] = df['Coverage'].rank(ascending=False)\n",
    "df['Distance Rank'] = df['distance'].rank(ascending=False)\n",
    "df['Score'] = df['Coverage Rank'] + df['Distance Rank']"
   ]
  },
  {
   "cell_type": "code",
   "execution_count": 230,
   "metadata": {},
   "outputs": [
    {
     "data": {
      "text/html": [
       "<div>\n",
       "<style scoped>\n",
       "    .dataframe tbody tr th:only-of-type {\n",
       "        vertical-align: middle;\n",
       "    }\n",
       "\n",
       "    .dataframe tbody tr th {\n",
       "        vertical-align: top;\n",
       "    }\n",
       "\n",
       "    .dataframe thead th {\n",
       "        text-align: right;\n",
       "    }\n",
       "</style>\n",
       "<table border=\"1\" class=\"dataframe\">\n",
       "  <thead>\n",
       "    <tr style=\"text-align: right;\">\n",
       "      <th></th>\n",
       "      <th>AAencoding1</th>\n",
       "      <th>AAencoding2</th>\n",
       "      <th>Cluster1</th>\n",
       "      <th>Cluster2</th>\n",
       "      <th>Boosting Max</th>\n",
       "      <th>Coverage</th>\n",
       "      <th>tSNE1</th>\n",
       "      <th>tSNE2</th>\n",
       "      <th>distance</th>\n",
       "      <th>full_distance</th>\n",
       "      <th>Coverage Rank</th>\n",
       "      <th>Distance Rank</th>\n",
       "      <th>Score</th>\n",
       "    </tr>\n",
       "  </thead>\n",
       "  <tbody>\n",
       "    <tr>\n",
       "      <th>123</th>\n",
       "      <td>[0.0, 0.0, 144.0, 144.0, 0.0, 0.0, 144.0, 144....</td>\n",
       "      <td>[192.0, 96.0, 0.0, 0.0, 96.0, 192.0, 0.0, 96.0...</td>\n",
       "      <td>3</td>\n",
       "      <td>2</td>\n",
       "      <td>0.620935</td>\n",
       "      <td>23.891543</td>\n",
       "      <td>[-21.468767, -1.0428566]</td>\n",
       "      <td>[50.093643, -6.6015882]</td>\n",
       "      <td>71.777978</td>\n",
       "      <td>1472.825855</td>\n",
       "      <td>9.0</td>\n",
       "      <td>26.0</td>\n",
       "      <td>35.0</td>\n",
       "    </tr>\n",
       "    <tr>\n",
       "      <th>7</th>\n",
       "      <td>[0.0, 0.0, 144.0, 144.0, 0.0, 0.0, 144.0, 216....</td>\n",
       "      <td>[192.0, 128.0, 0.0, 0.0, 128.0, 192.0, 0.0, 12...</td>\n",
       "      <td>4</td>\n",
       "      <td>2</td>\n",
       "      <td>0.707733</td>\n",
       "      <td>23.687387</td>\n",
       "      <td>[-7.4123287, 49.26789]</td>\n",
       "      <td>[49.558144, -4.6645484]</td>\n",
       "      <td>78.449619</td>\n",
       "      <td>1553.442628</td>\n",
       "      <td>31.0</td>\n",
       "      <td>10.0</td>\n",
       "      <td>41.0</td>\n",
       "    </tr>\n",
       "    <tr>\n",
       "      <th>203</th>\n",
       "      <td>[0.0, 0.0, 144.0, 144.0, 0.0, 0.0, 144.0, 144....</td>\n",
       "      <td>[192.0, 128.0, 0.0, 0.0, 128.0, 192.0, 0.0, 12...</td>\n",
       "      <td>2</td>\n",
       "      <td>3</td>\n",
       "      <td>0.579242</td>\n",
       "      <td>23.783709</td>\n",
       "      <td>[45.133095, 2.141658]</td>\n",
       "      <td>[-24.329426, -3.5041726]</td>\n",
       "      <td>69.691586</td>\n",
       "      <td>1432.290473</td>\n",
       "      <td>20.0</td>\n",
       "      <td>31.0</td>\n",
       "      <td>51.0</td>\n",
       "    </tr>\n",
       "    <tr>\n",
       "      <th>37</th>\n",
       "      <td>[0.0, 0.0, 144.0, 144.0, 0.0, 0.0, 144.0, 144....</td>\n",
       "      <td>[144.0, 144.0, 144.0, 0.0, 144.0, 144.0, 0.0, ...</td>\n",
       "      <td>5</td>\n",
       "      <td>2</td>\n",
       "      <td>0.862211</td>\n",
       "      <td>23.886766</td>\n",
       "      <td>[-9.840033, 2.2111223]</td>\n",
       "      <td>[57.173042, 0.50591934]</td>\n",
       "      <td>67.034767</td>\n",
       "      <td>1292.439554</td>\n",
       "      <td>11.0</td>\n",
       "      <td>43.0</td>\n",
       "      <td>54.0</td>\n",
       "    </tr>\n",
       "    <tr>\n",
       "      <th>179</th>\n",
       "      <td>[216.0, 0.0, 108.0, 108.0, 0.0, 216.0, 0.0, 10...</td>\n",
       "      <td>[0.0, 0.0, 144.0, 144.0, 0.0, 0.0, 144.0, 216....</td>\n",
       "      <td>2</td>\n",
       "      <td>4</td>\n",
       "      <td>0.707733</td>\n",
       "      <td>23.633468</td>\n",
       "      <td>[54.00764, 5.179919]</td>\n",
       "      <td>[-6.625497, 48.162216]</td>\n",
       "      <td>74.322643</td>\n",
       "      <td>1489.547582</td>\n",
       "      <td>41.0</td>\n",
       "      <td>17.0</td>\n",
       "      <td>58.0</td>\n",
       "    </tr>\n",
       "    <tr>\n",
       "      <th>...</th>\n",
       "      <td>...</td>\n",
       "      <td>...</td>\n",
       "      <td>...</td>\n",
       "      <td>...</td>\n",
       "      <td>...</td>\n",
       "      <td>...</td>\n",
       "      <td>...</td>\n",
       "      <td>...</td>\n",
       "      <td>...</td>\n",
       "      <td>...</td>\n",
       "      <td>...</td>\n",
       "      <td>...</td>\n",
       "      <td>...</td>\n",
       "    </tr>\n",
       "    <tr>\n",
       "      <th>18</th>\n",
       "      <td>[0.0, 0.0, 144.0, 144.0, 0.0, 0.0, 144.0, 288....</td>\n",
       "      <td>[216.0, 0.0, 108.0, 108.0, 0.0, 216.0, 0.0, 16...</td>\n",
       "      <td>2</td>\n",
       "      <td>2</td>\n",
       "      <td>0.598350</td>\n",
       "      <td>22.894687</td>\n",
       "      <td>[44.408455, 1.1046387]</td>\n",
       "      <td>[54.014908, 5.0585136]</td>\n",
       "      <td>10.388314</td>\n",
       "      <td>694.809326</td>\n",
       "      <td>199.0</td>\n",
       "      <td>232.0</td>\n",
       "      <td>431.0</td>\n",
       "    </tr>\n",
       "    <tr>\n",
       "      <th>122</th>\n",
       "      <td>[144.0, 144.0, 144.0, 0.0, 144.0, 144.0, 0.0, ...</td>\n",
       "      <td>[0.0, 0.0, 96.0, 96.0, 0.0, 192.0, 96.0, 96.0,...</td>\n",
       "      <td>6</td>\n",
       "      <td>6</td>\n",
       "      <td>0.598350</td>\n",
       "      <td>22.807631</td>\n",
       "      <td>[39.78919, 19.35272]</td>\n",
       "      <td>[40.083176, 14.29354]</td>\n",
       "      <td>5.067715</td>\n",
       "      <td>874.601624</td>\n",
       "      <td>208.0</td>\n",
       "      <td>238.0</td>\n",
       "      <td>446.0</td>\n",
       "    </tr>\n",
       "    <tr>\n",
       "      <th>80</th>\n",
       "      <td>[216.0, 0.0, 108.0, 108.0, 0.0, 216.0, 0.0, 21...</td>\n",
       "      <td>[144.0, 144.0, 144.0, 0.0, 144.0, 144.0, 0.0, ...</td>\n",
       "      <td>2</td>\n",
       "      <td>2</td>\n",
       "      <td>0.600127</td>\n",
       "      <td>22.657523</td>\n",
       "      <td>[52.705395, 7.3794713]</td>\n",
       "      <td>[58.668625, 3.705927]</td>\n",
       "      <td>7.003930</td>\n",
       "      <td>979.746906</td>\n",
       "      <td>218.0</td>\n",
       "      <td>237.0</td>\n",
       "      <td>455.0</td>\n",
       "    </tr>\n",
       "    <tr>\n",
       "      <th>169</th>\n",
       "      <td>[0.0, 0.0, 0.0, 0.0, 0.0, 0.0, 0.0, 432.0, 0.0...</td>\n",
       "      <td>[0.0, 0.0, 0.0, 0.0, 0.0, 0.0, 0.0, 576.0, 0.0...</td>\n",
       "      <td>7</td>\n",
       "      <td>7</td>\n",
       "      <td>0.825004</td>\n",
       "      <td>22.308790</td>\n",
       "      <td>[-13.397488, 10.4982]</td>\n",
       "      <td>[-26.964125, 12.267299]</td>\n",
       "      <td>13.681497</td>\n",
       "      <td>1013.129804</td>\n",
       "      <td>229.0</td>\n",
       "      <td>226.0</td>\n",
       "      <td>455.0</td>\n",
       "    </tr>\n",
       "    <tr>\n",
       "      <th>23</th>\n",
       "      <td>[216.0, 0.0, 72.0, 144.0, 0.0, 216.0, 0.0, 144...</td>\n",
       "      <td>[288.0, 0.0, 0.0, 0.0, 96.0, 0.0, 0.0, 192.0, ...</td>\n",
       "      <td>6</td>\n",
       "      <td>6</td>\n",
       "      <td>0.596812</td>\n",
       "      <td>22.681922</td>\n",
       "      <td>[42.47376, 18.733744]</td>\n",
       "      <td>[43.627018, 15.633671]</td>\n",
       "      <td>3.307636</td>\n",
       "      <td>1011.422760</td>\n",
       "      <td>216.0</td>\n",
       "      <td>240.0</td>\n",
       "      <td>456.0</td>\n",
       "    </tr>\n",
       "  </tbody>\n",
       "</table>\n",
       "<p>240 rows × 13 columns</p>\n",
       "</div>"
      ],
      "text/plain": [
       "                                           AAencoding1  \\\n",
       "123  [0.0, 0.0, 144.0, 144.0, 0.0, 0.0, 144.0, 144....   \n",
       "7    [0.0, 0.0, 144.0, 144.0, 0.0, 0.0, 144.0, 216....   \n",
       "203  [0.0, 0.0, 144.0, 144.0, 0.0, 0.0, 144.0, 144....   \n",
       "37   [0.0, 0.0, 144.0, 144.0, 0.0, 0.0, 144.0, 144....   \n",
       "179  [216.0, 0.0, 108.0, 108.0, 0.0, 216.0, 0.0, 10...   \n",
       "..                                                 ...   \n",
       "18   [0.0, 0.0, 144.0, 144.0, 0.0, 0.0, 144.0, 288....   \n",
       "122  [144.0, 144.0, 144.0, 0.0, 144.0, 144.0, 0.0, ...   \n",
       "80   [216.0, 0.0, 108.0, 108.0, 0.0, 216.0, 0.0, 21...   \n",
       "169  [0.0, 0.0, 0.0, 0.0, 0.0, 0.0, 0.0, 432.0, 0.0...   \n",
       "23   [216.0, 0.0, 72.0, 144.0, 0.0, 216.0, 0.0, 144...   \n",
       "\n",
       "                                           AAencoding2  Cluster1  Cluster2  \\\n",
       "123  [192.0, 96.0, 0.0, 0.0, 96.0, 192.0, 0.0, 96.0...         3         2   \n",
       "7    [192.0, 128.0, 0.0, 0.0, 128.0, 192.0, 0.0, 12...         4         2   \n",
       "203  [192.0, 128.0, 0.0, 0.0, 128.0, 192.0, 0.0, 12...         2         3   \n",
       "37   [144.0, 144.0, 144.0, 0.0, 144.0, 144.0, 0.0, ...         5         2   \n",
       "179  [0.0, 0.0, 144.0, 144.0, 0.0, 0.0, 144.0, 216....         2         4   \n",
       "..                                                 ...       ...       ...   \n",
       "18   [216.0, 0.0, 108.0, 108.0, 0.0, 216.0, 0.0, 16...         2         2   \n",
       "122  [0.0, 0.0, 96.0, 96.0, 0.0, 192.0, 96.0, 96.0,...         6         6   \n",
       "80   [144.0, 144.0, 144.0, 0.0, 144.0, 144.0, 0.0, ...         2         2   \n",
       "169  [0.0, 0.0, 0.0, 0.0, 0.0, 0.0, 0.0, 576.0, 0.0...         7         7   \n",
       "23   [288.0, 0.0, 0.0, 0.0, 96.0, 0.0, 0.0, 192.0, ...         6         6   \n",
       "\n",
       "     Boosting Max   Coverage                     tSNE1  \\\n",
       "123      0.620935  23.891543  [-21.468767, -1.0428566]   \n",
       "7        0.707733  23.687387    [-7.4123287, 49.26789]   \n",
       "203      0.579242  23.783709     [45.133095, 2.141658]   \n",
       "37       0.862211  23.886766    [-9.840033, 2.2111223]   \n",
       "179      0.707733  23.633468      [54.00764, 5.179919]   \n",
       "..            ...        ...                       ...   \n",
       "18       0.598350  22.894687    [44.408455, 1.1046387]   \n",
       "122      0.598350  22.807631      [39.78919, 19.35272]   \n",
       "80       0.600127  22.657523    [52.705395, 7.3794713]   \n",
       "169      0.825004  22.308790     [-13.397488, 10.4982]   \n",
       "23       0.596812  22.681922     [42.47376, 18.733744]   \n",
       "\n",
       "                        tSNE2   distance  full_distance  Coverage Rank  \\\n",
       "123   [50.093643, -6.6015882]  71.777978    1472.825855            9.0   \n",
       "7     [49.558144, -4.6645484]  78.449619    1553.442628           31.0   \n",
       "203  [-24.329426, -3.5041726]  69.691586    1432.290473           20.0   \n",
       "37    [57.173042, 0.50591934]  67.034767    1292.439554           11.0   \n",
       "179    [-6.625497, 48.162216]  74.322643    1489.547582           41.0   \n",
       "..                        ...        ...            ...            ...   \n",
       "18     [54.014908, 5.0585136]  10.388314     694.809326          199.0   \n",
       "122     [40.083176, 14.29354]   5.067715     874.601624          208.0   \n",
       "80      [58.668625, 3.705927]   7.003930     979.746906          218.0   \n",
       "169   [-26.964125, 12.267299]  13.681497    1013.129804          229.0   \n",
       "23     [43.627018, 15.633671]   3.307636    1011.422760          216.0   \n",
       "\n",
       "     Distance Rank  Score  \n",
       "123           26.0   35.0  \n",
       "7             10.0   41.0  \n",
       "203           31.0   51.0  \n",
       "37            43.0   54.0  \n",
       "179           17.0   58.0  \n",
       "..             ...    ...  \n",
       "18           232.0  431.0  \n",
       "122          238.0  446.0  \n",
       "80           237.0  455.0  \n",
       "169          226.0  455.0  \n",
       "23           240.0  456.0  \n",
       "\n",
       "[240 rows x 13 columns]"
      ]
     },
     "execution_count": 230,
     "metadata": {},
     "output_type": "execute_result"
    }
   ],
   "source": [
    "df.sort_values(by='Score')"
   ]
  },
  {
   "cell_type": "code",
   "execution_count": 231,
   "metadata": {},
   "outputs": [
    {
     "data": {
      "text/plain": [
       "SpearmanrResult(correlation=-0.15506660563106045, pvalue=0.016203444424285843)"
      ]
     },
     "execution_count": 231,
     "metadata": {},
     "output_type": "execute_result"
    },
    {
     "data": {
      "image/png": "[encoded data removed]",
      "text/plain": [
       "<Figure size 432x288 with 1 Axes>"
      ]
     },
     "metadata": {
      "needs_background": "light"
     },
     "output_type": "display_data"
    }
   ],
   "source": [
    "plt.plot(df['Score'], df['Boosting Max'], '.')\n",
    "spearmanr(df['Score'], df['Boosting Max'])"
   ]
  },
  {
   "cell_type": "code",
   "execution_count": 222,
   "metadata": {},
   "outputs": [
    {
     "data": {
      "text/html": [
       "<div>\n",
       "<style scoped>\n",
       "    .dataframe tbody tr th:only-of-type {\n",
       "        vertical-align: middle;\n",
       "    }\n",
       "\n",
       "    .dataframe tbody tr th {\n",
       "        vertical-align: top;\n",
       "    }\n",
       "\n",
       "    .dataframe thead th {\n",
       "        text-align: right;\n",
       "    }\n",
       "</style>\n",
       "<table border=\"1\" class=\"dataframe\">\n",
       "  <thead>\n",
       "    <tr style=\"text-align: right;\">\n",
       "      <th></th>\n",
       "      <th>AAencoding1</th>\n",
       "      <th>AAencoding2</th>\n",
       "      <th>Cluster1</th>\n",
       "      <th>Cluster2</th>\n",
       "      <th>Boosting Max</th>\n",
       "      <th>Coverage</th>\n",
       "      <th>tSNE1</th>\n",
       "      <th>tSNE2</th>\n",
       "      <th>distance</th>\n",
       "      <th>full_distance</th>\n",
       "    </tr>\n",
       "  </thead>\n",
       "  <tbody>\n",
       "    <tr>\n",
       "      <th>159</th>\n",
       "      <td>[216.0, 0.0, 108.0, 108.0, 0.0, 216.0, 0.0, 10...</td>\n",
       "      <td>[0.0, 0.0, 0.0, 0.0, 288.0, 0.0, 0.0, 432.0, 0...</td>\n",
       "      <td>4</td>\n",
       "      <td>7</td>\n",
       "      <td>0.862211</td>\n",
       "      <td>23.375486</td>\n",
       "      <td>[-2.4100146, 54.952232]</td>\n",
       "      <td>[-14.793887, 13.606204]</td>\n",
       "      <td>43.160797</td>\n",
       "      <td>1394.067430</td>\n",
       "    </tr>\n",
       "    <tr>\n",
       "      <th>37</th>\n",
       "      <td>[0.0, 0.0, 144.0, 144.0, 0.0, 0.0, 144.0, 144....</td>\n",
       "      <td>[144.0, 144.0, 144.0, 0.0, 144.0, 144.0, 0.0, ...</td>\n",
       "      <td>5</td>\n",
       "      <td>2</td>\n",
       "      <td>0.862211</td>\n",
       "      <td>23.886766</td>\n",
       "      <td>[-9.840033, 2.2111223]</td>\n",
       "      <td>[57.173042, 0.50591934]</td>\n",
       "      <td>67.034767</td>\n",
       "      <td>1292.439554</td>\n",
       "    </tr>\n",
       "    <tr>\n",
       "      <th>172</th>\n",
       "      <td>[0.0, 0.0, 96.0, 192.0, 0.0, 0.0, 96.0, 192.0,...</td>\n",
       "      <td>[288.0, 0.0, 0.0, 0.0, 192.0, 0.0, 0.0, 192.0,...</td>\n",
       "      <td>5</td>\n",
       "      <td>0</td>\n",
       "      <td>0.862211</td>\n",
       "      <td>23.888760</td>\n",
       "      <td>[-5.082638, 9.414792]</td>\n",
       "      <td>[8.083964, -10.476075]</td>\n",
       "      <td>23.853847</td>\n",
       "      <td>957.596992</td>\n",
       "    </tr>\n",
       "    <tr>\n",
       "      <th>170</th>\n",
       "      <td>[0.0, 0.0, 0.0, 0.0, 0.0, 0.0, 0.0, 288.0, 0.0...</td>\n",
       "      <td>[288.0, 0.0, 0.0, 0.0, 144.0, 0.0, 0.0, 144.0,...</td>\n",
       "      <td>7</td>\n",
       "      <td>0</td>\n",
       "      <td>0.862211</td>\n",
       "      <td>23.352034</td>\n",
       "      <td>[-23.407356, 11.03436]</td>\n",
       "      <td>[4.1634583, -12.247053]</td>\n",
       "      <td>36.085648</td>\n",
       "      <td>1136.394298</td>\n",
       "    </tr>\n",
       "    <tr>\n",
       "      <th>94</th>\n",
       "      <td>[192.0, 96.0, 0.0, 0.0, 96.0, 192.0, 0.0, 96.0...</td>\n",
       "      <td>[0.0, 216.0, 0.0, 0.0, 216.0, 216.0, 0.0, 216....</td>\n",
       "      <td>2</td>\n",
       "      <td>0</td>\n",
       "      <td>0.862211</td>\n",
       "      <td>22.936016</td>\n",
       "      <td>[51.910408, 7.5154448]</td>\n",
       "      <td>[12.859215, -4.6395736]</td>\n",
       "      <td>40.899146</td>\n",
       "      <td>950.351514</td>\n",
       "    </tr>\n",
       "    <tr>\n",
       "      <th>128</th>\n",
       "      <td>[192.0, 192.0, 0.0, 0.0, 192.0, 192.0, 0.0, 19...</td>\n",
       "      <td>[216.0, 0.0, 108.0, 108.0, 0.0, 216.0, 0.0, 10...</td>\n",
       "      <td>0</td>\n",
       "      <td>4</td>\n",
       "      <td>0.862211</td>\n",
       "      <td>23.188071</td>\n",
       "      <td>[2.0813766, -4.1833773]</td>\n",
       "      <td>[-2.402425, 54.92739]</td>\n",
       "      <td>59.280582</td>\n",
       "      <td>1363.149295</td>\n",
       "    </tr>\n",
       "    <tr>\n",
       "      <th>154</th>\n",
       "      <td>[0.0, 144.0, 144.0, 0.0, 144.0, 144.0, 144.0, ...</td>\n",
       "      <td>[288.0, 0.0, 96.0, 192.0, 0.0, 0.0, 0.0, 192.0...</td>\n",
       "      <td>2</td>\n",
       "      <td>0</td>\n",
       "      <td>0.862211</td>\n",
       "      <td>23.674847</td>\n",
       "      <td>[45.836147, 7.1849036]</td>\n",
       "      <td>[-1.0758406, -11.398999]</td>\n",
       "      <td>50.458855</td>\n",
       "      <td>1319.781800</td>\n",
       "    </tr>\n",
       "    <tr>\n",
       "      <th>145</th>\n",
       "      <td>[0.0, 0.0, 0.0, 0.0, 0.0, 0.0, 0.0, 576.0, 0.0...</td>\n",
       "      <td>[192.0, 96.0, 0.0, 0.0, 96.0, 192.0, 0.0, 96.0...</td>\n",
       "      <td>7</td>\n",
       "      <td>2</td>\n",
       "      <td>0.862211</td>\n",
       "      <td>23.299331</td>\n",
       "      <td>[-27.316668, 14.433785]</td>\n",
       "      <td>[55.864677, -2.3714614]</td>\n",
       "      <td>84.861961</td>\n",
       "      <td>1613.542686</td>\n",
       "    </tr>\n",
       "    <tr>\n",
       "      <th>105</th>\n",
       "      <td>[0.0, 0.0, 144.0, 144.0, 0.0, 0.0, 144.0, 144....</td>\n",
       "      <td>[0.0, 144.0, 144.0, 0.0, 144.0, 144.0, 144.0, ...</td>\n",
       "      <td>6</td>\n",
       "      <td>5</td>\n",
       "      <td>0.862211</td>\n",
       "      <td>23.608158</td>\n",
       "      <td>[42.147797, 7.175635]</td>\n",
       "      <td>[-8.730868, -7.681757]</td>\n",
       "      <td>53.003591</td>\n",
       "      <td>1303.119335</td>\n",
       "    </tr>\n",
       "    <tr>\n",
       "      <th>139</th>\n",
       "      <td>[0.0, 0.0, 96.0, 192.0, 0.0, 0.0, 96.0, 192.0,...</td>\n",
       "      <td>[288.0, 0.0, 0.0, 0.0, 144.0, 0.0, 0.0, 288.0,...</td>\n",
       "      <td>5</td>\n",
       "      <td>0</td>\n",
       "      <td>0.862211</td>\n",
       "      <td>23.451206</td>\n",
       "      <td>[-11.239722, 4.485506]</td>\n",
       "      <td>[9.128067, -3.5685623]</td>\n",
       "      <td>21.902394</td>\n",
       "      <td>1110.358501</td>\n",
       "    </tr>\n",
       "  </tbody>\n",
       "</table>\n",
       "</div>"
      ],
      "text/plain": [
       "                                           AAencoding1  \\\n",
       "159  [216.0, 0.0, 108.0, 108.0, 0.0, 216.0, 0.0, 10...   \n",
       "37   [0.0, 0.0, 144.0, 144.0, 0.0, 0.0, 144.0, 144....   \n",
       "172  [0.0, 0.0, 96.0, 192.0, 0.0, 0.0, 96.0, 192.0,...   \n",
       "170  [0.0, 0.0, 0.0, 0.0, 0.0, 0.0, 0.0, 288.0, 0.0...   \n",
       "94   [192.0, 96.0, 0.0, 0.0, 96.0, 192.0, 0.0, 96.0...   \n",
       "128  [192.0, 192.0, 0.0, 0.0, 192.0, 192.0, 0.0, 19...   \n",
       "154  [0.0, 144.0, 144.0, 0.0, 144.0, 144.0, 144.0, ...   \n",
       "145  [0.0, 0.0, 0.0, 0.0, 0.0, 0.0, 0.0, 576.0, 0.0...   \n",
       "105  [0.0, 0.0, 144.0, 144.0, 0.0, 0.0, 144.0, 144....   \n",
       "139  [0.0, 0.0, 96.0, 192.0, 0.0, 0.0, 96.0, 192.0,...   \n",
       "\n",
       "                                           AAencoding2  Cluster1  Cluster2  \\\n",
       "159  [0.0, 0.0, 0.0, 0.0, 288.0, 0.0, 0.0, 432.0, 0...         4         7   \n",
       "37   [144.0, 144.0, 144.0, 0.0, 144.0, 144.0, 0.0, ...         5         2   \n",
       "172  [288.0, 0.0, 0.0, 0.0, 192.0, 0.0, 0.0, 192.0,...         5         0   \n",
       "170  [288.0, 0.0, 0.0, 0.0, 144.0, 0.0, 0.0, 144.0,...         7         0   \n",
       "94   [0.0, 216.0, 0.0, 0.0, 216.0, 216.0, 0.0, 216....         2         0   \n",
       "128  [216.0, 0.0, 108.0, 108.0, 0.0, 216.0, 0.0, 10...         0         4   \n",
       "154  [288.0, 0.0, 96.0, 192.0, 0.0, 0.0, 0.0, 192.0...         2         0   \n",
       "145  [192.0, 96.0, 0.0, 0.0, 96.0, 192.0, 0.0, 96.0...         7         2   \n",
       "105  [0.0, 144.0, 144.0, 0.0, 144.0, 144.0, 144.0, ...         6         5   \n",
       "139  [288.0, 0.0, 0.0, 0.0, 144.0, 0.0, 0.0, 288.0,...         5         0   \n",
       "\n",
       "     Boosting Max   Coverage                    tSNE1  \\\n",
       "159      0.862211  23.375486  [-2.4100146, 54.952232]   \n",
       "37       0.862211  23.886766   [-9.840033, 2.2111223]   \n",
       "172      0.862211  23.888760    [-5.082638, 9.414792]   \n",
       "170      0.862211  23.352034   [-23.407356, 11.03436]   \n",
       "94       0.862211  22.936016   [51.910408, 7.5154448]   \n",
       "128      0.862211  23.188071  [2.0813766, -4.1833773]   \n",
       "154      0.862211  23.674847   [45.836147, 7.1849036]   \n",
       "145      0.862211  23.299331  [-27.316668, 14.433785]   \n",
       "105      0.862211  23.608158    [42.147797, 7.175635]   \n",
       "139      0.862211  23.451206   [-11.239722, 4.485506]   \n",
       "\n",
       "                        tSNE2   distance  full_distance  \n",
       "159   [-14.793887, 13.606204]  43.160797    1394.067430  \n",
       "37    [57.173042, 0.50591934]  67.034767    1292.439554  \n",
       "172    [8.083964, -10.476075]  23.853847     957.596992  \n",
       "170   [4.1634583, -12.247053]  36.085648    1136.394298  \n",
       "94    [12.859215, -4.6395736]  40.899146     950.351514  \n",
       "128     [-2.402425, 54.92739]  59.280582    1363.149295  \n",
       "154  [-1.0758406, -11.398999]  50.458855    1319.781800  \n",
       "145   [55.864677, -2.3714614]  84.861961    1613.542686  \n",
       "105    [-8.730868, -7.681757]  53.003591    1303.119335  \n",
       "139    [9.128067, -3.5685623]  21.902394    1110.358501  "
      ]
     },
     "execution_count": 222,
     "metadata": {},
     "output_type": "execute_result"
    }
   ],
   "source": [
    "df.sort_values(by='Boosting Max', ascending=False)[20:30]"
   ]
  },
  {
   "cell_type": "code",
   "execution_count": 213,
   "metadata": {},
   "outputs": [
    {
     "data": {
      "text/html": [
       "<div>\n",
       "<style scoped>\n",
       "    .dataframe tbody tr th:only-of-type {\n",
       "        vertical-align: middle;\n",
       "    }\n",
       "\n",
       "    .dataframe tbody tr th {\n",
       "        vertical-align: top;\n",
       "    }\n",
       "\n",
       "    .dataframe thead th {\n",
       "        text-align: right;\n",
       "    }\n",
       "</style>\n",
       "<table border=\"1\" class=\"dataframe\">\n",
       "  <thead>\n",
       "    <tr style=\"text-align: right;\">\n",
       "      <th></th>\n",
       "      <th>AAencoding1</th>\n",
       "      <th>AAencoding2</th>\n",
       "      <th>Cluster1</th>\n",
       "      <th>Cluster2</th>\n",
       "      <th>Boosting Max</th>\n",
       "      <th>Coverage</th>\n",
       "      <th>tSNE1</th>\n",
       "      <th>tSNE2</th>\n",
       "      <th>distance</th>\n",
       "    </tr>\n",
       "  </thead>\n",
       "  <tbody>\n",
       "    <tr>\n",
       "      <th>7</th>\n",
       "      <td>[0.0, 0.0, 144.0, 144.0, 0.0, 0.0, 144.0, 216....</td>\n",
       "      <td>[192.0, 128.0, 0.0, 0.0, 128.0, 192.0, 0.0, 12...</td>\n",
       "      <td>4</td>\n",
       "      <td>2</td>\n",
       "      <td>0.707733</td>\n",
       "      <td>23.687387</td>\n",
       "      <td>[-7.4123287, 49.26789]</td>\n",
       "      <td>[49.558144, -4.6645484]</td>\n",
       "      <td>78.449619</td>\n",
       "    </tr>\n",
       "    <tr>\n",
       "      <th>10</th>\n",
       "      <td>[216.0, 0.0, 108.0, 108.0, 0.0, 216.0, 0.0, 10...</td>\n",
       "      <td>[0.0, 144.0, 144.0, 0.0, 144.0, 144.0, 144.0, ...</td>\n",
       "      <td>4</td>\n",
       "      <td>2</td>\n",
       "      <td>0.707733</td>\n",
       "      <td>23.308546</td>\n",
       "      <td>[-0.9975643, 48.86628]</td>\n",
       "      <td>[46.729, 7.996921]</td>\n",
       "      <td>62.834142</td>\n",
       "    </tr>\n",
       "    <tr>\n",
       "      <th>12</th>\n",
       "      <td>[192.0, 96.0, 0.0, 0.0, 96.0, 192.0, 0.0, 96.0...</td>\n",
       "      <td>[192.0, 96.0, 0.0, 0.0, 96.0, 192.0, 0.0, 96.0...</td>\n",
       "      <td>2</td>\n",
       "      <td>4</td>\n",
       "      <td>0.812962</td>\n",
       "      <td>23.114873</td>\n",
       "      <td>[50.093838, -6.6016326]</td>\n",
       "      <td>[-0.508363, 46.8971]</td>\n",
       "      <td>73.638964</td>\n",
       "    </tr>\n",
       "    <tr>\n",
       "      <th>18</th>\n",
       "      <td>[0.0, 0.0, 144.0, 144.0, 0.0, 0.0, 144.0, 288....</td>\n",
       "      <td>[216.0, 0.0, 108.0, 108.0, 0.0, 216.0, 0.0, 16...</td>\n",
       "      <td>2</td>\n",
       "      <td>2</td>\n",
       "      <td>0.598350</td>\n",
       "      <td>22.894687</td>\n",
       "      <td>[44.408455, 1.1046387]</td>\n",
       "      <td>[54.014908, 5.0585136]</td>\n",
       "      <td>10.388314</td>\n",
       "    </tr>\n",
       "    <tr>\n",
       "      <th>27</th>\n",
       "      <td>[288.0, 0.0, 0.0, 0.0, 144.0, 0.0, 0.0, 144.0,...</td>\n",
       "      <td>[0.0, 144.0, 144.0, 0.0, 144.0, 144.0, 144.0, ...</td>\n",
       "      <td>2</td>\n",
       "      <td>4</td>\n",
       "      <td>0.790720</td>\n",
       "      <td>23.619937</td>\n",
       "      <td>[51.545692, -6.394961]</td>\n",
       "      <td>[-5.277692, 42.688644]</td>\n",
       "      <td>75.087265</td>\n",
       "    </tr>\n",
       "    <tr>\n",
       "      <th>35</th>\n",
       "      <td>[0.0, 0.0, 64.0, 128.0, 0.0, 192.0, 64.0, 128....</td>\n",
       "      <td>[144.0, 144.0, 144.0, 0.0, 144.0, 144.0, 0.0, ...</td>\n",
       "      <td>2</td>\n",
       "      <td>4</td>\n",
       "      <td>0.918190</td>\n",
       "      <td>23.334775</td>\n",
       "      <td>[44.26884, 6.4580975]</td>\n",
       "      <td>[-1.0341753, 50.695877]</td>\n",
       "      <td>63.319384</td>\n",
       "    </tr>\n",
       "    <tr>\n",
       "      <th>52</th>\n",
       "      <td>[216.0, 0.0, 108.0, 108.0, 0.0, 216.0, 0.0, 10...</td>\n",
       "      <td>[0.0, 144.0, 144.0, 0.0, 144.0, 144.0, 144.0, ...</td>\n",
       "      <td>2</td>\n",
       "      <td>4</td>\n",
       "      <td>0.707733</td>\n",
       "      <td>23.273155</td>\n",
       "      <td>[47.989975, -6.3818946]</td>\n",
       "      <td>[-4.037284, 46.056797]</td>\n",
       "      <td>73.869155</td>\n",
       "    </tr>\n",
       "    <tr>\n",
       "      <th>66</th>\n",
       "      <td>[288.0, 0.0, 0.0, 0.0, 144.0, 0.0, 0.0, 288.0,...</td>\n",
       "      <td>[0.0, 144.0, 144.0, 0.0, 144.0, 144.0, 144.0, ...</td>\n",
       "      <td>4</td>\n",
       "      <td>2</td>\n",
       "      <td>0.918190</td>\n",
       "      <td>23.519496</td>\n",
       "      <td>[1.0496267, 47.334126]</td>\n",
       "      <td>[47.670467, 7.3584003]</td>\n",
       "      <td>61.413039</td>\n",
       "    </tr>\n",
       "    <tr>\n",
       "      <th>72</th>\n",
       "      <td>[0.0, 144.0, 144.0, 0.0, 144.0, 144.0, 144.0, ...</td>\n",
       "      <td>[216.0, 0.0, 72.0, 144.0, 0.0, 216.0, 0.0, 144...</td>\n",
       "      <td>2</td>\n",
       "      <td>4</td>\n",
       "      <td>0.707733</td>\n",
       "      <td>23.486911</td>\n",
       "      <td>[45.835354, 7.18506]</td>\n",
       "      <td>[-2.000921, 50.405277]</td>\n",
       "      <td>64.469344</td>\n",
       "    </tr>\n",
       "    <tr>\n",
       "      <th>74</th>\n",
       "      <td>[0.0, 144.0, 144.0, 0.0, 144.0, 144.0, 144.0, ...</td>\n",
       "      <td>[0.0, 216.0, 0.0, 0.0, 216.0, 216.0, 0.0, 216....</td>\n",
       "      <td>4</td>\n",
       "      <td>2</td>\n",
       "      <td>0.707733</td>\n",
       "      <td>22.991617</td>\n",
       "      <td>[-4.7186527, 44.459126]</td>\n",
       "      <td>[44.475616, -4.4680896]</td>\n",
       "      <td>69.382624</td>\n",
       "    </tr>\n",
       "    <tr>\n",
       "      <th>80</th>\n",
       "      <td>[216.0, 0.0, 108.0, 108.0, 0.0, 216.0, 0.0, 21...</td>\n",
       "      <td>[144.0, 144.0, 144.0, 0.0, 144.0, 144.0, 0.0, ...</td>\n",
       "      <td>2</td>\n",
       "      <td>2</td>\n",
       "      <td>0.600127</td>\n",
       "      <td>22.657523</td>\n",
       "      <td>[52.705395, 7.3794713]</td>\n",
       "      <td>[58.668625, 3.705927]</td>\n",
       "      <td>7.003930</td>\n",
       "    </tr>\n",
       "    <tr>\n",
       "      <th>83</th>\n",
       "      <td>[0.0, 0.0, 96.0, 192.0, 0.0, 0.0, 96.0, 192.0,...</td>\n",
       "      <td>[0.0, 0.0, 128.0, 64.0, 0.0, 192.0, 128.0, 128...</td>\n",
       "      <td>4</td>\n",
       "      <td>2</td>\n",
       "      <td>0.596812</td>\n",
       "      <td>23.507238</td>\n",
       "      <td>[-6.584786, 53.106697]</td>\n",
       "      <td>[41.16825, 0.04524921]</td>\n",
       "      <td>71.385361</td>\n",
       "    </tr>\n",
       "    <tr>\n",
       "      <th>99</th>\n",
       "      <td>[0.0, 0.0, 96.0, 96.0, 0.0, 192.0, 96.0, 192.0...</td>\n",
       "      <td>[288.0, 0.0, 0.0, 0.0, 144.0, 0.0, 0.0, 216.0,...</td>\n",
       "      <td>2</td>\n",
       "      <td>2</td>\n",
       "      <td>0.598350</td>\n",
       "      <td>23.131529</td>\n",
       "      <td>[42.44432, 3.1999044]</td>\n",
       "      <td>[55.473915, -3.7766144]</td>\n",
       "      <td>14.779788</td>\n",
       "    </tr>\n",
       "    <tr>\n",
       "      <th>103</th>\n",
       "      <td>[192.0, 96.0, 0.0, 0.0, 96.0, 192.0, 0.0, 96.0...</td>\n",
       "      <td>[0.0, 0.0, 96.0, 192.0, 0.0, 0.0, 96.0, 192.0,...</td>\n",
       "      <td>2</td>\n",
       "      <td>4</td>\n",
       "      <td>0.707733</td>\n",
       "      <td>23.483856</td>\n",
       "      <td>[57.453632, -3.0821476]</td>\n",
       "      <td>[-8.043727, 47.891106]</td>\n",
       "      <td>82.995040</td>\n",
       "    </tr>\n",
       "    <tr>\n",
       "      <th>118</th>\n",
       "      <td>[0.0, 144.0, 144.0, 0.0, 144.0, 144.0, 144.0, ...</td>\n",
       "      <td>[0.0, 144.0, 144.0, 0.0, 144.0, 144.0, 144.0, ...</td>\n",
       "      <td>2</td>\n",
       "      <td>2</td>\n",
       "      <td>0.658760</td>\n",
       "      <td>23.035042</td>\n",
       "      <td>[58.728157, 4.2835608]</td>\n",
       "      <td>[44.864147, -2.3527591]</td>\n",
       "      <td>15.370475</td>\n",
       "    </tr>\n",
       "    <tr>\n",
       "      <th>156</th>\n",
       "      <td>[0.0, 0.0, 192.0, 96.0, 0.0, 0.0, 192.0, 192.0...</td>\n",
       "      <td>[0.0, 0.0, 128.0, 64.0, 0.0, 192.0, 128.0, 128...</td>\n",
       "      <td>4</td>\n",
       "      <td>2</td>\n",
       "      <td>0.707733</td>\n",
       "      <td>23.573657</td>\n",
       "      <td>[-6.5568485, 48.035732]</td>\n",
       "      <td>[48.938732, 1.1741548]</td>\n",
       "      <td>72.634475</td>\n",
       "    </tr>\n",
       "    <tr>\n",
       "      <th>162</th>\n",
       "      <td>[0.0, 0.0, 128.0, 64.0, 0.0, 192.0, 128.0, 128...</td>\n",
       "      <td>[0.0, 144.0, 144.0, 0.0, 144.0, 144.0, 144.0, ...</td>\n",
       "      <td>2</td>\n",
       "      <td>2</td>\n",
       "      <td>0.617505</td>\n",
       "      <td>23.219838</td>\n",
       "      <td>[43.146084, -0.98305035]</td>\n",
       "      <td>[58.716534, 4.1607385]</td>\n",
       "      <td>16.398094</td>\n",
       "    </tr>\n",
       "    <tr>\n",
       "      <th>164</th>\n",
       "      <td>[0.0, 0.0, 96.0, 96.0, 0.0, 192.0, 96.0, 192.0...</td>\n",
       "      <td>[192.0, 96.0, 0.0, 0.0, 96.0, 192.0, 0.0, 96.0...</td>\n",
       "      <td>2</td>\n",
       "      <td>2</td>\n",
       "      <td>0.621245</td>\n",
       "      <td>22.912126</td>\n",
       "      <td>[41.346245, 4.8674426]</td>\n",
       "      <td>[50.541374, -7.4304547]</td>\n",
       "      <td>15.355412</td>\n",
       "    </tr>\n",
       "    <tr>\n",
       "      <th>166</th>\n",
       "      <td>[144.0, 144.0, 144.0, 0.0, 144.0, 144.0, 0.0, ...</td>\n",
       "      <td>[216.0, 0.0, 108.0, 108.0, 0.0, 216.0, 0.0, 10...</td>\n",
       "      <td>2</td>\n",
       "      <td>4</td>\n",
       "      <td>0.707733</td>\n",
       "      <td>23.137547</td>\n",
       "      <td>[57.90462, -0.93856794]</td>\n",
       "      <td>[-3.1603444, 49.979824]</td>\n",
       "      <td>79.508570</td>\n",
       "    </tr>\n",
       "    <tr>\n",
       "      <th>179</th>\n",
       "      <td>[216.0, 0.0, 108.0, 108.0, 0.0, 216.0, 0.0, 10...</td>\n",
       "      <td>[0.0, 0.0, 144.0, 144.0, 0.0, 0.0, 144.0, 216....</td>\n",
       "      <td>2</td>\n",
       "      <td>4</td>\n",
       "      <td>0.707733</td>\n",
       "      <td>23.633468</td>\n",
       "      <td>[54.00764, 5.179919]</td>\n",
       "      <td>[-6.625497, 48.162216]</td>\n",
       "      <td>74.322643</td>\n",
       "    </tr>\n",
       "    <tr>\n",
       "      <th>193</th>\n",
       "      <td>[0.0, 144.0, 144.0, 0.0, 144.0, 144.0, 144.0, ...</td>\n",
       "      <td>[288.0, 0.0, 0.0, 0.0, 96.0, 0.0, 0.0, 192.0, ...</td>\n",
       "      <td>4</td>\n",
       "      <td>2</td>\n",
       "      <td>0.918190</td>\n",
       "      <td>23.309453</td>\n",
       "      <td>[-5.6660204, 43.815975]</td>\n",
       "      <td>[52.07066, -4.581881]</td>\n",
       "      <td>75.338415</td>\n",
       "    </tr>\n",
       "    <tr>\n",
       "      <th>195</th>\n",
       "      <td>[216.0, 0.0, 144.0, 72.0, 0.0, 216.0, 0.0, 144...</td>\n",
       "      <td>[0.0, 0.0, 96.0, 96.0, 0.0, 192.0, 96.0, 144.0...</td>\n",
       "      <td>2</td>\n",
       "      <td>2</td>\n",
       "      <td>0.598350</td>\n",
       "      <td>23.087824</td>\n",
       "      <td>[53.125793, 3.4387467]</td>\n",
       "      <td>[40.178776, 2.1534133]</td>\n",
       "      <td>13.010663</td>\n",
       "    </tr>\n",
       "    <tr>\n",
       "      <th>206</th>\n",
       "      <td>[192.0, 128.0, 0.0, 0.0, 128.0, 192.0, 0.0, 12...</td>\n",
       "      <td>[216.0, 0.0, 144.0, 72.0, 0.0, 216.0, 0.0, 144...</td>\n",
       "      <td>4</td>\n",
       "      <td>2</td>\n",
       "      <td>0.707733</td>\n",
       "      <td>23.172791</td>\n",
       "      <td>[-0.092128925, 50.370785]</td>\n",
       "      <td>[56.57378, 0.6632285]</td>\n",
       "      <td>75.378156</td>\n",
       "    </tr>\n",
       "    <tr>\n",
       "      <th>216</th>\n",
       "      <td>[0.0, 144.0, 144.0, 0.0, 144.0, 144.0, 144.0, ...</td>\n",
       "      <td>[288.0, 0.0, 0.0, 0.0, 0.0, 0.0, 0.0, 0.0, 0.0...</td>\n",
       "      <td>2</td>\n",
       "      <td>4</td>\n",
       "      <td>0.620935</td>\n",
       "      <td>23.475810</td>\n",
       "      <td>[48.6734, 4.427429]</td>\n",
       "      <td>[-4.167322, 55.85144]</td>\n",
       "      <td>73.733106</td>\n",
       "    </tr>\n",
       "    <tr>\n",
       "      <th>231</th>\n",
       "      <td>[0.0, 0.0, 96.0, 192.0, 0.0, 0.0, 96.0, 192.0,...</td>\n",
       "      <td>[0.0, 0.0, 128.0, 64.0, 0.0, 192.0, 128.0, 128...</td>\n",
       "      <td>4</td>\n",
       "      <td>2</td>\n",
       "      <td>0.606027</td>\n",
       "      <td>23.394898</td>\n",
       "      <td>[-7.487721, 52.533028]</td>\n",
       "      <td>[44.440693, 0.03474397]</td>\n",
       "      <td>73.841925</td>\n",
       "    </tr>\n",
       "    <tr>\n",
       "      <th>233</th>\n",
       "      <td>[0.0, 0.0, 144.0, 144.0, 0.0, 0.0, 144.0, 144....</td>\n",
       "      <td>[0.0, 144.0, 144.0, 0.0, 144.0, 144.0, 144.0, ...</td>\n",
       "      <td>2</td>\n",
       "      <td>4</td>\n",
       "      <td>0.796777</td>\n",
       "      <td>23.630820</td>\n",
       "      <td>[41.874462, -3.2058804]</td>\n",
       "      <td>[-5.277515, 42.689297]</td>\n",
       "      <td>65.800275</td>\n",
       "    </tr>\n",
       "  </tbody>\n",
       "</table>\n",
       "</div>"
      ],
      "text/plain": [
       "                                           AAencoding1  \\\n",
       "7    [0.0, 0.0, 144.0, 144.0, 0.0, 0.0, 144.0, 216....   \n",
       "10   [216.0, 0.0, 108.0, 108.0, 0.0, 216.0, 0.0, 10...   \n",
       "12   [192.0, 96.0, 0.0, 0.0, 96.0, 192.0, 0.0, 96.0...   \n",
       "18   [0.0, 0.0, 144.0, 144.0, 0.0, 0.0, 144.0, 288....   \n",
       "27   [288.0, 0.0, 0.0, 0.0, 144.0, 0.0, 0.0, 144.0,...   \n",
       "35   [0.0, 0.0, 64.0, 128.0, 0.0, 192.0, 64.0, 128....   \n",
       "52   [216.0, 0.0, 108.0, 108.0, 0.0, 216.0, 0.0, 10...   \n",
       "66   [288.0, 0.0, 0.0, 0.0, 144.0, 0.0, 0.0, 288.0,...   \n",
       "72   [0.0, 144.0, 144.0, 0.0, 144.0, 144.0, 144.0, ...   \n",
       "74   [0.0, 144.0, 144.0, 0.0, 144.0, 144.0, 144.0, ...   \n",
       "80   [216.0, 0.0, 108.0, 108.0, 0.0, 216.0, 0.0, 21...   \n",
       "83   [0.0, 0.0, 96.0, 192.0, 0.0, 0.0, 96.0, 192.0,...   \n",
       "99   [0.0, 0.0, 96.0, 96.0, 0.0, 192.0, 96.0, 192.0...   \n",
       "103  [192.0, 96.0, 0.0, 0.0, 96.0, 192.0, 0.0, 96.0...   \n",
       "118  [0.0, 144.0, 144.0, 0.0, 144.0, 144.0, 144.0, ...   \n",
       "156  [0.0, 0.0, 192.0, 96.0, 0.0, 0.0, 192.0, 192.0...   \n",
       "162  [0.0, 0.0, 128.0, 64.0, 0.0, 192.0, 128.0, 128...   \n",
       "164  [0.0, 0.0, 96.0, 96.0, 0.0, 192.0, 96.0, 192.0...   \n",
       "166  [144.0, 144.0, 144.0, 0.0, 144.0, 144.0, 0.0, ...   \n",
       "179  [216.0, 0.0, 108.0, 108.0, 0.0, 216.0, 0.0, 10...   \n",
       "193  [0.0, 144.0, 144.0, 0.0, 144.0, 144.0, 144.0, ...   \n",
       "195  [216.0, 0.0, 144.0, 72.0, 0.0, 216.0, 0.0, 144...   \n",
       "206  [192.0, 128.0, 0.0, 0.0, 128.0, 192.0, 0.0, 12...   \n",
       "216  [0.0, 144.0, 144.0, 0.0, 144.0, 144.0, 144.0, ...   \n",
       "231  [0.0, 0.0, 96.0, 192.0, 0.0, 0.0, 96.0, 192.0,...   \n",
       "233  [0.0, 0.0, 144.0, 144.0, 0.0, 0.0, 144.0, 144....   \n",
       "\n",
       "                                           AAencoding2  Cluster1  Cluster2  \\\n",
       "7    [192.0, 128.0, 0.0, 0.0, 128.0, 192.0, 0.0, 12...         4         2   \n",
       "10   [0.0, 144.0, 144.0, 0.0, 144.0, 144.0, 144.0, ...         4         2   \n",
       "12   [192.0, 96.0, 0.0, 0.0, 96.0, 192.0, 0.0, 96.0...         2         4   \n",
       "18   [216.0, 0.0, 108.0, 108.0, 0.0, 216.0, 0.0, 16...         2         2   \n",
       "27   [0.0, 144.0, 144.0, 0.0, 144.0, 144.0, 144.0, ...         2         4   \n",
       "35   [144.0, 144.0, 144.0, 0.0, 144.0, 144.0, 0.0, ...         2         4   \n",
       "52   [0.0, 144.0, 144.0, 0.0, 144.0, 144.0, 144.0, ...         2         4   \n",
       "66   [0.0, 144.0, 144.0, 0.0, 144.0, 144.0, 144.0, ...         4         2   \n",
       "72   [216.0, 0.0, 72.0, 144.0, 0.0, 216.0, 0.0, 144...         2         4   \n",
       "74   [0.0, 216.0, 0.0, 0.0, 216.0, 216.0, 0.0, 216....         4         2   \n",
       "80   [144.0, 144.0, 144.0, 0.0, 144.0, 144.0, 0.0, ...         2         2   \n",
       "83   [0.0, 0.0, 128.0, 64.0, 0.0, 192.0, 128.0, 128...         4         2   \n",
       "99   [288.0, 0.0, 0.0, 0.0, 144.0, 0.0, 0.0, 216.0,...         2         2   \n",
       "103  [0.0, 0.0, 96.0, 192.0, 0.0, 0.0, 96.0, 192.0,...         2         4   \n",
       "118  [0.0, 144.0, 144.0, 0.0, 144.0, 144.0, 144.0, ...         2         2   \n",
       "156  [0.0, 0.0, 128.0, 64.0, 0.0, 192.0, 128.0, 128...         4         2   \n",
       "162  [0.0, 144.0, 144.0, 0.0, 144.0, 144.0, 144.0, ...         2         2   \n",
       "164  [192.0, 96.0, 0.0, 0.0, 96.0, 192.0, 0.0, 96.0...         2         2   \n",
       "166  [216.0, 0.0, 108.0, 108.0, 0.0, 216.0, 0.0, 10...         2         4   \n",
       "179  [0.0, 0.0, 144.0, 144.0, 0.0, 0.0, 144.0, 216....         2         4   \n",
       "193  [288.0, 0.0, 0.0, 0.0, 96.0, 0.0, 0.0, 192.0, ...         4         2   \n",
       "195  [0.0, 0.0, 96.0, 96.0, 0.0, 192.0, 96.0, 144.0...         2         2   \n",
       "206  [216.0, 0.0, 144.0, 72.0, 0.0, 216.0, 0.0, 144...         4         2   \n",
       "216  [288.0, 0.0, 0.0, 0.0, 0.0, 0.0, 0.0, 0.0, 0.0...         2         4   \n",
       "231  [0.0, 0.0, 128.0, 64.0, 0.0, 192.0, 128.0, 128...         4         2   \n",
       "233  [0.0, 144.0, 144.0, 0.0, 144.0, 144.0, 144.0, ...         2         4   \n",
       "\n",
       "     Boosting Max   Coverage                      tSNE1  \\\n",
       "7        0.707733  23.687387     [-7.4123287, 49.26789]   \n",
       "10       0.707733  23.308546     [-0.9975643, 48.86628]   \n",
       "12       0.812962  23.114873    [50.093838, -6.6016326]   \n",
       "18       0.598350  22.894687     [44.408455, 1.1046387]   \n",
       "27       0.790720  23.619937     [51.545692, -6.394961]   \n",
       "35       0.918190  23.334775      [44.26884, 6.4580975]   \n",
       "52       0.707733  23.273155    [47.989975, -6.3818946]   \n",
       "66       0.918190  23.519496     [1.0496267, 47.334126]   \n",
       "72       0.707733  23.486911       [45.835354, 7.18506]   \n",
       "74       0.707733  22.991617    [-4.7186527, 44.459126]   \n",
       "80       0.600127  22.657523     [52.705395, 7.3794713]   \n",
       "83       0.596812  23.507238     [-6.584786, 53.106697]   \n",
       "99       0.598350  23.131529      [42.44432, 3.1999044]   \n",
       "103      0.707733  23.483856    [57.453632, -3.0821476]   \n",
       "118      0.658760  23.035042     [58.728157, 4.2835608]   \n",
       "156      0.707733  23.573657    [-6.5568485, 48.035732]   \n",
       "162      0.617505  23.219838   [43.146084, -0.98305035]   \n",
       "164      0.621245  22.912126     [41.346245, 4.8674426]   \n",
       "166      0.707733  23.137547    [57.90462, -0.93856794]   \n",
       "179      0.707733  23.633468       [54.00764, 5.179919]   \n",
       "193      0.918190  23.309453    [-5.6660204, 43.815975]   \n",
       "195      0.598350  23.087824     [53.125793, 3.4387467]   \n",
       "206      0.707733  23.172791  [-0.092128925, 50.370785]   \n",
       "216      0.620935  23.475810        [48.6734, 4.427429]   \n",
       "231      0.606027  23.394898     [-7.487721, 52.533028]   \n",
       "233      0.796777  23.630820    [41.874462, -3.2058804]   \n",
       "\n",
       "                       tSNE2   distance  \n",
       "7    [49.558144, -4.6645484]  78.449619  \n",
       "10        [46.729, 7.996921]  62.834142  \n",
       "12      [-0.508363, 46.8971]  73.638964  \n",
       "18    [54.014908, 5.0585136]  10.388314  \n",
       "27    [-5.277692, 42.688644]  75.087265  \n",
       "35   [-1.0341753, 50.695877]  63.319384  \n",
       "52    [-4.037284, 46.056797]  73.869155  \n",
       "66    [47.670467, 7.3584003]  61.413039  \n",
       "72    [-2.000921, 50.405277]  64.469344  \n",
       "74   [44.475616, -4.4680896]  69.382624  \n",
       "80     [58.668625, 3.705927]   7.003930  \n",
       "83    [41.16825, 0.04524921]  71.385361  \n",
       "99   [55.473915, -3.7766144]  14.779788  \n",
       "103   [-8.043727, 47.891106]  82.995040  \n",
       "118  [44.864147, -2.3527591]  15.370475  \n",
       "156   [48.938732, 1.1741548]  72.634475  \n",
       "162   [58.716534, 4.1607385]  16.398094  \n",
       "164  [50.541374, -7.4304547]  15.355412  \n",
       "166  [-3.1603444, 49.979824]  79.508570  \n",
       "179   [-6.625497, 48.162216]  74.322643  \n",
       "193    [52.07066, -4.581881]  75.338415  \n",
       "195   [40.178776, 2.1534133]  13.010663  \n",
       "206    [56.57378, 0.6632285]  75.378156  \n",
       "216    [-4.167322, 55.85144]  73.733106  \n",
       "231  [44.440693, 0.03474397]  73.841925  \n",
       "233   [-5.277515, 42.689297]  65.800275  "
      ]
     },
     "execution_count": 213,
     "metadata": {},
     "output_type": "execute_result"
    }
   ],
   "source": [
    "df_new = df[df['Cluster1'].isin([2,4])]\n",
    "df_new = df_new[df_new['Cluster2'].isin([2,4])]\n",
    "df_new"
   ]
  },
  {
   "cell_type": "code",
   "execution_count": 187,
   "metadata": {},
   "outputs": [],
   "source": [
    "df1 = df[df['Cluster1'].isin([0,5])]\n",
    "df2 = df[df['Cluster2'].isin([0,5])]"
   ]
  },
  {
   "cell_type": "code",
   "execution_count": 218,
   "metadata": {},
   "outputs": [
    {
     "data": {
      "text/html": [
       "<div>\n",
       "<style scoped>\n",
       "    .dataframe tbody tr th:only-of-type {\n",
       "        vertical-align: middle;\n",
       "    }\n",
       "\n",
       "    .dataframe tbody tr th {\n",
       "        vertical-align: top;\n",
       "    }\n",
       "\n",
       "    .dataframe thead th {\n",
       "        text-align: right;\n",
       "    }\n",
       "</style>\n",
       "<table border=\"1\" class=\"dataframe\">\n",
       "  <thead>\n",
       "    <tr style=\"text-align: right;\">\n",
       "      <th></th>\n",
       "      <th>AAencoding1</th>\n",
       "      <th>AAencoding2</th>\n",
       "      <th>Cluster1</th>\n",
       "      <th>Cluster2</th>\n",
       "      <th>Boosting Max</th>\n",
       "      <th>Coverage</th>\n",
       "      <th>tSNE1</th>\n",
       "      <th>tSNE2</th>\n",
       "      <th>distance</th>\n",
       "    </tr>\n",
       "  </thead>\n",
       "  <tbody>\n",
       "    <tr>\n",
       "      <th>0</th>\n",
       "      <td>[0.0, 0.0, 0.0, 0.0, 0.0, 0.0, 0.0, 576.0, 0.0...</td>\n",
       "      <td>[192.0, 128.0, 0.0, 0.0, 128.0, 192.0, 0.0, 12...</td>\n",
       "      <td>7</td>\n",
       "      <td>2</td>\n",
       "      <td>0.617493</td>\n",
       "      <td>23.244197</td>\n",
       "      <td>[-26.09448, 13.99217]</td>\n",
       "      <td>[53.286095, -2.1562438]</td>\n",
       "      <td>81.006463</td>\n",
       "    </tr>\n",
       "    <tr>\n",
       "      <th>1</th>\n",
       "      <td>[0.0, 0.0, 0.0, 0.0, 0.0, 0.0, 0.0, 576.0, 0.0...</td>\n",
       "      <td>[216.0, 0.0, 108.0, 108.0, 0.0, 216.0, 0.0, 10...</td>\n",
       "      <td>7</td>\n",
       "      <td>3</td>\n",
       "      <td>0.707733</td>\n",
       "      <td>23.353671</td>\n",
       "      <td>[-24.00987, 13.519274]</td>\n",
       "      <td>[-24.172789, -1.7338996]</td>\n",
       "      <td>15.254043</td>\n",
       "    </tr>\n",
       "    <tr>\n",
       "      <th>2</th>\n",
       "      <td>[216.0, 0.0, 108.0, 108.0, 0.0, 216.0, 0.0, 10...</td>\n",
       "      <td>[288.0, 0.0, 0.0, 0.0, 144.0, 0.0, 0.0, 216.0,...</td>\n",
       "      <td>2</td>\n",
       "      <td>0</td>\n",
       "      <td>0.687614</td>\n",
       "      <td>23.681335</td>\n",
       "      <td>[52.626415, 6.3773384]</td>\n",
       "      <td>[10.970732, -11.692252]</td>\n",
       "      <td>45.406014</td>\n",
       "    </tr>\n",
       "    <tr>\n",
       "      <th>3</th>\n",
       "      <td>[0.0, 0.0, 0.0, 0.0, 0.0, 0.0, 0.0, 384.0, 0.0...</td>\n",
       "      <td>[288.0, 0.0, 0.0, 0.0, 192.0, 0.0, 0.0, 288.0,...</td>\n",
       "      <td>7</td>\n",
       "      <td>0</td>\n",
       "      <td>0.862463</td>\n",
       "      <td>22.953738</td>\n",
       "      <td>[-24.019543, 7.8174706]</td>\n",
       "      <td>[8.821808, -4.9138837]</td>\n",
       "      <td>35.222744</td>\n",
       "    </tr>\n",
       "    <tr>\n",
       "      <th>4</th>\n",
       "      <td>[288.0, 0.0, 0.0, 0.0, 0.0, 0.0, 0.0, 288.0, 0...</td>\n",
       "      <td>[0.0, 144.0, 144.0, 0.0, 144.0, 144.0, 144.0, ...</td>\n",
       "      <td>0</td>\n",
       "      <td>6</td>\n",
       "      <td>0.825004</td>\n",
       "      <td>23.627419</td>\n",
       "      <td>[5.1837177, -5.3372426]</td>\n",
       "      <td>[38.894146, 13.482553]</td>\n",
       "      <td>38.608000</td>\n",
       "    </tr>\n",
       "    <tr>\n",
       "      <th>...</th>\n",
       "      <td>...</td>\n",
       "      <td>...</td>\n",
       "      <td>...</td>\n",
       "      <td>...</td>\n",
       "      <td>...</td>\n",
       "      <td>...</td>\n",
       "      <td>...</td>\n",
       "      <td>...</td>\n",
       "      <td>...</td>\n",
       "    </tr>\n",
       "    <tr>\n",
       "      <th>235</th>\n",
       "      <td>[0.0, 0.0, 144.0, 144.0, 0.0, 0.0, 144.0, 216....</td>\n",
       "      <td>[216.0, 0.0, 108.0, 108.0, 0.0, 216.0, 0.0, 10...</td>\n",
       "      <td>2</td>\n",
       "      <td>1</td>\n",
       "      <td>0.658760</td>\n",
       "      <td>22.534080</td>\n",
       "      <td>[44.359184, 2.343974]</td>\n",
       "      <td>[29.829584, 45.656666]</td>\n",
       "      <td>45.684774</td>\n",
       "    </tr>\n",
       "    <tr>\n",
       "      <th>236</th>\n",
       "      <td>[216.0, 0.0, 108.0, 108.0, 0.0, 216.0, 0.0, 10...</td>\n",
       "      <td>[0.0, 0.0, 144.0, 144.0, 0.0, 0.0, 144.0, 144....</td>\n",
       "      <td>3</td>\n",
       "      <td>5</td>\n",
       "      <td>0.825004</td>\n",
       "      <td>23.670006</td>\n",
       "      <td>[-24.419033, -1.8264208]</td>\n",
       "      <td>[-5.0754743, 9.437583]</td>\n",
       "      <td>22.384170</td>\n",
       "    </tr>\n",
       "    <tr>\n",
       "      <th>237</th>\n",
       "      <td>[216.0, 0.0, 72.0, 144.0, 0.0, 216.0, 0.0, 144...</td>\n",
       "      <td>[216.0, 0.0, 216.0, 0.0, 0.0, 216.0, 0.0, 216....</td>\n",
       "      <td>0</td>\n",
       "      <td>3</td>\n",
       "      <td>0.794447</td>\n",
       "      <td>22.911613</td>\n",
       "      <td>[-0.93521804, -10.4958935]</td>\n",
       "      <td>[-28.708641, 0.8066234]</td>\n",
       "      <td>29.985162</td>\n",
       "    </tr>\n",
       "    <tr>\n",
       "      <th>238</th>\n",
       "      <td>[288.0, 0.0, 0.0, 0.0, 144.0, 0.0, 0.0, 144.0,...</td>\n",
       "      <td>[0.0, 0.0, 128.0, 64.0, 0.0, 192.0, 128.0, 128...</td>\n",
       "      <td>0</td>\n",
       "      <td>4</td>\n",
       "      <td>0.707733</td>\n",
       "      <td>23.712017</td>\n",
       "      <td>[10.06345, -10.251858]</td>\n",
       "      <td>[-5.2175155, 42.185116]</td>\n",
       "      <td>54.618166</td>\n",
       "    </tr>\n",
       "    <tr>\n",
       "      <th>239</th>\n",
       "      <td>[288.0, 0.0, 0.0, 0.0, 96.0, 0.0, 0.0, 192.0, ...</td>\n",
       "      <td>[0.0, 144.0, 144.0, 0.0, 144.0, 144.0, 144.0, ...</td>\n",
       "      <td>0</td>\n",
       "      <td>1</td>\n",
       "      <td>0.931106</td>\n",
       "      <td>23.189448</td>\n",
       "      <td>[9.802597, -0.70436686]</td>\n",
       "      <td>[22.916264, 44.398296]</td>\n",
       "      <td>46.970400</td>\n",
       "    </tr>\n",
       "  </tbody>\n",
       "</table>\n",
       "<p>226 rows × 9 columns</p>\n",
       "</div>"
      ],
      "text/plain": [
       "                                           AAencoding1  \\\n",
       "0    [0.0, 0.0, 0.0, 0.0, 0.0, 0.0, 0.0, 576.0, 0.0...   \n",
       "1    [0.0, 0.0, 0.0, 0.0, 0.0, 0.0, 0.0, 576.0, 0.0...   \n",
       "2    [216.0, 0.0, 108.0, 108.0, 0.0, 216.0, 0.0, 10...   \n",
       "3    [0.0, 0.0, 0.0, 0.0, 0.0, 0.0, 0.0, 384.0, 0.0...   \n",
       "4    [288.0, 0.0, 0.0, 0.0, 0.0, 0.0, 0.0, 288.0, 0...   \n",
       "..                                                 ...   \n",
       "235  [0.0, 0.0, 144.0, 144.0, 0.0, 0.0, 144.0, 216....   \n",
       "236  [216.0, 0.0, 108.0, 108.0, 0.0, 216.0, 0.0, 10...   \n",
       "237  [216.0, 0.0, 72.0, 144.0, 0.0, 216.0, 0.0, 144...   \n",
       "238  [288.0, 0.0, 0.0, 0.0, 144.0, 0.0, 0.0, 144.0,...   \n",
       "239  [288.0, 0.0, 0.0, 0.0, 96.0, 0.0, 0.0, 192.0, ...   \n",
       "\n",
       "                                           AAencoding2  Cluster1  Cluster2  \\\n",
       "0    [192.0, 128.0, 0.0, 0.0, 128.0, 192.0, 0.0, 12...         7         2   \n",
       "1    [216.0, 0.0, 108.0, 108.0, 0.0, 216.0, 0.0, 10...         7         3   \n",
       "2    [288.0, 0.0, 0.0, 0.0, 144.0, 0.0, 0.0, 216.0,...         2         0   \n",
       "3    [288.0, 0.0, 0.0, 0.0, 192.0, 0.0, 0.0, 288.0,...         7         0   \n",
       "4    [0.0, 144.0, 144.0, 0.0, 144.0, 144.0, 144.0, ...         0         6   \n",
       "..                                                 ...       ...       ...   \n",
       "235  [216.0, 0.0, 108.0, 108.0, 0.0, 216.0, 0.0, 10...         2         1   \n",
       "236  [0.0, 0.0, 144.0, 144.0, 0.0, 0.0, 144.0, 144....         3         5   \n",
       "237  [216.0, 0.0, 216.0, 0.0, 0.0, 216.0, 0.0, 216....         0         3   \n",
       "238  [0.0, 0.0, 128.0, 64.0, 0.0, 192.0, 128.0, 128...         0         4   \n",
       "239  [0.0, 144.0, 144.0, 0.0, 144.0, 144.0, 144.0, ...         0         1   \n",
       "\n",
       "     Boosting Max   Coverage                       tSNE1  \\\n",
       "0        0.617493  23.244197       [-26.09448, 13.99217]   \n",
       "1        0.707733  23.353671      [-24.00987, 13.519274]   \n",
       "2        0.687614  23.681335      [52.626415, 6.3773384]   \n",
       "3        0.862463  22.953738     [-24.019543, 7.8174706]   \n",
       "4        0.825004  23.627419     [5.1837177, -5.3372426]   \n",
       "..            ...        ...                         ...   \n",
       "235      0.658760  22.534080       [44.359184, 2.343974]   \n",
       "236      0.825004  23.670006    [-24.419033, -1.8264208]   \n",
       "237      0.794447  22.911613  [-0.93521804, -10.4958935]   \n",
       "238      0.707733  23.712017      [10.06345, -10.251858]   \n",
       "239      0.931106  23.189448     [9.802597, -0.70436686]   \n",
       "\n",
       "                        tSNE2   distance  \n",
       "0     [53.286095, -2.1562438]  81.006463  \n",
       "1    [-24.172789, -1.7338996]  15.254043  \n",
       "2     [10.970732, -11.692252]  45.406014  \n",
       "3      [8.821808, -4.9138837]  35.222744  \n",
       "4      [38.894146, 13.482553]  38.608000  \n",
       "..                        ...        ...  \n",
       "235    [29.829584, 45.656666]  45.684774  \n",
       "236    [-5.0754743, 9.437583]  22.384170  \n",
       "237   [-28.708641, 0.8066234]  29.985162  \n",
       "238   [-5.2175155, 42.185116]  54.618166  \n",
       "239    [22.916264, 44.398296]  46.970400  \n",
       "\n",
       "[226 rows x 9 columns]"
      ]
     },
     "execution_count": 218,
     "metadata": {},
     "output_type": "execute_result"
    }
   ],
   "source": [
    "df[df['Cluster1'] != df['Cluster2']]"
   ]
  },
  {
   "cell_type": "code",
   "execution_count": 193,
   "metadata": {},
   "outputs": [
    {
     "data": {
      "text/html": [
       "<div>\n",
       "<style scoped>\n",
       "    .dataframe tbody tr th:only-of-type {\n",
       "        vertical-align: middle;\n",
       "    }\n",
       "\n",
       "    .dataframe tbody tr th {\n",
       "        vertical-align: top;\n",
       "    }\n",
       "\n",
       "    .dataframe thead th {\n",
       "        text-align: right;\n",
       "    }\n",
       "</style>\n",
       "<table border=\"1\" class=\"dataframe\">\n",
       "  <thead>\n",
       "    <tr style=\"text-align: right;\">\n",
       "      <th></th>\n",
       "      <th>AAencoding1</th>\n",
       "      <th>AAencoding2</th>\n",
       "      <th>Cluster1</th>\n",
       "      <th>Cluster2</th>\n",
       "      <th>Boosting Max</th>\n",
       "      <th>Coverage</th>\n",
       "      <th>tSNE1</th>\n",
       "      <th>tSNE2</th>\n",
       "    </tr>\n",
       "  </thead>\n",
       "  <tbody>\n",
       "    <tr>\n",
       "      <th>4</th>\n",
       "      <td>[288.0, 0.0, 0.0, 0.0, 0.0, 0.0, 0.0, 288.0, 0...</td>\n",
       "      <td>[0.0, 144.0, 144.0, 0.0, 144.0, 144.0, 144.0, ...</td>\n",
       "      <td>0</td>\n",
       "      <td>6</td>\n",
       "      <td>0.825004</td>\n",
       "      <td>23.627419</td>\n",
       "      <td>[5.1837177, -5.3372426]</td>\n",
       "      <td>[38.894146, 13.482553]</td>\n",
       "    </tr>\n",
       "    <tr>\n",
       "      <th>9</th>\n",
       "      <td>[288.0, 0.0, 0.0, 0.0, 96.0, 0.0, 0.0, 192.0, ...</td>\n",
       "      <td>[0.0, 0.0, 96.0, 96.0, 0.0, 192.0, 96.0, 144.0...</td>\n",
       "      <td>0</td>\n",
       "      <td>2</td>\n",
       "      <td>0.766369</td>\n",
       "      <td>23.459237</td>\n",
       "      <td>[3.952513, -14.753521]</td>\n",
       "      <td>[40.39233, 2.5256345]</td>\n",
       "    </tr>\n",
       "    <tr>\n",
       "      <th>14</th>\n",
       "      <td>[0.0, 0.0, 144.0, 144.0, 0.0, 0.0, 144.0, 144....</td>\n",
       "      <td>[288.0, 0.0, 0.0, 0.0, 192.0, 0.0, 0.0, 192.0,...</td>\n",
       "      <td>5</td>\n",
       "      <td>0</td>\n",
       "      <td>0.825004</td>\n",
       "      <td>23.985094</td>\n",
       "      <td>[-8.676963, 1.6746804]</td>\n",
       "      <td>[9.230411, -3.349761]</td>\n",
       "    </tr>\n",
       "    <tr>\n",
       "      <th>21</th>\n",
       "      <td>[0.0, 0.0, 192.0, 96.0, 0.0, 0.0, 192.0, 192.0...</td>\n",
       "      <td>[216.0, 0.0, 144.0, 72.0, 0.0, 216.0, 0.0, 144...</td>\n",
       "      <td>5</td>\n",
       "      <td>2</td>\n",
       "      <td>0.825004</td>\n",
       "      <td>23.681555</td>\n",
       "      <td>[-3.2635891, 2.420505]</td>\n",
       "      <td>[50.721638, -1.3470767]</td>\n",
       "    </tr>\n",
       "    <tr>\n",
       "      <th>24</th>\n",
       "      <td>[288.0, 0.0, 144.0, 144.0, 0.0, 0.0, 0.0, 144....</td>\n",
       "      <td>[0.0, 0.0, 192.0, 96.0, 0.0, 0.0, 192.0, 192.0...</td>\n",
       "      <td>0</td>\n",
       "      <td>5</td>\n",
       "      <td>0.825004</td>\n",
       "      <td>23.572337</td>\n",
       "      <td>[11.609349, -4.2731476]</td>\n",
       "      <td>[-9.179663, 5.901541]</td>\n",
       "    </tr>\n",
       "    <tr>\n",
       "      <th>25</th>\n",
       "      <td>[216.0, 0.0, 108.0, 108.0, 0.0, 216.0, 0.0, 10...</td>\n",
       "      <td>[0.0, 0.0, 0.0, 0.0, 0.0, 0.0, 0.0, 576.0, 0.0...</td>\n",
       "      <td>0</td>\n",
       "      <td>7</td>\n",
       "      <td>0.825004</td>\n",
       "      <td>23.182959</td>\n",
       "      <td>[7.7370033, 0.19566794]</td>\n",
       "      <td>[-27.703453, 14.68657]</td>\n",
       "    </tr>\n",
       "    <tr>\n",
       "      <th>36</th>\n",
       "      <td>[0.0, 144.0, 144.0, 0.0, 144.0, 144.0, 144.0, ...</td>\n",
       "      <td>[0.0, 0.0, 0.0, 0.0, 0.0, 0.0, 0.0, 576.0, 0.0...</td>\n",
       "      <td>5</td>\n",
       "      <td>7</td>\n",
       "      <td>0.825004</td>\n",
       "      <td>23.272661</td>\n",
       "      <td>[-2.2876036, 1.2254747]</td>\n",
       "      <td>[-25.260899, 13.246671]</td>\n",
       "    </tr>\n",
       "    <tr>\n",
       "      <th>43</th>\n",
       "      <td>[288.0, 0.0, 0.0, 0.0, 192.0, 0.0, 0.0, 192.0,...</td>\n",
       "      <td>[0.0, 0.0, 96.0, 96.0, 0.0, 192.0, 96.0, 96.0,...</td>\n",
       "      <td>0</td>\n",
       "      <td>1</td>\n",
       "      <td>0.825004</td>\n",
       "      <td>23.078333</td>\n",
       "      <td>[6.2561812, -11.238666]</td>\n",
       "      <td>[24.608175, 45.41338]</td>\n",
       "    </tr>\n",
       "    <tr>\n",
       "      <th>45</th>\n",
       "      <td>[288.0, 0.0, 0.0, 0.0, 144.0, 0.0, 0.0, 144.0,...</td>\n",
       "      <td>[0.0, 144.0, 144.0, 0.0, 144.0, 144.0, 144.0, ...</td>\n",
       "      <td>0</td>\n",
       "      <td>4</td>\n",
       "      <td>0.825004</td>\n",
       "      <td>23.472388</td>\n",
       "      <td>[7.232647, 2.4735155]</td>\n",
       "      <td>[-5.6446257, 43.8753]</td>\n",
       "    </tr>\n",
       "    <tr>\n",
       "      <th>48</th>\n",
       "      <td>[0.0, 0.0, 144.0, 144.0, 0.0, 0.0, 144.0, 216....</td>\n",
       "      <td>[0.0, 0.0, 144.0, 144.0, 0.0, 0.0, 144.0, 144....</td>\n",
       "      <td>5</td>\n",
       "      <td>5</td>\n",
       "      <td>0.825004</td>\n",
       "      <td>23.498256</td>\n",
       "      <td>[-3.2065103, 6.285175]</td>\n",
       "      <td>[-7.362859, 4.4055214]</td>\n",
       "    </tr>\n",
       "    <tr>\n",
       "      <th>49</th>\n",
       "      <td>[288.0, 0.0, 192.0, 96.0, 0.0, 0.0, 0.0, 288.0...</td>\n",
       "      <td>[0.0, 0.0, 144.0, 144.0, 0.0, 0.0, 144.0, 216....</td>\n",
       "      <td>0</td>\n",
       "      <td>3</td>\n",
       "      <td>0.724547</td>\n",
       "      <td>23.675570</td>\n",
       "      <td>[-0.5577577, -7.8515544]</td>\n",
       "      <td>[-21.503428, -0.989802]</td>\n",
       "    </tr>\n",
       "    <tr>\n",
       "      <th>55</th>\n",
       "      <td>[288.0, 0.0, 144.0, 144.0, 0.0, 0.0, 0.0, 144....</td>\n",
       "      <td>[216.0, 0.0, 108.0, 108.0, 0.0, 216.0, 0.0, 16...</td>\n",
       "      <td>5</td>\n",
       "      <td>4</td>\n",
       "      <td>0.707733</td>\n",
       "      <td>23.193427</td>\n",
       "      <td>[-10.573513, -8.438345]</td>\n",
       "      <td>[-1.9634331, 50.450344]</td>\n",
       "    </tr>\n",
       "    <tr>\n",
       "      <th>98</th>\n",
       "      <td>[0.0, 0.0, 96.0, 192.0, 0.0, 0.0, 96.0, 192.0,...</td>\n",
       "      <td>[288.0, 0.0, 0.0, 0.0, 144.0, 0.0, 0.0, 216.0,...</td>\n",
       "      <td>5</td>\n",
       "      <td>3</td>\n",
       "      <td>0.825004</td>\n",
       "      <td>23.381080</td>\n",
       "      <td>[-7.002332, 6.923145]</td>\n",
       "      <td>[-23.971935, -2.7704139]</td>\n",
       "    </tr>\n",
       "    <tr>\n",
       "      <th>120</th>\n",
       "      <td>[0.0, 0.0, 96.0, 192.0, 0.0, 0.0, 96.0, 192.0,...</td>\n",
       "      <td>[0.0, 0.0, 96.0, 96.0, 0.0, 192.0, 96.0, 192.0...</td>\n",
       "      <td>5</td>\n",
       "      <td>1</td>\n",
       "      <td>0.825004</td>\n",
       "      <td>23.010420</td>\n",
       "      <td>[-3.9913132, 4.347136]</td>\n",
       "      <td>[27.802345, 46.769966]</td>\n",
       "    </tr>\n",
       "    <tr>\n",
       "      <th>2</th>\n",
       "      <td>[216.0, 0.0, 108.0, 108.0, 0.0, 216.0, 0.0, 10...</td>\n",
       "      <td>[288.0, 0.0, 0.0, 0.0, 144.0, 0.0, 0.0, 216.0,...</td>\n",
       "      <td>2</td>\n",
       "      <td>0</td>\n",
       "      <td>0.687614</td>\n",
       "      <td>23.681335</td>\n",
       "      <td>[52.626415, 6.3773384]</td>\n",
       "      <td>[10.970732, -11.692252]</td>\n",
       "    </tr>\n",
       "    <tr>\n",
       "      <th>3</th>\n",
       "      <td>[0.0, 0.0, 0.0, 0.0, 0.0, 0.0, 0.0, 384.0, 0.0...</td>\n",
       "      <td>[288.0, 0.0, 0.0, 0.0, 192.0, 0.0, 0.0, 288.0,...</td>\n",
       "      <td>7</td>\n",
       "      <td>0</td>\n",
       "      <td>0.862463</td>\n",
       "      <td>22.953738</td>\n",
       "      <td>[-24.019543, 7.8174706]</td>\n",
       "      <td>[8.821808, -4.9138837]</td>\n",
       "    </tr>\n",
       "    <tr>\n",
       "      <th>5</th>\n",
       "      <td>[216.0, 0.0, 144.0, 72.0, 0.0, 216.0, 0.0, 144...</td>\n",
       "      <td>[288.0, 0.0, 0.0, 0.0, 96.0, 0.0, 0.0, 192.0, ...</td>\n",
       "      <td>3</td>\n",
       "      <td>0</td>\n",
       "      <td>0.825004</td>\n",
       "      <td>23.643325</td>\n",
       "      <td>[-25.280952, -2.3431485]</td>\n",
       "      <td>[10.991956, -13.676091]</td>\n",
       "    </tr>\n",
       "    <tr>\n",
       "      <th>8</th>\n",
       "      <td>[216.0, 0.0, 108.0, 108.0, 0.0, 216.0, 0.0, 10...</td>\n",
       "      <td>[0.0, 144.0, 144.0, 0.0, 144.0, 144.0, 144.0, ...</td>\n",
       "      <td>1</td>\n",
       "      <td>0</td>\n",
       "      <td>0.707733</td>\n",
       "      <td>23.075366</td>\n",
       "      <td>[27.204084, 42.72406]</td>\n",
       "      <td>[11.392299, -21.713243]</td>\n",
       "    </tr>\n",
       "    <tr>\n",
       "      <th>11</th>\n",
       "      <td>[288.0, 0.0, 0.0, 0.0, 144.0, 0.0, 0.0, 144.0,...</td>\n",
       "      <td>[0.0, 144.0, 144.0, 0.0, 144.0, 144.0, 144.0, ...</td>\n",
       "      <td>2</td>\n",
       "      <td>5</td>\n",
       "      <td>0.807862</td>\n",
       "      <td>23.374190</td>\n",
       "      <td>[51.545395, -6.3946757]</td>\n",
       "      <td>[-5.674104, -7.5959544]</td>\n",
       "    </tr>\n",
       "    <tr>\n",
       "      <th>16</th>\n",
       "      <td>[216.0, 0.0, 108.0, 108.0, 0.0, 216.0, 0.0, 10...</td>\n",
       "      <td>[0.0, 0.0, 144.0, 144.0, 0.0, 0.0, 144.0, 216....</td>\n",
       "      <td>4</td>\n",
       "      <td>5</td>\n",
       "      <td>0.825004</td>\n",
       "      <td>23.394271</td>\n",
       "      <td>[-2.3704152, 54.923946]</td>\n",
       "      <td>[-3.2065103, 6.285175]</td>\n",
       "    </tr>\n",
       "    <tr>\n",
       "      <th>28</th>\n",
       "      <td>[0.0, 144.0, 144.0, 0.0, 144.0, 144.0, 144.0, ...</td>\n",
       "      <td>[288.0, 0.0, 0.0, 0.0, 144.0, 0.0, 0.0, 216.0,...</td>\n",
       "      <td>6</td>\n",
       "      <td>0</td>\n",
       "      <td>0.843608</td>\n",
       "      <td>23.909732</td>\n",
       "      <td>[38.89619, 13.482585]</td>\n",
       "      <td>[7.948473, -10.1762705]</td>\n",
       "    </tr>\n",
       "    <tr>\n",
       "      <th>39</th>\n",
       "      <td>[288.0, 0.0, 0.0, 0.0, 96.0, 0.0, 0.0, 192.0, ...</td>\n",
       "      <td>[216.0, 0.0, 108.0, 108.0, 0.0, 216.0, 0.0, 21...</td>\n",
       "      <td>4</td>\n",
       "      <td>0</td>\n",
       "      <td>0.707733</td>\n",
       "      <td>22.785264</td>\n",
       "      <td>[-4.155618, 55.691216]</td>\n",
       "      <td>[10.19266, -21.469427]</td>\n",
       "    </tr>\n",
       "    <tr>\n",
       "      <th>42</th>\n",
       "      <td>[0.0, 0.0, 0.0, 0.0, 0.0, 0.0, 0.0, 384.0, 0.0...</td>\n",
       "      <td>[216.0, 0.0, 108.0, 108.0, 0.0, 216.0, 0.0, 10...</td>\n",
       "      <td>7</td>\n",
       "      <td>5</td>\n",
       "      <td>0.862463</td>\n",
       "      <td>23.186921</td>\n",
       "      <td>[-27.308384, 16.54638]</td>\n",
       "      <td>[3.2372744, 0.31146437]</td>\n",
       "    </tr>\n",
       "    <tr>\n",
       "      <th>105</th>\n",
       "      <td>[0.0, 0.0, 144.0, 144.0, 0.0, 0.0, 144.0, 144....</td>\n",
       "      <td>[0.0, 144.0, 144.0, 0.0, 144.0, 144.0, 144.0, ...</td>\n",
       "      <td>6</td>\n",
       "      <td>5</td>\n",
       "      <td>0.862211</td>\n",
       "      <td>23.608158</td>\n",
       "      <td>[42.147797, 7.175635]</td>\n",
       "      <td>[-8.730868, -7.681757]</td>\n",
       "    </tr>\n",
       "    <tr>\n",
       "      <th>131</th>\n",
       "      <td>[0.0, 0.0, 96.0, 96.0, 0.0, 192.0, 96.0, 192.0...</td>\n",
       "      <td>[216.0, 0.0, 144.0, 72.0, 0.0, 216.0, 0.0, 144...</td>\n",
       "      <td>1</td>\n",
       "      <td>5</td>\n",
       "      <td>0.825004</td>\n",
       "      <td>23.034532</td>\n",
       "      <td>[25.398043, 44.787903]</td>\n",
       "      <td>[-10.067649, -8.147342]</td>\n",
       "    </tr>\n",
       "    <tr>\n",
       "      <th>146</th>\n",
       "      <td>[216.0, 0.0, 144.0, 72.0, 0.0, 216.0, 0.0, 144...</td>\n",
       "      <td>[0.0, 0.0, 144.0, 144.0, 0.0, 0.0, 144.0, 288....</td>\n",
       "      <td>3</td>\n",
       "      <td>5</td>\n",
       "      <td>0.825004</td>\n",
       "      <td>23.569137</td>\n",
       "      <td>[-25.24064, -2.4238508]</td>\n",
       "      <td>[-11.362347, -1.4251715]</td>\n",
       "    </tr>\n",
       "  </tbody>\n",
       "</table>\n",
       "</div>"
      ],
      "text/plain": [
       "                                           AAencoding1  \\\n",
       "4    [288.0, 0.0, 0.0, 0.0, 0.0, 0.0, 0.0, 288.0, 0...   \n",
       "9    [288.0, 0.0, 0.0, 0.0, 96.0, 0.0, 0.0, 192.0, ...   \n",
       "14   [0.0, 0.0, 144.0, 144.0, 0.0, 0.0, 144.0, 144....   \n",
       "21   [0.0, 0.0, 192.0, 96.0, 0.0, 0.0, 192.0, 192.0...   \n",
       "24   [288.0, 0.0, 144.0, 144.0, 0.0, 0.0, 0.0, 144....   \n",
       "25   [216.0, 0.0, 108.0, 108.0, 0.0, 216.0, 0.0, 10...   \n",
       "36   [0.0, 144.0, 144.0, 0.0, 144.0, 144.0, 144.0, ...   \n",
       "43   [288.0, 0.0, 0.0, 0.0, 192.0, 0.0, 0.0, 192.0,...   \n",
       "45   [288.0, 0.0, 0.0, 0.0, 144.0, 0.0, 0.0, 144.0,...   \n",
       "48   [0.0, 0.0, 144.0, 144.0, 0.0, 0.0, 144.0, 216....   \n",
       "49   [288.0, 0.0, 192.0, 96.0, 0.0, 0.0, 0.0, 288.0...   \n",
       "55   [288.0, 0.0, 144.0, 144.0, 0.0, 0.0, 0.0, 144....   \n",
       "98   [0.0, 0.0, 96.0, 192.0, 0.0, 0.0, 96.0, 192.0,...   \n",
       "120  [0.0, 0.0, 96.0, 192.0, 0.0, 0.0, 96.0, 192.0,...   \n",
       "2    [216.0, 0.0, 108.0, 108.0, 0.0, 216.0, 0.0, 10...   \n",
       "3    [0.0, 0.0, 0.0, 0.0, 0.0, 0.0, 0.0, 384.0, 0.0...   \n",
       "5    [216.0, 0.0, 144.0, 72.0, 0.0, 216.0, 0.0, 144...   \n",
       "8    [216.0, 0.0, 108.0, 108.0, 0.0, 216.0, 0.0, 10...   \n",
       "11   [288.0, 0.0, 0.0, 0.0, 144.0, 0.0, 0.0, 144.0,...   \n",
       "16   [216.0, 0.0, 108.0, 108.0, 0.0, 216.0, 0.0, 10...   \n",
       "28   [0.0, 144.0, 144.0, 0.0, 144.0, 144.0, 144.0, ...   \n",
       "39   [288.0, 0.0, 0.0, 0.0, 96.0, 0.0, 0.0, 192.0, ...   \n",
       "42   [0.0, 0.0, 0.0, 0.0, 0.0, 0.0, 0.0, 384.0, 0.0...   \n",
       "105  [0.0, 0.0, 144.0, 144.0, 0.0, 0.0, 144.0, 144....   \n",
       "131  [0.0, 0.0, 96.0, 96.0, 0.0, 192.0, 96.0, 192.0...   \n",
       "146  [216.0, 0.0, 144.0, 72.0, 0.0, 216.0, 0.0, 144...   \n",
       "\n",
       "                                           AAencoding2  Cluster1  Cluster2  \\\n",
       "4    [0.0, 144.0, 144.0, 0.0, 144.0, 144.0, 144.0, ...         0         6   \n",
       "9    [0.0, 0.0, 96.0, 96.0, 0.0, 192.0, 96.0, 144.0...         0         2   \n",
       "14   [288.0, 0.0, 0.0, 0.0, 192.0, 0.0, 0.0, 192.0,...         5         0   \n",
       "21   [216.0, 0.0, 144.0, 72.0, 0.0, 216.0, 0.0, 144...         5         2   \n",
       "24   [0.0, 0.0, 192.0, 96.0, 0.0, 0.0, 192.0, 192.0...         0         5   \n",
       "25   [0.0, 0.0, 0.0, 0.0, 0.0, 0.0, 0.0, 576.0, 0.0...         0         7   \n",
       "36   [0.0, 0.0, 0.0, 0.0, 0.0, 0.0, 0.0, 576.0, 0.0...         5         7   \n",
       "43   [0.0, 0.0, 96.0, 96.0, 0.0, 192.0, 96.0, 96.0,...         0         1   \n",
       "45   [0.0, 144.0, 144.0, 0.0, 144.0, 144.0, 144.0, ...         0         4   \n",
       "48   [0.0, 0.0, 144.0, 144.0, 0.0, 0.0, 144.0, 144....         5         5   \n",
       "49   [0.0, 0.0, 144.0, 144.0, 0.0, 0.0, 144.0, 216....         0         3   \n",
       "55   [216.0, 0.0, 108.0, 108.0, 0.0, 216.0, 0.0, 16...         5         4   \n",
       "98   [288.0, 0.0, 0.0, 0.0, 144.0, 0.0, 0.0, 216.0,...         5         3   \n",
       "120  [0.0, 0.0, 96.0, 96.0, 0.0, 192.0, 96.0, 192.0...         5         1   \n",
       "2    [288.0, 0.0, 0.0, 0.0, 144.0, 0.0, 0.0, 216.0,...         2         0   \n",
       "3    [288.0, 0.0, 0.0, 0.0, 192.0, 0.0, 0.0, 288.0,...         7         0   \n",
       "5    [288.0, 0.0, 0.0, 0.0, 96.0, 0.0, 0.0, 192.0, ...         3         0   \n",
       "8    [0.0, 144.0, 144.0, 0.0, 144.0, 144.0, 144.0, ...         1         0   \n",
       "11   [0.0, 144.0, 144.0, 0.0, 144.0, 144.0, 144.0, ...         2         5   \n",
       "16   [0.0, 0.0, 144.0, 144.0, 0.0, 0.0, 144.0, 216....         4         5   \n",
       "28   [288.0, 0.0, 0.0, 0.0, 144.0, 0.0, 0.0, 216.0,...         6         0   \n",
       "39   [216.0, 0.0, 108.0, 108.0, 0.0, 216.0, 0.0, 21...         4         0   \n",
       "42   [216.0, 0.0, 108.0, 108.0, 0.0, 216.0, 0.0, 10...         7         5   \n",
       "105  [0.0, 144.0, 144.0, 0.0, 144.0, 144.0, 144.0, ...         6         5   \n",
       "131  [216.0, 0.0, 144.0, 72.0, 0.0, 216.0, 0.0, 144...         1         5   \n",
       "146  [0.0, 0.0, 144.0, 144.0, 0.0, 0.0, 144.0, 288....         3         5   \n",
       "\n",
       "     Boosting Max   Coverage                     tSNE1  \\\n",
       "4        0.825004  23.627419   [5.1837177, -5.3372426]   \n",
       "9        0.766369  23.459237    [3.952513, -14.753521]   \n",
       "14       0.825004  23.985094    [-8.676963, 1.6746804]   \n",
       "21       0.825004  23.681555    [-3.2635891, 2.420505]   \n",
       "24       0.825004  23.572337   [11.609349, -4.2731476]   \n",
       "25       0.825004  23.182959   [7.7370033, 0.19566794]   \n",
       "36       0.825004  23.272661   [-2.2876036, 1.2254747]   \n",
       "43       0.825004  23.078333   [6.2561812, -11.238666]   \n",
       "45       0.825004  23.472388     [7.232647, 2.4735155]   \n",
       "48       0.825004  23.498256    [-3.2065103, 6.285175]   \n",
       "49       0.724547  23.675570  [-0.5577577, -7.8515544]   \n",
       "55       0.707733  23.193427   [-10.573513, -8.438345]   \n",
       "98       0.825004  23.381080     [-7.002332, 6.923145]   \n",
       "120      0.825004  23.010420    [-3.9913132, 4.347136]   \n",
       "2        0.687614  23.681335    [52.626415, 6.3773384]   \n",
       "3        0.862463  22.953738   [-24.019543, 7.8174706]   \n",
       "5        0.825004  23.643325  [-25.280952, -2.3431485]   \n",
       "8        0.707733  23.075366     [27.204084, 42.72406]   \n",
       "11       0.807862  23.374190   [51.545395, -6.3946757]   \n",
       "16       0.825004  23.394271   [-2.3704152, 54.923946]   \n",
       "28       0.843608  23.909732     [38.89619, 13.482585]   \n",
       "39       0.707733  22.785264    [-4.155618, 55.691216]   \n",
       "42       0.862463  23.186921    [-27.308384, 16.54638]   \n",
       "105      0.862211  23.608158     [42.147797, 7.175635]   \n",
       "131      0.825004  23.034532    [25.398043, 44.787903]   \n",
       "146      0.825004  23.569137   [-25.24064, -2.4238508]   \n",
       "\n",
       "                        tSNE2  \n",
       "4      [38.894146, 13.482553]  \n",
       "9       [40.39233, 2.5256345]  \n",
       "14      [9.230411, -3.349761]  \n",
       "21    [50.721638, -1.3470767]  \n",
       "24      [-9.179663, 5.901541]  \n",
       "25     [-27.703453, 14.68657]  \n",
       "36    [-25.260899, 13.246671]  \n",
       "43      [24.608175, 45.41338]  \n",
       "45      [-5.6446257, 43.8753]  \n",
       "48     [-7.362859, 4.4055214]  \n",
       "49    [-21.503428, -0.989802]  \n",
       "55    [-1.9634331, 50.450344]  \n",
       "98   [-23.971935, -2.7704139]  \n",
       "120    [27.802345, 46.769966]  \n",
       "2     [10.970732, -11.692252]  \n",
       "3      [8.821808, -4.9138837]  \n",
       "5     [10.991956, -13.676091]  \n",
       "8     [11.392299, -21.713243]  \n",
       "11    [-5.674104, -7.5959544]  \n",
       "16     [-3.2065103, 6.285175]  \n",
       "28    [7.948473, -10.1762705]  \n",
       "39     [10.19266, -21.469427]  \n",
       "42    [3.2372744, 0.31146437]  \n",
       "105    [-8.730868, -7.681757]  \n",
       "131   [-10.067649, -8.147342]  \n",
       "146  [-11.362347, -1.4251715]  "
      ]
     },
     "execution_count": 193,
     "metadata": {},
     "output_type": "execute_result"
    }
   ],
   "source": [
    "combined = pd.concat((df1, df2))\n",
    "combined = combined.drop_duplicates(subset=['Cluster1', 'Cluster2'])\n",
    "combined"
   ]
  },
  {
   "cell_type": "code",
   "execution_count": 223,
   "metadata": {},
   "outputs": [
    {
     "data": {
      "text/plain": [
       "0.8044385383257517"
      ]
     },
     "execution_count": 223,
     "metadata": {},
     "output_type": "execute_result"
    }
   ],
   "source": [
    "np.mean(combined['Boosting Max'])"
   ]
  },
  {
   "cell_type": "code",
   "execution_count": 164,
   "metadata": {},
   "outputs": [],
   "source": [
    "import math\n",
    "df['distance'] = math.dist(df['tSNE1'].values, df['tSNE2'].values)"
   ]
  },
  {
   "cell_type": "code",
   "execution_count": 165,
   "metadata": {},
   "outputs": [
    {
     "ename": "TypeError",
     "evalue": "only size-1 arrays can be converted to Python scalars",
     "output_type": "error",
     "traceback": [
      "\u001b[0;31m---------------------------------------------------------------------------\u001b[0m",
      "\u001b[0;31mTypeError\u001b[0m                                 Traceback (most recent call last)",
      "\u001b[1;32m/home/jyang4/repos/StARDUST/analysis.ipynb Cell 40\u001b[0m in \u001b[0;36m<cell line: 1>\u001b[0;34m()\u001b[0m\n\u001b[0;32m----> <a href='vscode-notebook-cell://ssh-remote%2Bwolfird/home/jyang4/repos/StARDUST/analysis.ipynb#Y233sdnNjb2RlLXJlbW90ZQ%3D%3D?line=0'>1</a>\u001b[0m math\u001b[39m.\u001b[39;49mdist(df[\u001b[39m'\u001b[39;49m\u001b[39mtSNE1\u001b[39;49m\u001b[39m'\u001b[39;49m]\u001b[39m.\u001b[39;49mvalues, df[\u001b[39m'\u001b[39;49m\u001b[39mtSNE2\u001b[39;49m\u001b[39m'\u001b[39;49m]\u001b[39m.\u001b[39;49mvalues)\n",
      "\u001b[0;31mTypeError\u001b[0m: only size-1 arrays can be converted to Python scalars"
     ]
    }
   ],
   "source": [
    "math.dist(df['tSNE1'].values, df['tSNE2'].values)"
   ]
  },
  {
   "cell_type": "code",
   "execution_count": 8,
   "metadata": {},
   "outputs": [],
   "source": [
    "all_initial_distances = []\n",
    "all_final_distances = []\n",
    "for combo in list(product(range(240), range(240))):\n",
    "    all_initial_distances.append(sum([a != b for a,b in zip(initial_encodings[combo[0],:], initial_encodings[combo[1],:])]))\n",
    "    all_final_distances.append(sum([a != b for a,b in zip(final_encodings[combo[0],:], final_encodings[combo[1],:])]))"
   ]
  },
  {
   "cell_type": "code",
   "execution_count": 11,
   "metadata": {},
   "outputs": [
    {
     "data": {
      "text/plain": [
       "14.112465277777778"
      ]
     },
     "execution_count": 11,
     "metadata": {},
     "output_type": "execute_result"
    }
   ],
   "source": [
    "np.mean(all_final_distances)"
   ]
  },
  {
   "cell_type": "code",
   "execution_count": 12,
   "metadata": {},
   "outputs": [
    {
     "data": {
      "text/plain": [
       "22.093958333333333"
      ]
     },
     "execution_count": 12,
     "metadata": {},
     "output_type": "execute_result"
    }
   ],
   "source": [
    "np.mean(all_initial_distances)"
   ]
  },
  {
   "cell_type": "code",
   "execution_count": 10,
   "metadata": {},
   "outputs": [
    {
     "ename": "KeyboardInterrupt",
     "evalue": "",
     "output_type": "error",
     "traceback": [
      "\u001b[0;31m---------------------------------------------------------------------------\u001b[0m",
      "\u001b[0;31mKeyboardInterrupt\u001b[0m                         Traceback (most recent call last)",
      "\u001b[1;32m/home/jyang4/repos/StARDUST/analysis.ipynb Cell 31\u001b[0m in \u001b[0;36m<cell line: 10>\u001b[0;34m()\u001b[0m\n\u001b[1;32m      <a href='vscode-notebook-cell://ssh-remote%2Bwolfird/home/jyang4/repos/StARDUST/analysis.ipynb#X42sdnNjb2RlLXJlbW90ZQ%3D%3D?line=6'>7</a>\u001b[0m mpl\u001b[39m.\u001b[39mrcParams[\u001b[39m'\u001b[39m\u001b[39mytick.major.width\u001b[39m\u001b[39m'\u001b[39m] \u001b[39m=\u001b[39m \u001b[39m2\u001b[39m\n\u001b[1;32m      <a href='vscode-notebook-cell://ssh-remote%2Bwolfird/home/jyang4/repos/StARDUST/analysis.ipynb#X42sdnNjb2RlLXJlbW90ZQ%3D%3D?line=8'>9</a>\u001b[0m plt\u001b[39m.\u001b[39mfigure(figsize \u001b[39m=\u001b[39m (\u001b[39m12\u001b[39m, \u001b[39m5\u001b[39m))\n\u001b[0;32m---> <a href='vscode-notebook-cell://ssh-remote%2Bwolfird/home/jyang4/repos/StARDUST/analysis.ipynb#X42sdnNjb2RlLXJlbW90ZQ%3D%3D?line=9'>10</a>\u001b[0m sns\u001b[39m.\u001b[39;49mhistplot(all_initial_distances, color\u001b[39m=\u001b[39;49m\u001b[39m'\u001b[39;49m\u001b[39mr\u001b[39;49m\u001b[39m'\u001b[39;49m, discrete \u001b[39m=\u001b[39;49m \u001b[39mTrue\u001b[39;49;00m)\n\u001b[1;32m     <a href='vscode-notebook-cell://ssh-remote%2Bwolfird/home/jyang4/repos/StARDUST/analysis.ipynb#X42sdnNjb2RlLXJlbW90ZQ%3D%3D?line=10'>11</a>\u001b[0m sns\u001b[39m.\u001b[39mhistplot(all_final_distances, color\u001b[39m=\u001b[39m\u001b[39m'\u001b[39m\u001b[39mb\u001b[39m\u001b[39m'\u001b[39m, discrete\u001b[39m=\u001b[39m\u001b[39mTrue\u001b[39;00m)\n\u001b[1;32m     <a href='vscode-notebook-cell://ssh-remote%2Bwolfird/home/jyang4/repos/StARDUST/analysis.ipynb#X42sdnNjb2RlLXJlbW90ZQ%3D%3D?line=11'>12</a>\u001b[0m plt\u001b[39m.\u001b[39mxlabel(\u001b[39m'\u001b[39m\u001b[39mhamming distance\u001b[39m\u001b[39m'\u001b[39m)\n",
      "File \u001b[0;32m~/miniconda3/envs/ProtGraphR/lib/python3.9/site-packages/seaborn/distributions.py:1462\u001b[0m, in \u001b[0;36mhistplot\u001b[0;34m(data, x, y, hue, weights, stat, bins, binwidth, binrange, discrete, cumulative, common_bins, common_norm, multiple, element, fill, shrink, kde, kde_kws, line_kws, thresh, pthresh, pmax, cbar, cbar_ax, cbar_kws, palette, hue_order, hue_norm, color, log_scale, legend, ax, **kwargs)\u001b[0m\n\u001b[1;32m   1451\u001b[0m estimate_kws \u001b[39m=\u001b[39m \u001b[39mdict\u001b[39m(\n\u001b[1;32m   1452\u001b[0m     stat\u001b[39m=\u001b[39mstat,\n\u001b[1;32m   1453\u001b[0m     bins\u001b[39m=\u001b[39mbins,\n\u001b[0;32m   (...)\u001b[0m\n\u001b[1;32m   1457\u001b[0m     cumulative\u001b[39m=\u001b[39mcumulative,\n\u001b[1;32m   1458\u001b[0m )\n\u001b[1;32m   1460\u001b[0m \u001b[39mif\u001b[39;00m p\u001b[39m.\u001b[39munivariate:\n\u001b[0;32m-> 1462\u001b[0m     p\u001b[39m.\u001b[39;49mplot_univariate_histogram(\n\u001b[1;32m   1463\u001b[0m         multiple\u001b[39m=\u001b[39;49mmultiple,\n\u001b[1;32m   1464\u001b[0m         element\u001b[39m=\u001b[39;49melement,\n\u001b[1;32m   1465\u001b[0m         fill\u001b[39m=\u001b[39;49mfill,\n\u001b[1;32m   1466\u001b[0m         shrink\u001b[39m=\u001b[39;49mshrink,\n\u001b[1;32m   1467\u001b[0m         common_norm\u001b[39m=\u001b[39;49mcommon_norm,\n\u001b[1;32m   1468\u001b[0m         common_bins\u001b[39m=\u001b[39;49mcommon_bins,\n\u001b[1;32m   1469\u001b[0m         kde\u001b[39m=\u001b[39;49mkde,\n\u001b[1;32m   1470\u001b[0m         kde_kws\u001b[39m=\u001b[39;49mkde_kws,\n\u001b[1;32m   1471\u001b[0m         color\u001b[39m=\u001b[39;49mcolor,\n\u001b[1;32m   1472\u001b[0m         legend\u001b[39m=\u001b[39;49mlegend,\n\u001b[1;32m   1473\u001b[0m         estimate_kws\u001b[39m=\u001b[39;49mestimate_kws,\n\u001b[1;32m   1474\u001b[0m         line_kws\u001b[39m=\u001b[39;49mline_kws,\n\u001b[1;32m   1475\u001b[0m         \u001b[39m*\u001b[39;49m\u001b[39m*\u001b[39;49mkwargs,\n\u001b[1;32m   1476\u001b[0m     )\n\u001b[1;32m   1478\u001b[0m \u001b[39melse\u001b[39;00m:\n\u001b[1;32m   1480\u001b[0m     p\u001b[39m.\u001b[39mplot_bivariate_histogram(\n\u001b[1;32m   1481\u001b[0m         common_bins\u001b[39m=\u001b[39mcommon_bins,\n\u001b[1;32m   1482\u001b[0m         common_norm\u001b[39m=\u001b[39mcommon_norm,\n\u001b[0;32m   (...)\u001b[0m\n\u001b[1;32m   1492\u001b[0m         \u001b[39m*\u001b[39m\u001b[39m*\u001b[39mkwargs,\n\u001b[1;32m   1493\u001b[0m     )\n",
      "File \u001b[0;32m~/miniconda3/envs/ProtGraphR/lib/python3.9/site-packages/seaborn/distributions.py:574\u001b[0m, in \u001b[0;36m_DistributionPlotter.plot_univariate_histogram\u001b[0;34m(self, multiple, element, fill, common_norm, common_bins, shrink, kde, kde_kws, color, legend, line_kws, estimate_kws, **plot_kws)\u001b[0m\n\u001b[1;32m    565\u001b[0m artists \u001b[39m=\u001b[39m plot_func(\n\u001b[1;32m    566\u001b[0m     hist[\u001b[39m\"\u001b[39m\u001b[39medges\u001b[39m\u001b[39m\"\u001b[39m],\n\u001b[1;32m    567\u001b[0m     hist[\u001b[39m\"\u001b[39m\u001b[39mheights\u001b[39m\u001b[39m\"\u001b[39m] \u001b[39m-\u001b[39m bottom,\n\u001b[0;32m   (...)\u001b[0m\n\u001b[1;32m    571\u001b[0m     \u001b[39m*\u001b[39m\u001b[39m*\u001b[39martist_kws,\n\u001b[1;32m    572\u001b[0m )\n\u001b[1;32m    573\u001b[0m \u001b[39mfor\u001b[39;00m bar \u001b[39min\u001b[39;00m artists:\n\u001b[0;32m--> 574\u001b[0m     \u001b[39mif\u001b[39;00m \u001b[39mself\u001b[39;49m\u001b[39m.\u001b[39;49mdata_variable \u001b[39m==\u001b[39m \u001b[39m\"\u001b[39m\u001b[39mx\u001b[39m\u001b[39m\"\u001b[39m:\n\u001b[1;32m    575\u001b[0m         bar\u001b[39m.\u001b[39msticky_edges\u001b[39m.\u001b[39mx[:] \u001b[39m=\u001b[39m sticky_data\n\u001b[1;32m    576\u001b[0m         bar\u001b[39m.\u001b[39msticky_edges\u001b[39m.\u001b[39my[:] \u001b[39m=\u001b[39m sticky_stat\n",
      "File \u001b[0;32m~/miniconda3/envs/ProtGraphR/lib/python3.9/site-packages/seaborn/distributions.py:126\u001b[0m, in \u001b[0;36m_DistributionPlotter.data_variable\u001b[0;34m(self)\u001b[0m\n\u001b[1;32m    124\u001b[0m \u001b[39m\"\"\"Return the variable with data for univariate plots.\"\"\"\u001b[39;00m\n\u001b[1;32m    125\u001b[0m \u001b[39m# TODO This could also be in core, but it should have a better name.\u001b[39;00m\n\u001b[0;32m--> 126\u001b[0m \u001b[39mif\u001b[39;00m \u001b[39mnot\u001b[39;00m \u001b[39mself\u001b[39;49m\u001b[39m.\u001b[39;49munivariate:\n\u001b[1;32m    127\u001b[0m     \u001b[39mraise\u001b[39;00m \u001b[39mAttributeError\u001b[39;00m(\u001b[39m\"\u001b[39m\u001b[39mThis is not a univariate plot\u001b[39m\u001b[39m\"\u001b[39m)\n\u001b[1;32m    128\u001b[0m \u001b[39mreturn\u001b[39;00m {\u001b[39m\"\u001b[39m\u001b[39mx\u001b[39m\u001b[39m\"\u001b[39m, \u001b[39m\"\u001b[39m\u001b[39my\u001b[39m\u001b[39m\"\u001b[39m}\u001b[39m.\u001b[39mintersection(\u001b[39mself\u001b[39m\u001b[39m.\u001b[39mvariables)\u001b[39m.\u001b[39mpop()\n",
      "File \u001b[0;32m~/miniconda3/envs/ProtGraphR/lib/python3.9/site-packages/seaborn/distributions.py:120\u001b[0m, in \u001b[0;36m_DistributionPlotter.univariate\u001b[0;34m(self)\u001b[0m\n\u001b[1;32m    115\u001b[0m \u001b[39m\"\"\"Return True if only x or y are used.\"\"\"\u001b[39;00m\n\u001b[1;32m    116\u001b[0m \u001b[39m# TODO this could go down to core, but putting it here now.\u001b[39;00m\n\u001b[1;32m    117\u001b[0m \u001b[39m# We'd want to be conceptually clear that univariate only applies\u001b[39;00m\n\u001b[1;32m    118\u001b[0m \u001b[39m# to x/y and not to other semantics, which can exist.\u001b[39;00m\n\u001b[1;32m    119\u001b[0m \u001b[39m# We haven't settled on a good conceptual name for x/y.\u001b[39;00m\n\u001b[0;32m--> 120\u001b[0m \u001b[39mreturn\u001b[39;00m \u001b[39mbool\u001b[39m({\u001b[39m\"\u001b[39;49m\u001b[39mx\u001b[39;49m\u001b[39m\"\u001b[39;49m, \u001b[39m\"\u001b[39;49m\u001b[39my\u001b[39;49m\u001b[39m\"\u001b[39;49m} \u001b[39m-\u001b[39;49m \u001b[39mset\u001b[39;49m(\u001b[39mself\u001b[39;49m\u001b[39m.\u001b[39;49mvariables))\n",
      "\u001b[0;31mKeyboardInterrupt\u001b[0m: "
     ]
    }
   ],
   "source": [
    "font = {'family' : 'arial',\n",
    "        'size'   : 16}\n",
    "mpl.rc('font', **font)\n",
    "mpl.rc('lines', linewidth=2)\n",
    "mpl.rcParams['axes.linewidth'] = 2\n",
    "mpl.rcParams['xtick.major.width'] = 2\n",
    "mpl.rcParams['ytick.major.width'] = 2\n",
    "\n",
    "plt.figure(figsize = (12, 5))\n",
    "sns.histplot(all_initial_distances, color='r', discrete = True)\n",
    "sns.histplot(all_final_distances, color='b', discrete=True)\n",
    "plt.xlabel('hamming distance')\n",
    "plt.legend(['Initial Libraries', 'Optimized Libraries'])\n",
    "\n",
    "#plt.savefig('both_hamming.jpg', dpi=500)"
   ]
  },
  {
   "cell_type": "code",
   "execution_count": 6,
   "metadata": {},
   "outputs": [
    {
     "data": {
      "text/plain": [
       "Text(0.5, 24.0, 'Nucleotide Position')"
      ]
     },
     "execution_count": 6,
     "metadata": {},
     "output_type": "execute_result"
    },
    {
     "data": {
      "image/png": "[encoded data removed]",
      "text/plain": [
       "<Figure size 864x360 with 2 Axes>"
      ]
     },
     "metadata": {
      "needs_background": "light"
     },
     "output_type": "display_data"
    }
   ],
   "source": [
    "plt.figure(figsize = (12, 5))\n",
    "sns.heatmap(data = np.sum(final_encodings, axis = 0).reshape(-1, 4).T, vmin = 0, vmax=240, yticklabels=['A', 'C', 'G', 'T'], xticklabels=np.arange(1, 13), linewidths=3)\n",
    "plt.xlabel('Nucleotide Position')\n",
    "#plt.savefig('dist1.jpg', dpi=500)"
   ]
  },
  {
   "cell_type": "code",
   "execution_count": 8,
   "metadata": {},
   "outputs": [],
   "source": [
    "initial_seqs = []\n",
    "final_seqs = []\n",
    "for encoding in initial_encodings:\n",
    "    initial_seqs.append(encoding2seq(encoding))\n",
    "for encoding in final_encodings:\n",
    "    final_seqs.append(encoding2seq(encoding))\n",
    "    \n",
    "initial_df = pd.DataFrame()\n",
    "for i in range(len(initial_seqs[0])):\n",
    "    initial_df[i] = [seq[i] for seq in initial_seqs]\n",
    "final_df = pd.DataFrame()\n",
    "for i in range(len(final_seqs[0])):\n",
    "    final_df[i] = [seq[i] for seq in final_seqs]"
   ]
  },
  {
   "cell_type": "code",
   "execution_count": 9,
   "metadata": {},
   "outputs": [
    {
     "data": {
      "text/plain": [
       "Text(0.5, 51.0, 'Nucleotide Position')"
      ]
     },
     "execution_count": 9,
     "metadata": {},
     "output_type": "execute_result"
    },
    {
     "data": {
      "image/png": "[encoded data removed]",
      "text/plain": [
       "<Figure size 864x576 with 2 Axes>"
      ]
     },
     "metadata": {
      "needs_background": "light"
     },
     "output_type": "display_data"
    }
   ],
   "source": [
    "from matplotlib.pyplot import colorbar\n",
    "\n",
    "counts = final_df.apply(pd.value_counts).fillna(0)\n",
    "counts = counts.reindex(labels2)\n",
    "plt.figure(figsize = (12, 8))\n",
    "sns.heatmap(counts, vmin = 0, vmax = 240,xticklabels=np.arange(1, 13), yticklabels=labels4, linewidths=2, cmap='magma')\n",
    "plt.xlabel('Nucleotide Position')\n",
    "\n",
    "#plt.savefig('dist3.jpg', dpi=500)"
   ]
  },
  {
   "cell_type": "markdown",
   "metadata": {},
   "source": [
    "### Visualize the protein distributions of initial and final libraries"
   ]
  },
  {
   "cell_type": "code",
   "execution_count": 113,
   "metadata": {},
   "outputs": [],
   "source": [
    "results = np.load('dclo/saved/simple_stochastic_exp25_mix2/results.npy', allow_pickle=True)\n",
    "#results = np.load('dclo/saved/simple_stochastic_TrpB_exp25/results.npy', allow_pickle=True)\n",
    "means = results.item()['means']\n",
    "vars = results.item()['vars']\n",
    "Xts = results.item()['Xts'].astype(int)\n",
    "\n",
    "final_means = means[-1, :, :]\n",
    "final_vars = vars[-1, :, :]\n",
    "\n",
    "initial_encodings = Xts[0, :, :]\n",
    "final_encodings = Xts[-1, :, :]\n",
    "#encoding2seq(final_encodings[0, :])"
   ]
  },
  {
   "cell_type": "code",
   "execution_count": 116,
   "metadata": {},
   "outputs": [
    {
     "data": {
      "text/plain": [
       "(240, 48, 2)"
      ]
     },
     "execution_count": 116,
     "metadata": {},
     "output_type": "execute_result"
    }
   ],
   "source": [
    "final_encodings.shape"
   ]
  },
  {
   "cell_type": "code",
   "execution_count": 5,
   "metadata": {},
   "outputs": [
    {
     "data": {
      "text/html": [
       "<div>\n",
       "<style scoped>\n",
       "    .dataframe tbody tr th:only-of-type {\n",
       "        vertical-align: middle;\n",
       "    }\n",
       "\n",
       "    .dataframe tbody tr th {\n",
       "        vertical-align: top;\n",
       "    }\n",
       "\n",
       "    .dataframe thead th {\n",
       "        text-align: right;\n",
       "    }\n",
       "</style>\n",
       "<table border=\"1\" class=\"dataframe\">\n",
       "  <thead>\n",
       "    <tr style=\"text-align: right;\">\n",
       "      <th></th>\n",
       "      <th>Combo</th>\n",
       "    </tr>\n",
       "  </thead>\n",
       "  <tbody>\n",
       "    <tr>\n",
       "      <th>0</th>\n",
       "      <td>PFSS</td>\n",
       "    </tr>\n",
       "    <tr>\n",
       "      <th>1</th>\n",
       "      <td>EPVS</td>\n",
       "    </tr>\n",
       "    <tr>\n",
       "      <th>2</th>\n",
       "      <td>HCNS</td>\n",
       "    </tr>\n",
       "    <tr>\n",
       "      <th>3</th>\n",
       "      <td>LLVS</td>\n",
       "    </tr>\n",
       "    <tr>\n",
       "      <th>4</th>\n",
       "      <td>IAPS</td>\n",
       "    </tr>\n",
       "    <tr>\n",
       "      <th>...</th>\n",
       "      <td>...</td>\n",
       "    </tr>\n",
       "    <tr>\n",
       "      <th>38395</th>\n",
       "      <td>IMAS</td>\n",
       "    </tr>\n",
       "    <tr>\n",
       "      <th>38396</th>\n",
       "      <td>VSPS</td>\n",
       "    </tr>\n",
       "    <tr>\n",
       "      <th>38397</th>\n",
       "      <td>TLVS</td>\n",
       "    </tr>\n",
       "    <tr>\n",
       "      <th>38398</th>\n",
       "      <td>QRHS</td>\n",
       "    </tr>\n",
       "    <tr>\n",
       "      <th>38399</th>\n",
       "      <td>PSSS</td>\n",
       "    </tr>\n",
       "  </tbody>\n",
       "</table>\n",
       "<p>38400 rows × 1 columns</p>\n",
       "</div>"
      ],
      "text/plain": [
       "      Combo\n",
       "0      PFSS\n",
       "1      EPVS\n",
       "2      HCNS\n",
       "3      LLVS\n",
       "4      IAPS\n",
       "...     ...\n",
       "38395  IMAS\n",
       "38396  VSPS\n",
       "38397  TLVS\n",
       "38398  QRHS\n",
       "38399  PSSS\n",
       "\n",
       "[38400 rows x 1 columns]"
      ]
     },
     "execution_count": 5,
     "metadata": {},
     "output_type": "execute_result"
    }
   ],
   "source": [
    "# with open('/home/jyang4/repos/StARDUST/dclo/configs/simple_stochastic.json', 'r') as f:\n",
    "#     config = json.load(f)\n",
    "\n",
    "with open('/home/jyang4/repos/StARDUST/dclo/saved/simple_stochastic_TrpB/simple_stochastic_TrpB.json', 'r') as f:\n",
    "    config = json.load(f)\n",
    "\n",
    "oracle = Oracle(config['data_config'], config['opt_config'], verbose = True)\n",
    "best_index = final_means[:,0].argmax()\n",
    "best_encoding = seq2encoding('VNNNBBVNBTCC').reshape(1, final_encodings.shape[1], final_encodings.shape[2])\n",
    "#VNNNBBVNBTCC\n",
    "#TATNBBVNBVNB\n",
    "#best_encoding = final_encodings[best_index, :, :].reshape(1, final_encodings.shape[1], final_encodings.shape[2])\n",
    "# oracle.aas2zs(oracle.sample(best_encoding), n_samples=384, seed=42 )\n",
    "\n",
    "means, vars, seqs = oracle.predict(best_encoding)\n",
    "\n",
    "#pooled = seqs.reshape((100, -1))\n",
    "pooled = seqs.reshape((1, -1))\n",
    "pooled_df = pd.DataFrame(pooled.T)\n",
    "\n",
    "#best_df = pd.DataFrame(seqs[65,:,:])\n",
    "\n",
    "best_df2 = pd.DataFrame(pooled_df[0])\n",
    "best_df2.columns = ['Combo']\n",
    "best_df2"
   ]
  },
  {
   "cell_type": "code",
   "execution_count": 212,
   "metadata": {},
   "outputs": [],
   "source": [
    "# #seeing the distrubtion of proteins lying above a certain fitness\n",
    "# top = fitness_df[fitness_df['fit'] > 0.1]['fit']\n",
    "# print(len(top))\n",
    "# plt.hist(top)"
   ]
  },
  {
   "cell_type": "code",
   "execution_count": 215,
   "metadata": {},
   "outputs": [
    {
     "name": "stdout",
     "output_type": "stream",
     "text": [
      "SpearmanrResult(correlation=0.46396865953388916, pvalue=3.25278333857382e-14)\n"
     ]
    },
    {
     "data": {
      "image/png": "[encoded data removed]",
      "text/plain": [
       "<Figure size 432x288 with 1 Axes>"
      ]
     },
     "metadata": {
      "needs_background": "light"
     },
     "output_type": "display_data"
    }
   ],
   "source": [
    "#simple score\n",
    "#x = final_means2[:, 1]\n",
    "results2 = np.load('dclo/saved/coverage_simple_stochastic/results.npy', allow_pickle=True)\n",
    "means2 = results2.item()['means']\n",
    "final_means2 = means2[-1, :, :]\n",
    "coverages = final_means2[:,0] #full coverage hamming\n",
    "order = coverages.argsort()\n",
    "ranks1 = order.argsort()\n",
    "\n",
    "# results2 = np.load('dclo/saved/coverage_simple_stochastic_ESM2/results.npy', allow_pickle=True)\n",
    "# means2 = results2.item()['means']\n",
    "# final_means2 = means2[-1, :, :]\n",
    "# coverages = final_means2[:,0] #full coverage manhattan\n",
    "# order = coverages.argsort()\n",
    "# ranks3 = order.argsort()\n",
    "\n",
    "#complete coverage score is index 0\n",
    "x =  ranks1\n",
    "#x = library_sizes\n",
    "#x = np.median(unique, axis = 0)\n",
    "y =  medians\n",
    "\n",
    "#y = ranks3\n",
    "\n",
    "plt.plot(x, y, '.')\n",
    "plt.xlabel('full coverage')\n",
    "plt.ylabel('median max fitness sampled')\n",
    "plt.legend\n",
    "print(spearmanr(x, y))\n",
    "#print(spearmanr(x[:, 1], y))"
   ]
  },
  {
   "cell_type": "code",
   "execution_count": 8,
   "metadata": {},
   "outputs": [
    {
     "data": {
      "text/html": [
       "<div>\n",
       "<style scoped>\n",
       "    .dataframe tbody tr th:only-of-type {\n",
       "        vertical-align: middle;\n",
       "    }\n",
       "\n",
       "    .dataframe tbody tr th {\n",
       "        vertical-align: top;\n",
       "    }\n",
       "\n",
       "    .dataframe thead th {\n",
       "        text-align: right;\n",
       "    }\n",
       "</style>\n",
       "<table border=\"1\" class=\"dataframe\">\n",
       "  <thead>\n",
       "    <tr style=\"text-align: right;\">\n",
       "      <th></th>\n",
       "      <th>Score</th>\n",
       "      <th>Seq</th>\n",
       "      <th>Muts</th>\n",
       "      <th>Combo</th>\n",
       "      <th>ranked_zs</th>\n",
       "    </tr>\n",
       "  </thead>\n",
       "  <tbody>\n",
       "    <tr>\n",
       "      <th>0</th>\n",
       "      <td>-192.06766</td>\n",
       "      <td>IW--</td>\n",
       "      <td>A_39I+A_40W</td>\n",
       "      <td>IWGV</td>\n",
       "      <td>1.000000</td>\n",
       "    </tr>\n",
       "    <tr>\n",
       "      <th>1</th>\n",
       "      <td>-191.95202</td>\n",
       "      <td>-W--</td>\n",
       "      <td>A_40W</td>\n",
       "      <td>VWGV</td>\n",
       "      <td>0.999994</td>\n",
       "    </tr>\n",
       "    <tr>\n",
       "      <th>2</th>\n",
       "      <td>-191.82605</td>\n",
       "      <td>IH--</td>\n",
       "      <td>A_39I+A_40H</td>\n",
       "      <td>IHGV</td>\n",
       "      <td>0.999988</td>\n",
       "    </tr>\n",
       "    <tr>\n",
       "      <th>3</th>\n",
       "      <td>-191.52986</td>\n",
       "      <td>IY--</td>\n",
       "      <td>A_39I+A_40Y</td>\n",
       "      <td>IYGV</td>\n",
       "      <td>0.999981</td>\n",
       "    </tr>\n",
       "    <tr>\n",
       "      <th>4</th>\n",
       "      <td>-191.41892</td>\n",
       "      <td>IC--</td>\n",
       "      <td>A_39I+A_40C</td>\n",
       "      <td>ICGV</td>\n",
       "      <td>0.999975</td>\n",
       "    </tr>\n",
       "    <tr>\n",
       "      <th>...</th>\n",
       "      <td>...</td>\n",
       "      <td>...</td>\n",
       "      <td>...</td>\n",
       "      <td>...</td>\n",
       "      <td>...</td>\n",
       "    </tr>\n",
       "    <tr>\n",
       "      <th>149356</th>\n",
       "      <td>22.50158</td>\n",
       "      <td>PPPR</td>\n",
       "      <td>A_39P+A_40P+A_41P+A_54R</td>\n",
       "      <td>PPPR</td>\n",
       "      <td>0.000031</td>\n",
       "    </tr>\n",
       "    <tr>\n",
       "      <th>149357</th>\n",
       "      <td>23.14910</td>\n",
       "      <td>YPPP</td>\n",
       "      <td>A_39Y+A_40P+A_41P+A_54P</td>\n",
       "      <td>YPPP</td>\n",
       "      <td>0.000025</td>\n",
       "    </tr>\n",
       "    <tr>\n",
       "      <th>149358</th>\n",
       "      <td>24.13681</td>\n",
       "      <td>YPPR</td>\n",
       "      <td>A_39Y+A_40P+A_41P+A_54R</td>\n",
       "      <td>YPPR</td>\n",
       "      <td>0.000019</td>\n",
       "    </tr>\n",
       "    <tr>\n",
       "      <th>149359</th>\n",
       "      <td>31.02280</td>\n",
       "      <td>WPPP</td>\n",
       "      <td>A_39W+A_40P+A_41P+A_54P</td>\n",
       "      <td>WPPP</td>\n",
       "      <td>0.000013</td>\n",
       "    </tr>\n",
       "    <tr>\n",
       "      <th>149360</th>\n",
       "      <td>33.52003</td>\n",
       "      <td>PPPP</td>\n",
       "      <td>A_39P+A_40P+A_41P+A_54P</td>\n",
       "      <td>PPPP</td>\n",
       "      <td>0.000006</td>\n",
       "    </tr>\n",
       "  </tbody>\n",
       "</table>\n",
       "<p>160000 rows × 5 columns</p>\n",
       "</div>"
      ],
      "text/plain": [
       "            Score   Seq                     Muts Combo  ranked_zs\n",
       "0      -192.06766  IW--              A_39I+A_40W  IWGV   1.000000\n",
       "1      -191.95202  -W--                    A_40W  VWGV   0.999994\n",
       "2      -191.82605  IH--              A_39I+A_40H  IHGV   0.999988\n",
       "3      -191.52986  IY--              A_39I+A_40Y  IYGV   0.999981\n",
       "4      -191.41892  IC--              A_39I+A_40C  ICGV   0.999975\n",
       "...           ...   ...                      ...   ...        ...\n",
       "149356   22.50158  PPPR  A_39P+A_40P+A_41P+A_54R  PPPR   0.000031\n",
       "149357   23.14910  YPPP  A_39Y+A_40P+A_41P+A_54P  YPPP   0.000025\n",
       "149358   24.13681  YPPR  A_39Y+A_40P+A_41P+A_54R  YPPR   0.000019\n",
       "149359   31.02280  WPPP  A_39W+A_40P+A_41P+A_54P  WPPP   0.000013\n",
       "149360   33.52003  PPPP  A_39P+A_40P+A_41P+A_54P  PPPP   0.000006\n",
       "\n",
       "[160000 rows x 5 columns]"
      ]
     },
     "execution_count": 8,
     "metadata": {},
     "output_type": "execute_result"
    }
   ],
   "source": [
    "df = pd.read_csv('/home/jyang4/repos/StARDUST/data/GB1_all_triad.csv')\n",
    "df = df.sort_values(\"Score\")\n",
    "df['ranked_zs'] = df[\"Score\"].rank(ascending=False)/len(df)\n",
    "df"
   ]
  },
  {
   "cell_type": "code",
   "execution_count": 9,
   "metadata": {},
   "outputs": [
    {
     "ename": "NameError",
     "evalue": "name 'fitness_df' is not defined",
     "output_type": "error",
     "traceback": [
      "\u001b[0;31m---------------------------------------------------------------------------\u001b[0m",
      "\u001b[0;31mNameError\u001b[0m                                 Traceback (most recent call last)",
      "\u001b[1;32m/home/jyang4/repos/StARDUST/analysis.ipynb Cell 24\u001b[0m in \u001b[0;36m<cell line: 1>\u001b[0;34m()\u001b[0m\n\u001b[0;32m----> <a href='vscode-notebook-cell://ssh-remote%2Bwolfird/home/jyang4/repos/StARDUST/analysis.ipynb#X32sdnNjb2RlLXJlbW90ZQ%3D%3D?line=0'>1</a>\u001b[0m fitness_df\u001b[39m.\u001b[39msort_values(by\u001b[39m=\u001b[39m\u001b[39m'\u001b[39m\u001b[39mfit\u001b[39m\u001b[39m'\u001b[39m, ascending\u001b[39m=\u001b[39m\u001b[39mFalse\u001b[39;00m)\n",
      "\u001b[0;31mNameError\u001b[0m: name 'fitness_df' is not defined"
     ]
    }
   ],
   "source": [
    "fitness_df.sort_values(by='fit', ascending=False)"
   ]
  },
  {
   "cell_type": "code",
   "execution_count": 69,
   "metadata": {},
   "outputs": [
    {
     "data": {
      "text/html": [
       "<div>\n",
       "<style scoped>\n",
       "    .dataframe tbody tr th:only-of-type {\n",
       "        vertical-align: middle;\n",
       "    }\n",
       "\n",
       "    .dataframe tbody tr th {\n",
       "        vertical-align: top;\n",
       "    }\n",
       "\n",
       "    .dataframe thead th {\n",
       "        text-align: right;\n",
       "    }\n",
       "</style>\n",
       "<table border=\"1\" class=\"dataframe\">\n",
       "  <thead>\n",
       "    <tr style=\"text-align: right;\">\n",
       "      <th></th>\n",
       "      <th>Combo</th>\n",
       "      <th>rank</th>\n",
       "      <th>fit_rank</th>\n",
       "    </tr>\n",
       "  </thead>\n",
       "  <tbody>\n",
       "    <tr>\n",
       "      <th>0</th>\n",
       "      <td>HVTS</td>\n",
       "      <td>807.0</td>\n",
       "      <td>5662.0</td>\n",
       "    </tr>\n",
       "    <tr>\n",
       "      <th>1</th>\n",
       "      <td>HVTS</td>\n",
       "      <td>807.0</td>\n",
       "      <td>5662.0</td>\n",
       "    </tr>\n",
       "    <tr>\n",
       "      <th>2</th>\n",
       "      <td>HVTS</td>\n",
       "      <td>807.0</td>\n",
       "      <td>5662.0</td>\n",
       "    </tr>\n",
       "    <tr>\n",
       "      <th>3</th>\n",
       "      <td>HVTS</td>\n",
       "      <td>807.0</td>\n",
       "      <td>5662.0</td>\n",
       "    </tr>\n",
       "    <tr>\n",
       "      <th>4</th>\n",
       "      <td>HVTS</td>\n",
       "      <td>807.0</td>\n",
       "      <td>5662.0</td>\n",
       "    </tr>\n",
       "    <tr>\n",
       "      <th>...</th>\n",
       "      <td>...</td>\n",
       "      <td>...</td>\n",
       "      <td>...</td>\n",
       "    </tr>\n",
       "    <tr>\n",
       "      <th>38395</th>\n",
       "      <td>DWKS</td>\n",
       "      <td>46867.5</td>\n",
       "      <td>20105.0</td>\n",
       "    </tr>\n",
       "    <tr>\n",
       "      <th>38396</th>\n",
       "      <td>HFHS</td>\n",
       "      <td>24607.0</td>\n",
       "      <td>14430.0</td>\n",
       "    </tr>\n",
       "    <tr>\n",
       "      <th>38397</th>\n",
       "      <td>NIMS</td>\n",
       "      <td>1014.0</td>\n",
       "      <td>150.0</td>\n",
       "    </tr>\n",
       "    <tr>\n",
       "      <th>38398</th>\n",
       "      <td>AMMS</td>\n",
       "      <td>1800.0</td>\n",
       "      <td>663.0</td>\n",
       "    </tr>\n",
       "    <tr>\n",
       "      <th>38399</th>\n",
       "      <td>QWNS</td>\n",
       "      <td>34820.0</td>\n",
       "      <td>6198.0</td>\n",
       "    </tr>\n",
       "  </tbody>\n",
       "</table>\n",
       "<p>38400 rows × 3 columns</p>\n",
       "</div>"
      ],
      "text/plain": [
       "      Combo     rank  fit_rank\n",
       "0      HVTS    807.0    5662.0\n",
       "1      HVTS    807.0    5662.0\n",
       "2      HVTS    807.0    5662.0\n",
       "3      HVTS    807.0    5662.0\n",
       "4      HVTS    807.0    5662.0\n",
       "...     ...      ...       ...\n",
       "38395  DWKS  46867.5   20105.0\n",
       "38396  HFHS  24607.0   14430.0\n",
       "38397  NIMS   1014.0     150.0\n",
       "38398  AMMS   1800.0     663.0\n",
       "38399  QWNS  34820.0    6198.0\n",
       "\n",
       "[38400 rows x 3 columns]"
      ]
     },
     "execution_count": 69,
     "metadata": {},
     "output_type": "execute_result"
    }
   ],
   "source": [
    "# fitness_df = pd.read_csv('/home/jyang4/repos/StARDUST/data/GB1/fitness.csv')\n",
    "# triad_df = pd.read_csv('/home/jyang4/repos/StARDUST/data/GB1/GB1_all_triad.csv')\n",
    "# triad_df['rank'] = triad_df['Triad Score'].rank()\n",
    "\n",
    "# fitness_df['fit_rank'] = fitness_df['fit'].rank(ascending=False)\n",
    "# fitness_df.sort_values(by='fit', ascending=False)\n",
    "\n",
    "# merged = best_df2.merge(triad_df[['rank', 'Combo']], left_on = 'Combo', right_on='Combo')\n",
    "# merged = merged.merge(fitness_df[['fit_rank', 'Combo']], left_on = 'Combo', right_on='Combo', how='left')\n",
    "# merged\n",
    "\n",
    "#can use the independent or somewhat indpendent fitness measurements (but site 4 is in a separate library so its not the best benchmark)\n",
    "\n",
    "#fitness_df = pd.read_csv('/home/jyang4/repos/StARDUST/data/tm9d8s/sim_fitness.csv')\n",
    "\n",
    "fitness_df = pd.read_csv('/home/jyang4/repos/StARDUST/data/tm9d8s/sim_indep_fitness.csv')\n",
    "fitness_df['fit_rank'] = fitness_df['fit'].rank(ascending=False)\n",
    "fitness_df.sort_values(by='fit', ascending=False)\n",
    "triad_df = pd.read_csv('/home/jyang4/repos/StARDUST/data/tm9d8s/tm9d8s_all_evmutation.csv')\n",
    "triad_df['rank'] = triad_df['EVMutation Rank'].rank()\n",
    "merged = best_df2.merge(triad_df[['rank', 'Combo']], left_on = 'Combo', right_on='Combo')\n",
    "merged = merged.merge(fitness_df[['fit_rank', 'Combo']], left_on = 'Combo', right_on='Combo', how='left')\n",
    "merged"
   ]
  },
  {
   "cell_type": "code",
   "execution_count": 70,
   "metadata": {},
   "outputs": [
    {
     "data": {
      "text/plain": [
       "Text(0, 0.5, '')"
      ]
     },
     "execution_count": 70,
     "metadata": {},
     "output_type": "execute_result"
    },
    {
     "data": {
      "image/png": "[encoded data removed]",
      "text/plain": [
       "<Figure size 1008x360 with 2 Axes>"
      ]
     },
     "metadata": {
      "needs_background": "light"
     },
     "output_type": "display_data"
    }
   ],
   "source": [
    "font = {'family' : 'arial',\n",
    "        'size'   : 16}\n",
    "mpl.rc('font', **font)\n",
    "mpl.rc('lines', linewidth=2)\n",
    "mpl.rcParams['axes.linewidth'] = 2\n",
    "mpl.rcParams['xtick.major.width'] = 2\n",
    "mpl.rcParams['ytick.major.width'] = 2\n",
    "\n",
    "plt.figure(figsize=(14, 5))\n",
    "width = 4000\n",
    "plt.subplot(1,2,1)\n",
    "sns.histplot(merged['rank'], binwidth = width, color='g',stat='percent')\n",
    "plt.xlim([-10000, 160000])\n",
    "#uniform1 = 30720/(160000/width)\n",
    "uniform1 = 100/(160000/width)\n",
    "plt.axhline(uniform1, color='black')\n",
    "plt.xticks([0, 40000, 80000, 120000, 160000])\n",
    "plt.ylim([0, 50])\n",
    "plt.xlabel('Triad Rank')\n",
    "\n",
    "plt.subplot(1, 2, 2)\n",
    "width =4000\n",
    "sns.histplot(merged['fit_rank'], binwidth=width, color='g', stat='percent')\n",
    "#uniform2 = 30720/(149361/width)\n",
    "uniform2 = 100/(149361/width)\n",
    "plt.axhline(uniform2, color='black')\n",
    "plt.ylim([0, 50])\n",
    "plt.xticks([0, 40000, 80000, 120000, 160000])\n",
    "plt.xlabel('Fitness Rank')\n",
    "plt.ylabel('')\n",
    "#plt.savefig('histNNK.jpg', dpi=500, bbox_inches='tight')"
   ]
  },
  {
   "cell_type": "code",
   "execution_count": 61,
   "metadata": {},
   "outputs": [
    {
     "data": {
      "text/plain": [
       "Text(0.5, 46.0, 'Amino acid residue')"
      ]
     },
     "execution_count": 61,
     "metadata": {},
     "output_type": "execute_result"
    },
    {
     "data": {
      "image/png": "[encoded data removed]",
      "text/plain": [
       "<Figure size 360x576 with 2 Axes>"
      ]
     },
     "metadata": {
      "needs_background": "light"
     },
     "output_type": "display_data"
    }
   ],
   "source": [
    "#labels = ['V39', 'D40', 'G41', 'V54']\n",
    "labels = ['Y182', 'V183', 'F184', 'S186']\n",
    "\n",
    "font = {'family' : 'arial',\n",
    "        'size'   : 16}\n",
    "mpl.rc('font', **font)\n",
    "mpl.rc('lines', linewidth=2)\n",
    "mpl.rcParams['axes.linewidth'] = 2\n",
    "mpl.rcParams['xtick.major.width'] = 2\n",
    "mpl.rcParams['ytick.major.width'] = 2\n",
    "\n",
    "sites_df = pd.DataFrame()\n",
    "for i in range(4):\n",
    "    sites_df[i] = [seq[i] for seq in best_df2['Combo'].values]\n",
    "\n",
    "counts = sites_df.apply(pd.value_counts).fillna(0)/30720*100\n",
    "#counts = counts.reindex(labels2)\n",
    "plt.figure(figsize = (5, 8))\n",
    "sns.heatmap(counts, vmin = 0, vmax = 100, xticklabels=labels, linewidths=2, cmap = 'viridis')\n",
    "plt.xlabel('Amino acid residue')\n",
    "#plt.savefig('AAs0.jpg', dpi=500)"
   ]
  },
  {
   "cell_type": "code",
   "execution_count": 11,
   "metadata": {},
   "outputs": [],
   "source": [
    "def intersection(lst1, lst2):\n",
    "    lst3 = [value for value in lst1 if value in lst2]\n",
    "    return lst3"
   ]
  },
  {
   "cell_type": "code",
   "execution_count": 12,
   "metadata": {},
   "outputs": [
    {
     "data": {
      "text/plain": [
       "4200"
      ]
     },
     "execution_count": 12,
     "metadata": {},
     "output_type": "execute_result"
    }
   ],
   "source": [
    "pooled_df[0].nunique()\n",
    "pooled_df[65].nunique()"
   ]
  },
  {
   "cell_type": "code",
   "execution_count": 132,
   "metadata": {},
   "outputs": [
    {
     "data": {
      "text/plain": [
       "908"
      ]
     },
     "execution_count": 132,
     "metadata": {},
     "output_type": "execute_result"
    }
   ],
   "source": [
    "len(intersection(pooled_df[0].unique(), pooled_df[65].unique()))"
   ]
  },
  {
   "cell_type": "markdown",
   "metadata": {},
   "source": [
    "plot the ranking of triad with distribution plots \n",
    "understand if the overlaps occur at high or low values"
   ]
  },
  {
   "cell_type": "markdown",
   "metadata": {},
   "source": [
    "This visualization is weird. Maybe it would make more sense to numerically encode them and look at the kl divergence between distributions?"
   ]
  },
  {
   "cell_type": "markdown",
   "metadata": {},
   "source": [
    "The diversity also suggests that screening larger libraries would be robust to preserving the high score, and that the libraries will be independent of one another."
   ]
  },
  {
   "cell_type": "markdown",
   "metadata": {},
   "source": [
    "### MLDE Simulation Analysis"
   ]
  },
  {
   "cell_type": "code",
   "execution_count": 4,
   "metadata": {},
   "outputs": [],
   "source": [
    "results = np.load('/home/jyang4/repos/StARDUST/MLDE_lite/saved/boosting_simple_stochastic_exp25_mix3/mlde_results.npy', allow_pickle=True)\n",
    "\n",
    "#results = np.load('/home/jyang4/repos/StARDUST/MLDE_lite/saved/boosting_swiftlib/mlde_results.npy', allow_pickle=True)\n",
    "\n",
    "#results = np.load('/home/jyang4/repos/StARDUST/MLDE_lite/saved/trpBA_ridge_nsamples/mlde_results.npy', allow_pickle=True)\n",
    "#results = np.load('/home/jyang4/repos/StARDUST/MLDE_lite/saved/boosting_top/mlde_results.npy', allow_pickle=True)\n",
    "\n",
    "#results = np.load('/home/jyang4/repos/StARDUST/MLDE_lite/saved/boosting_simple_stochastic_mixtop2/mlde_results.npy', allow_pickle=True)\n",
    "\n",
    "maxes = results.item()['maxes']\n",
    "means = results.item()['means']\n",
    "ndcgs = results.item()['ndcgs']\n",
    "top_seqs = results.item()['top_seqs']\n",
    "labelled = results.item()['labelled']\n",
    "unique = results.item()['unique']\n",
    "\n",
    "#maxes2 = maxes.reshape(maxes.shape[2], maxes.shape[4]).T\n",
    "#unique2 = unique.reshape(unique.shape[2], unique.shape[4]).T\n",
    "\n",
    "#maxes2 = maxes[:,:,0,:,:].reshape(maxes.shape[3], maxes.shape[4]).T\n",
    "\n",
    "maxes2 = maxes.reshape(maxes.shape[3], maxes.shape[4]).T\n",
    "means2 = means.reshape(means.shape[3], means.shape[4]).T\n",
    "ndcgs2 = ndcgs.reshape(ndcgs.shape[3], ndcgs.shape[4]).T\n",
    "unique2 = unique.reshape(unique.shape[3], unique.shape[4]).T"
   ]
  },
  {
   "cell_type": "code",
   "execution_count": 3,
   "metadata": {},
   "outputs": [],
   "source": [
    "seqs = results.item()['input_seqs']"
   ]
  },
  {
   "cell_type": "code",
   "execution_count": 4,
   "metadata": {},
   "outputs": [
    {
     "data": {
      "text/plain": [
       "(1, 1, 1, 5, 70, 384)"
      ]
     },
     "execution_count": 4,
     "metadata": {},
     "output_type": "execute_result"
    }
   ],
   "source": [
    "seqs.shape"
   ]
  },
  {
   "cell_type": "code",
   "execution_count": 13,
   "metadata": {},
   "outputs": [
    {
     "data": {
      "text/plain": [
       "0.723981093746483"
      ]
     },
     "execution_count": 13,
     "metadata": {},
     "output_type": "execute_result"
    }
   ],
   "source": [
    "maxes[0, 0, 0, 0, 11]"
   ]
  },
  {
   "cell_type": "code",
   "execution_count": 18,
   "metadata": {},
   "outputs": [
    {
     "data": {
      "text/plain": [
       "False"
      ]
     },
     "execution_count": 18,
     "metadata": {},
     "output_type": "execute_result"
    }
   ],
   "source": [
    "'FWAA' in  seqs[0,0, 0, 0, 8, :]"
   ]
  },
  {
   "cell_type": "code",
   "execution_count": 20,
   "metadata": {},
   "outputs": [],
   "source": [
    "np.save('384.npy', seqs[0,0, 0, 0, 8, :])"
   ]
  },
  {
   "cell_type": "code",
   "execution_count": null,
   "metadata": {},
   "outputs": [],
   "source": [
    "means = results.item()['means']"
   ]
  },
  {
   "cell_type": "code",
   "execution_count": 5,
   "metadata": {},
   "outputs": [
    {
     "name": "stdout",
     "output_type": "stream",
     "text": [
      "0.6237561876287768\n"
     ]
    },
    {
     "data": {
      "text/plain": [
       "Text(0.5, 0, 'Optimized Libraries')"
      ]
     },
     "execution_count": 5,
     "metadata": {},
     "output_type": "execute_result"
    },
    {
     "data": {
      "image/png": "[encoded data removed]",
      "text/plain": [
       "<Figure size 2160x216 with 1 Axes>"
      ]
     },
     "metadata": {
      "needs_background": "light"
     },
     "output_type": "display_data"
    }
   ],
   "source": [
    "all_maxes_medians = np.median(maxes2, axis = 0).reshape(1, -1)\n",
    "print(np.mean(all_maxes_medians))\n",
    "\n",
    "plt.figure(figsize = (30, 3))\n",
    "ax = sns.violinplot(data=maxes2, scale='width', cut=0)\n",
    "#ax.set_xticklabels(['Random', 'Top 32000', 'Top 16000', 'Top 8000', 'Top 4000'])\n",
    "#ax.set_xticklabels(['288', '336', '360', '372', '384'])\n",
    "plt.grid(axis = 'y')\n",
    "plt.ylabel('Max Fitness Achieved')\n",
    "plt.xlabel('Optimized Libraries')\n",
    "#plt.savefig('all_mix2_violin.jpg', dpi=500)"
   ]
  },
  {
   "cell_type": "code",
   "execution_count": 26,
   "metadata": {},
   "outputs": [],
   "source": [
    "# df = pd.DataFrame(columns=['model', 'threshold', 'max', 'mean', 'ndcg'])\n",
    "\n",
    "# for maxes, means, ndcgs, threshold in zip(maxes2.T, means2.T, ndcgs2.T, ['random', '32000', '16000', '8000', '4000']):\n",
    "#     for max, mean, ndcg in zip(maxes, means, ndcgs):\n",
    "#         df.loc[len(df.index)] = ['gnn', threshold, max, mean, ndcg]"
   ]
  },
  {
   "cell_type": "code",
   "execution_count": 32,
   "metadata": {},
   "outputs": [],
   "source": [
    "df = pd.DataFrame(columns=['n_samples', 'threshold', 'max', 'mean', 'ndcg'])\n",
    "\n",
    "for i, threshold in enumerate(['random', '4000', '2000']):\n",
    "    for j, n_samples in enumerate([24, 48, 96, 192, 384]):\n",
    "        maxes2 = np.log10(maxes[0, 0, j, i, :])\n",
    "        means2 = np.log10(means[0, 0, j, i, :])\n",
    "        ndcgs2 = ndcgs[0, 0, j, i, :]\n",
    "        for max, mean, ndcg in zip(maxes2, means2, ndcgs2):\n",
    "            df.loc[len(df.index)] = [n_samples, threshold, max, mean, ndcg]"
   ]
  },
  {
   "cell_type": "code",
   "execution_count": 33,
   "metadata": {},
   "outputs": [
    {
     "data": {
      "image/png": "[encoded data removed]",
      "text/plain": [
       "<Figure size 1080x288 with 1 Axes>"
      ]
     },
     "metadata": {
      "needs_background": "light"
     },
     "output_type": "display_data"
    }
   ],
   "source": [
    "plt.figure(figsize = (15, 4))\n",
    "plt.grid(axis = 'y')\n",
    "sns.violinplot(data = df, x='n_samples', y ='ndcg', hue='threshold', scale='width', cut = 0)\n",
    "plt.ylabel('log10(Mean Fitness Achieved)')\n",
    "plt.xlabel('N Samples')\n",
    "#plt.ylim([280, 384])\n",
    "plt.tight_layout()\n",
    "#plt.savefig('means_violin_libI.jpg', dpi=500)"
   ]
  },
  {
   "cell_type": "code",
   "execution_count": 35,
   "metadata": {},
   "outputs": [],
   "source": [
    "df.to_csv('models_ftmlde_results.csv')"
   ]
  },
  {
   "cell_type": "code",
   "execution_count": 3,
   "metadata": {},
   "outputs": [
    {
     "ename": "NameError",
     "evalue": "name 'df' is not defined",
     "output_type": "error",
     "traceback": [
      "\u001b[0;31m---------------------------------------------------------------------------\u001b[0m",
      "\u001b[0;31mNameError\u001b[0m                                 Traceback (most recent call last)",
      "\u001b[1;32m/home/jyang4/repos/StARDUST/analysis.ipynb Cell 40\u001b[0m in \u001b[0;36m<cell line: 3>\u001b[0;34m()\u001b[0m\n\u001b[1;32m      <a href='vscode-notebook-cell://ssh-remote%2Bvenus/home/jyang4/repos/StARDUST/analysis.ipynb#X54sdnNjb2RlLXJlbW90ZQ%3D%3D?line=0'>1</a>\u001b[0m plt\u001b[39m.\u001b[39mfigure(figsize \u001b[39m=\u001b[39m (\u001b[39m15\u001b[39m, \u001b[39m4\u001b[39m))\n\u001b[1;32m      <a href='vscode-notebook-cell://ssh-remote%2Bvenus/home/jyang4/repos/StARDUST/analysis.ipynb#X54sdnNjb2RlLXJlbW90ZQ%3D%3D?line=1'>2</a>\u001b[0m plt\u001b[39m.\u001b[39mgrid(axis \u001b[39m=\u001b[39m \u001b[39m'\u001b[39m\u001b[39my\u001b[39m\u001b[39m'\u001b[39m)\n\u001b[0;32m----> <a href='vscode-notebook-cell://ssh-remote%2Bvenus/home/jyang4/repos/StARDUST/analysis.ipynb#X54sdnNjb2RlLXJlbW90ZQ%3D%3D?line=2'>3</a>\u001b[0m sns\u001b[39m.\u001b[39mviolinplot(data \u001b[39m=\u001b[39m df, x\u001b[39m=\u001b[39m\u001b[39m'\u001b[39m\u001b[39mthreshold\u001b[39m\u001b[39m'\u001b[39m, y \u001b[39m=\u001b[39m\u001b[39m'\u001b[39m\u001b[39mmax\u001b[39m\u001b[39m'\u001b[39m, hue\u001b[39m=\u001b[39m\u001b[39m'\u001b[39m\u001b[39mmodel\u001b[39m\u001b[39m'\u001b[39m, scale\u001b[39m=\u001b[39m\u001b[39m'\u001b[39m\u001b[39mwidth\u001b[39m\u001b[39m'\u001b[39m, cut \u001b[39m=\u001b[39m \u001b[39m0\u001b[39m)\n\u001b[1;32m      <a href='vscode-notebook-cell://ssh-remote%2Bvenus/home/jyang4/repos/StARDUST/analysis.ipynb#X54sdnNjb2RlLXJlbW90ZQ%3D%3D?line=3'>4</a>\u001b[0m plt\u001b[39m.\u001b[39mylabel(\u001b[39m'\u001b[39m\u001b[39mMax Fitness Achieved\u001b[39m\u001b[39m'\u001b[39m)\n\u001b[1;32m      <a href='vscode-notebook-cell://ssh-remote%2Bvenus/home/jyang4/repos/StARDUST/analysis.ipynb#X54sdnNjb2RlLXJlbW90ZQ%3D%3D?line=4'>5</a>\u001b[0m plt\u001b[39m.\u001b[39mxlabel(\u001b[39m'\u001b[39m\u001b[39mThreshold (from TRIAD ranking)\u001b[39m\u001b[39m'\u001b[39m)\n",
      "\u001b[0;31mNameError\u001b[0m: name 'df' is not defined"
     ]
    },
    {
     "name": "stderr",
     "output_type": "stream",
     "text": [
      "findfont: Font family ['arial'] not found. Falling back to DejaVu Sans.\n"
     ]
    },
    {
     "data": {
      "image/png": "[encoded data removed]",
      "text/plain": [
       "<Figure size 1080x288 with 1 Axes>"
      ]
     },
     "metadata": {
      "needs_background": "light"
     },
     "output_type": "display_data"
    }
   ],
   "source": [
    "plt.figure(figsize = (15, 4))\n",
    "plt.grid(axis = 'y')\n",
    "sns.violinplot(data = df, x='threshold', y ='max', hue='model', scale='width', cut = 0)\n",
    "plt.ylabel('Max Fitness Achieved')\n",
    "plt.xlabel('Threshold (from TRIAD ranking)')\n",
    "#plt.ylim([280, 384])\n",
    "plt.tight_layout()\n",
    "plt.savefig('maxes_violin.jpg', dpi=500)"
   ]
  },
  {
   "cell_type": "code",
   "execution_count": 33,
   "metadata": {},
   "outputs": [
    {
     "name": "stdout",
     "output_type": "stream",
     "text": [
      "SpearmanrResult(correlation=-0.5446445553744593, pvalue=5.788316405225363e-40)\n"
     ]
    },
    {
     "data": {
      "image/png": "[encoded data removed]",
      "text/plain": [
       "<Figure size 432x288 with 1 Axes>"
      ]
     },
     "metadata": {
      "needs_background": "light"
     },
     "output_type": "display_data"
    }
   ],
   "source": [
    "#for coverage analysis of random libraries\n",
    "coverage_results = np.load('/home/jyang4/repos/StARDUST/coverage_unweighted_results_cnn_top.npy', allow_pickle=True)\n",
    "scores, raw_scores, counts, diversity = coverage_results.item()['scores'], coverage_results.item()['raw_scores'], coverage_results.item()['counts'], coverage_results.item()['diversity']\n",
    "\n",
    "x = scores.flatten()#[:100]\n",
    "y = maxes2.T.flatten()#[:100]\n",
    "\n",
    "plt.plot(x, y, '.')\n",
    "plt.xlabel('score')\n",
    "plt.ylabel('median max fitness achieved')\n",
    "plt.legend\n",
    "print(spearmanr(x, y))"
   ]
  },
  {
   "cell_type": "code",
   "execution_count": 42,
   "metadata": {},
   "outputs": [
    {
     "data": {
      "text/html": [
       "<div>\n",
       "<style scoped>\n",
       "    .dataframe tbody tr th:only-of-type {\n",
       "        vertical-align: middle;\n",
       "    }\n",
       "\n",
       "    .dataframe tbody tr th {\n",
       "        vertical-align: top;\n",
       "    }\n",
       "\n",
       "    .dataframe thead th {\n",
       "        text-align: right;\n",
       "    }\n",
       "</style>\n",
       "<table border=\"1\" class=\"dataframe\">\n",
       "  <thead>\n",
       "    <tr style=\"text-align: right;\">\n",
       "      <th></th>\n",
       "      <th>label</th>\n",
       "      <th>max</th>\n",
       "      <th>mean</th>\n",
       "      <th>ndcg</th>\n",
       "    </tr>\n",
       "  </thead>\n",
       "  <tbody>\n",
       "    <tr>\n",
       "      <th>0</th>\n",
       "      <td>mix1</td>\n",
       "      <td>0.578303</td>\n",
       "      <td>0.176021</td>\n",
       "      <td>0.740566</td>\n",
       "    </tr>\n",
       "    <tr>\n",
       "      <th>1</th>\n",
       "      <td>mix1</td>\n",
       "      <td>0.635428</td>\n",
       "      <td>0.262936</td>\n",
       "      <td>0.758406</td>\n",
       "    </tr>\n",
       "    <tr>\n",
       "      <th>2</th>\n",
       "      <td>mix1</td>\n",
       "      <td>0.900622</td>\n",
       "      <td>0.361592</td>\n",
       "      <td>0.795971</td>\n",
       "    </tr>\n",
       "    <tr>\n",
       "      <th>3</th>\n",
       "      <td>mix1</td>\n",
       "      <td>0.938076</td>\n",
       "      <td>0.318162</td>\n",
       "      <td>0.778533</td>\n",
       "    </tr>\n",
       "    <tr>\n",
       "      <th>4</th>\n",
       "      <td>mix1</td>\n",
       "      <td>0.616047</td>\n",
       "      <td>0.205590</td>\n",
       "      <td>0.755026</td>\n",
       "    </tr>\n",
       "    <tr>\n",
       "      <th>...</th>\n",
       "      <td>...</td>\n",
       "      <td>...</td>\n",
       "      <td>...</td>\n",
       "      <td>...</td>\n",
       "    </tr>\n",
       "    <tr>\n",
       "      <th>735</th>\n",
       "      <td>Top 4000</td>\n",
       "      <td>1.000000</td>\n",
       "      <td>0.352026</td>\n",
       "      <td>0.784631</td>\n",
       "    </tr>\n",
       "    <tr>\n",
       "      <th>736</th>\n",
       "      <td>Top 4000</td>\n",
       "      <td>1.000000</td>\n",
       "      <td>0.335685</td>\n",
       "      <td>0.781255</td>\n",
       "    </tr>\n",
       "    <tr>\n",
       "      <th>737</th>\n",
       "      <td>Top 4000</td>\n",
       "      <td>1.000000</td>\n",
       "      <td>0.304675</td>\n",
       "      <td>0.797044</td>\n",
       "    </tr>\n",
       "    <tr>\n",
       "      <th>738</th>\n",
       "      <td>Top 4000</td>\n",
       "      <td>1.000000</td>\n",
       "      <td>0.362356</td>\n",
       "      <td>0.798986</td>\n",
       "    </tr>\n",
       "    <tr>\n",
       "      <th>739</th>\n",
       "      <td>Top 4000</td>\n",
       "      <td>1.000000</td>\n",
       "      <td>0.303551</td>\n",
       "      <td>0.799741</td>\n",
       "    </tr>\n",
       "  </tbody>\n",
       "</table>\n",
       "<p>740 rows × 4 columns</p>\n",
       "</div>"
      ],
      "text/plain": [
       "        label       max      mean      ndcg\n",
       "0        mix1  0.578303  0.176021  0.740566\n",
       "1        mix1  0.635428  0.262936  0.758406\n",
       "2        mix1  0.900622  0.361592  0.795971\n",
       "3        mix1  0.938076  0.318162  0.778533\n",
       "4        mix1  0.616047  0.205590  0.755026\n",
       "..        ...       ...       ...       ...\n",
       "735  Top 4000  1.000000  0.352026  0.784631\n",
       "736  Top 4000  1.000000  0.335685  0.781255\n",
       "737  Top 4000  1.000000  0.304675  0.797044\n",
       "738  Top 4000  1.000000  0.362356  0.798986\n",
       "739  Top 4000  1.000000  0.303551  0.799741\n",
       "\n",
       "[740 rows x 4 columns]"
      ]
     },
     "execution_count": 42,
     "metadata": {},
     "output_type": "execute_result"
    }
   ],
   "source": [
    "df = pd.DataFrame(columns=['label', 'max', 'mean', 'ndcg'])\n",
    "\n",
    "for i, label in enumerate(['mix1', 'mix2', 'mix3']):\n",
    "    if label == 'mix1':\n",
    "        results = np.load('/home/jyang4/repos/StARDUST/MLDE_lite/saved/cnn_greedy_simple/mlde_results.npy', allow_pickle=True)\n",
    "    else:\n",
    "        results = np.load('/home/jyang4/repos/StARDUST/MLDE_lite/saved/cnn_greedy_simple_' + label + '/mlde_results.npy', allow_pickle=True)\n",
    "    maxes = results.item()['maxes']\n",
    "    means = results.item()['means']\n",
    "    ndcgs = results.item()['ndcgs']\n",
    "    \n",
    "    maxes2 = maxes.reshape(maxes.shape[3], maxes.shape[4]).T\n",
    "    means2 = means.reshape(means.shape[3], means.shape[4]).T\n",
    "    ndcgs2 = ndcgs.reshape(ndcgs.shape[3], ndcgs.shape[4]).T\n",
    "    all_maxes_means = np.mean(maxes2, axis = 0)\n",
    "    all_means_means = np.mean(means2, axis = 0)\n",
    "    all_ndcgs_means = np.mean(ndcgs2, axis = 0)\n",
    "    \n",
    "    for max, mean, ndcg in zip(all_maxes_means, all_means_means, all_ndcgs_means):\n",
    "        df.loc[len(df.index)] = [label, max, mean, ndcg]\n",
    "\n",
    "results = np.load('/home/jyang4/repos/StARDUST/MLDE_lite/saved/supervised_cnn_top/mlde_results.npy', allow_pickle=True)\n",
    "maxes = results.item()['maxes']\n",
    "means = results.item()['means']\n",
    "ndcgs = results.item()['ndcgs']\n",
    "\n",
    "for i, label in enumerate(['Random', 'Top 32000', 'Top 16000', 'Top 8000', 'Top 4000']):\n",
    "    \n",
    "    maxes2 = maxes[0, 0, 0, i, :]\n",
    "    means2 = means[0, 0, 0, i, :]\n",
    "    ndcgs2 = ndcgs[0, 0, 0, i, :]\n",
    "    \n",
    "    for max, mean, ndcg in zip(maxes2, means2, ndcgs2):\n",
    "        df.loc[len(df.index)] = [label, max, mean, ndcg]\n",
    "df"
   ]
  },
  {
   "cell_type": "code",
   "execution_count": 43,
   "metadata": {},
   "outputs": [
    {
     "data": {
      "image/png": "[encoded data removed]",
      "text/plain": [
       "<Figure size 1080x288 with 1 Axes>"
      ]
     },
     "metadata": {
      "needs_background": "light"
     },
     "output_type": "display_data"
    }
   ],
   "source": [
    "plt.figure(figsize = (15, 4))\n",
    "plt.grid(axis = 'y')\n",
    "sns.violinplot(data = df, x='label', y ='mean', scale='width', cut = 0)\n",
    "plt.ylabel('Mean Fitness Achieved')\n",
    "plt.xlabel('Library')\n",
    "#plt.ylim([280, 384])\n",
    "plt.tight_layout()\n",
    "plt.savefig('means_violin.jpg', dpi=500)"
   ]
  },
  {
   "cell_type": "code",
   "execution_count": 96,
   "metadata": {},
   "outputs": [
    {
     "data": {
      "text/plain": [
       "(array([66.,  7.,  4.,  8.,  4.,  5.,  4.,  1.,  0.,  1.]),\n",
       " array([0.        , 0.03372886, 0.06745771, 0.10118657, 0.13491543,\n",
       "        0.16864428, 0.20237314, 0.236102  , 0.26983085, 0.30355971,\n",
       "        0.33728857]),\n",
       " <BarContainer object of 10 artists>)"
      ]
     },
     "execution_count": 96,
     "metadata": {},
     "output_type": "execute_result"
    },
    {
     "data": {
      "image/png": "[encoded data removed]",
      "text/plain": [
       "<Figure size 432x288 with 1 Axes>"
      ]
     },
     "metadata": {
      "needs_background": "light"
     },
     "output_type": "display_data"
    }
   ],
   "source": [
    "#try filtering by triad score after the model is trained\n",
    "old_maxes = []\n",
    "filtered_maxes = []\n",
    "for i in range(100):\n",
    "    seqs = top_seqs[0, 0, 0, 0, i, :]\n",
    "    seqs = pd.DataFrame(seqs)\n",
    "    seqs_df = seqs.merge(fitness_df, left_on=0, right_on='Combo')\n",
    "\n",
    "    old_maxes.append(np.max(seqs_df[:96]['fit']))\n",
    "\n",
    "    #take the stable ones first and then order the rest\n",
    "    #filtered_seqs_df = pd.concat((seqs_df[seqs_df['triad_rank'] <= 40000], seqs_df[seqs_df['triad_rank'] > 40000]))\n",
    "    filtered_seqs_df = seqs_df\n",
    "\n",
    "    filtered_maxes.append(np.max(filtered_seqs_df[:192]['fit']))\n",
    "differences = np.array(filtered_maxes) - np.array(old_maxes)\n",
    "plt.hist(differences)"
   ]
  },
  {
   "cell_type": "code",
   "execution_count": 39,
   "metadata": {},
   "outputs": [
    {
     "data": {
      "text/html": [
       "<div>\n",
       "<style scoped>\n",
       "    .dataframe tbody tr th:only-of-type {\n",
       "        vertical-align: middle;\n",
       "    }\n",
       "\n",
       "    .dataframe tbody tr th {\n",
       "        vertical-align: top;\n",
       "    }\n",
       "\n",
       "    .dataframe thead th {\n",
       "        text-align: right;\n",
       "    }\n",
       "</style>\n",
       "<table border=\"1\" class=\"dataframe\">\n",
       "  <thead>\n",
       "    <tr style=\"text-align: right;\">\n",
       "      <th></th>\n",
       "      <th>scores</th>\n",
       "      <th>encodings</th>\n",
       "    </tr>\n",
       "  </thead>\n",
       "  <tbody>\n",
       "    <tr>\n",
       "      <th>0</th>\n",
       "      <td>0.618336</td>\n",
       "      <td>[1, 1, 1, 0, 1, 0, 0, 1, 1, 1, 1, 1, 1, 0, 1, ...</td>\n",
       "    </tr>\n",
       "    <tr>\n",
       "      <th>1</th>\n",
       "      <td>0.616256</td>\n",
       "      <td>[1, 0, 1, 1, 0, 1, 0, 1, 1, 0, 1, 1, 1, 0, 1, ...</td>\n",
       "    </tr>\n",
       "    <tr>\n",
       "      <th>2</th>\n",
       "      <td>0.650071</td>\n",
       "      <td>[1, 1, 1, 1, 1, 0, 1, 1, 0, 1, 0, 1, 1, 1, 1, ...</td>\n",
       "    </tr>\n",
       "    <tr>\n",
       "      <th>3</th>\n",
       "      <td>0.635187</td>\n",
       "      <td>[1, 0, 1, 1, 1, 1, 1, 1, 0, 1, 0, 1, 1, 0, 1, ...</td>\n",
       "    </tr>\n",
       "    <tr>\n",
       "      <th>4</th>\n",
       "      <td>0.634984</td>\n",
       "      <td>[1, 0, 1, 1, 1, 1, 1, 1, 0, 0, 0, 1, 1, 0, 1, ...</td>\n",
       "    </tr>\n",
       "    <tr>\n",
       "      <th>...</th>\n",
       "      <td>...</td>\n",
       "      <td>...</td>\n",
       "    </tr>\n",
       "    <tr>\n",
       "      <th>95</th>\n",
       "      <td>0.625665</td>\n",
       "      <td>[1, 1, 1, 1, 1, 0, 1, 1, 0, 1, 1, 1, 1, 0, 1, ...</td>\n",
       "    </tr>\n",
       "    <tr>\n",
       "      <th>96</th>\n",
       "      <td>0.613650</td>\n",
       "      <td>[1, 1, 1, 1, 1, 0, 1, 1, 0, 1, 0, 0, 1, 0, 1, ...</td>\n",
       "    </tr>\n",
       "    <tr>\n",
       "      <th>97</th>\n",
       "      <td>0.613644</td>\n",
       "      <td>[1, 1, 1, 0, 1, 1, 1, 1, 0, 0, 1, 1, 1, 0, 1, ...</td>\n",
       "    </tr>\n",
       "    <tr>\n",
       "      <th>98</th>\n",
       "      <td>0.642115</td>\n",
       "      <td>[1, 0, 1, 1, 0, 1, 0, 1, 1, 0, 1, 1, 1, 1, 1, ...</td>\n",
       "    </tr>\n",
       "    <tr>\n",
       "      <th>99</th>\n",
       "      <td>0.620025</td>\n",
       "      <td>[1, 1, 1, 0, 1, 0, 1, 1, 1, 0, 0, 1, 1, 0, 1, ...</td>\n",
       "    </tr>\n",
       "  </tbody>\n",
       "</table>\n",
       "<p>100 rows × 2 columns</p>\n",
       "</div>"
      ],
      "text/plain": [
       "      scores                                          encodings\n",
       "0   0.618336  [1, 1, 1, 0, 1, 0, 0, 1, 1, 1, 1, 1, 1, 0, 1, ...\n",
       "1   0.616256  [1, 0, 1, 1, 0, 1, 0, 1, 1, 0, 1, 1, 1, 0, 1, ...\n",
       "2   0.650071  [1, 1, 1, 1, 1, 0, 1, 1, 0, 1, 0, 1, 1, 1, 1, ...\n",
       "3   0.635187  [1, 0, 1, 1, 1, 1, 1, 1, 0, 1, 0, 1, 1, 0, 1, ...\n",
       "4   0.634984  [1, 0, 1, 1, 1, 1, 1, 1, 0, 0, 0, 1, 1, 0, 1, ...\n",
       "..       ...                                                ...\n",
       "95  0.625665  [1, 1, 1, 1, 1, 0, 1, 1, 0, 1, 1, 1, 1, 0, 1, ...\n",
       "96  0.613650  [1, 1, 1, 1, 1, 0, 1, 1, 0, 1, 0, 0, 1, 0, 1, ...\n",
       "97  0.613644  [1, 1, 1, 0, 1, 1, 1, 1, 0, 0, 1, 1, 1, 0, 1, ...\n",
       "98  0.642115  [1, 0, 1, 1, 0, 1, 0, 1, 1, 0, 1, 1, 1, 1, 1, ...\n",
       "99  0.620025  [1, 1, 1, 0, 1, 0, 1, 1, 1, 0, 0, 1, 1, 0, 1, ...\n",
       "\n",
       "[100 rows x 2 columns]"
      ]
     },
     "execution_count": 39,
     "metadata": {},
     "output_type": "execute_result"
    }
   ],
   "source": [
    "final_df = pd.DataFrame()\n",
    "final_df['scores'] = final_means[:,0]\n",
    "encodings_list = final_encodings.tolist()\n",
    "final_df['encodings'] = encodings_list\n",
    "#final_df['seqs'] =  final_df['encodings'].apply(encoding2seq)\n",
    "final_df"
   ]
  },
  {
   "cell_type": "code",
   "execution_count": 40,
   "metadata": {},
   "outputs": [],
   "source": [
    "top_indices = final_df.sort_values('scores', ascending=False)[:20].index"
   ]
  },
  {
   "cell_type": "code",
   "execution_count": 41,
   "metadata": {},
   "outputs": [
    {
     "name": "stderr",
     "output_type": "stream",
     "text": [
      "/home/jyang4/miniconda3/envs/ProtGraphR/lib/python3.9/site-packages/seaborn/_decorators.py:36: FutureWarning: Pass the following variable as a keyword arg: x. From version 0.12, the only valid positional argument will be `data`, and passing other arguments without an explicit keyword will result in an error or misinterpretation.\n",
      "  warnings.warn(\n"
     ]
    },
    {
     "data": {
      "text/plain": [
       "<AxesSubplot:>"
      ]
     },
     "execution_count": 41,
     "metadata": {},
     "output_type": "execute_result"
    },
    {
     "data": {
      "image/png": "[encoded data removed]",
      "text/plain": [
       "<Figure size 432x288 with 1 Axes>"
      ]
     },
     "metadata": {
      "needs_background": "light"
     },
     "output_type": "display_data"
    }
   ],
   "source": [
    "top_maxes = maxes[top_indices, :]\n",
    "sns.violinplot(np.mean(top_maxes, axis = 1), cut=0)"
   ]
  },
  {
   "cell_type": "code",
   "execution_count": 42,
   "metadata": {},
   "outputs": [
    {
     "data": {
      "text/plain": [
       "0.750140192641038"
      ]
     },
     "execution_count": 42,
     "metadata": {},
     "output_type": "execute_result"
    }
   ],
   "source": [
    "np.mean(np.mean(top_maxes, axis = 1))"
   ]
  },
  {
   "cell_type": "markdown",
   "metadata": {},
   "source": [
    "### Analyzing correlations between scores and library performance in MLDE"
   ]
  },
  {
   "cell_type": "code",
   "execution_count": 2,
   "metadata": {},
   "outputs": [],
   "source": [
    "fitness_df = pd.read_csv('/home/jyang4/repos/StARDUST/data/GB1/fitness.csv')\n",
    "fitness_df['fit'] = fitness_df['fit']/np.max(fitness_df['fit'].values)\n",
    "fitness_df['triad_rank'] = fitness_df['Triad-FixedBb-dG'].rank(ascending=False)\n",
    "cutoff = 149361\n",
    "fitness_df = fitness_df.sort_values('Triad-FixedBb-dG', ascending=False)[:cutoff]\n",
    "options = fitness_df.Combo.values"
   ]
  },
  {
   "cell_type": "code",
   "execution_count": 3,
   "metadata": {},
   "outputs": [],
   "source": [
    "# results = np.load('dclo/saved/greedy_simple/results.npy', allow_pickle=True)\n",
    "# means = results.item()['means']\n",
    "# vars = results.item()['vars']\n",
    "# Xts = results.item()['Xts'].astype(int)\n",
    "\n",
    "# final_means = means[-1, :, :]\n",
    "# final_vars = vars[-1, :, :]\n",
    "\n",
    "# initial_encodings = Xts[0, :, :]\n",
    "# final_encodings = Xts[-1, :, :]\n",
    "# encoding2seq(final_encodings[0, :])\n",
    "\n",
    "#initial libraries\n",
    "results2 = np.load('dclo/saved/coverage_unweighted/results.npy', allow_pickle=True)\n",
    "#single optimized\n",
    "results3 = np.load('dclo/saved/coverage_unweighted_simple/results.npy', allow_pickle=True)\n",
    "\n",
    "results4 = np.load('dclo/saved/coverage_unweighted_simple_mix2/results.npy', allow_pickle=True)\n",
    "\n",
    "means2 = results2.item()['means']\n",
    "final_means2 = means2[-1, :, :]\n",
    "\n",
    "means3 = results3.item()['means']\n",
    "final_means3 = means3[-1, :, :]\n",
    "\n",
    "means4 = results4.item()['means']\n",
    "final_means4 = means4[-1, :, :]"
   ]
  },
  {
   "cell_type": "code",
   "execution_count": 4,
   "metadata": {},
   "outputs": [],
   "source": [
    "#to calculate coverage for a few library sizes\n",
    "with open('/home/jyang4/repos/StARDUST/dclo/configs/coverage_unweighted_DEFAULT.json', 'r') as f:\n",
    "    config = json.load(f)\n",
    "\n",
    "all_scores = []\n",
    "for n in [260, 380]:\n",
    "    oracle = Oracle(config['data_config'], config['opt_config'], verbose = True)\n",
    "    samples = fitness_df['Combo'].sample(n=n, random_state=42).values\n",
    "\n",
    "    scores, raw_scores, counts, diversity, _ = oracle.aas2zs(samples)\n",
    "    all_scores.append(scores)"
   ]
  },
  {
   "cell_type": "code",
   "execution_count": 28,
   "metadata": {},
   "outputs": [],
   "source": [
    "df = pd.read_csv(\"/home/jyang4/repos/StARDUST/data/GB1/fitness.csv\")\n",
    "embeddings = np.load('data/GB1/ESM1b.npy')\n",
    "dictionary = dict(zip(df[\"Combo\"].values, embeddings))"
   ]
  },
  {
   "cell_type": "code",
   "execution_count": 30,
   "metadata": {},
   "outputs": [
    {
     "data": {
      "text/plain": [
       "(1280,)"
      ]
     },
     "execution_count": 30,
     "metadata": {},
     "output_type": "execute_result"
    }
   ],
   "source": [
    "dictionary['VDGV'].shape"
   ]
  },
  {
   "cell_type": "markdown",
   "metadata": {},
   "source": [
    "#### mixed analysis"
   ]
  },
  {
   "cell_type": "code",
   "execution_count": 18,
   "metadata": {},
   "outputs": [
    {
     "name": "stderr",
     "output_type": "stream",
     "text": [
      "/home/jyang4/miniconda3/envs/ProtGraphR/lib/python3.9/site-packages/seaborn/_decorators.py:36: FutureWarning: Pass the following variable as a keyword arg: x. From version 0.12, the only valid positional argument will be `data`, and passing other arguments without an explicit keyword will result in an error or misinterpretation.\n",
      "  warnings.warn(\n"
     ]
    },
    {
     "data": {
      "text/plain": [
       "<AxesSubplot:>"
      ]
     },
     "execution_count": 18,
     "metadata": {},
     "output_type": "execute_result"
    },
    {
     "data": {
      "image/png": "[encoded data removed]",
      "text/plain": [
       "<Figure size 432x288 with 1 Axes>"
      ]
     },
     "metadata": {
      "needs_background": "light"
     },
     "output_type": "display_data"
    }
   ],
   "source": [
    "results = np.load('mlde_results_greedy_distance_tiered_mix.npy', allow_pickle=True)\n",
    "maxes = results.item()['maxes']\n",
    "maxes_mean = np.mean(maxes, axis = 1)\n",
    "\n",
    "labelled = results.item()['labelled']\n",
    "unique = results.item()['unique']\n",
    "sns.violinplot(np.mean(maxes, axis = 1), cut=0)\n",
    "#sns.violinplot(unique, cut=0)"
   ]
  },
  {
   "cell_type": "code",
   "execution_count": 12,
   "metadata": {},
   "outputs": [],
   "source": [
    "import re\n",
    "with open('pairs.txt') as f:\n",
    "    lines = [line.rstrip('\\n') for line in f]\n",
    "\n",
    "new = []\n",
    "for line in lines:\n",
    "    line = re.findall(r'\\d+', line)\n",
    "    line = [int(ele) for ele in line]\n",
    "    new.append(line)\n",
    "pairs = np.array(new)"
   ]
  },
  {
   "cell_type": "code",
   "execution_count": 13,
   "metadata": {},
   "outputs": [],
   "source": [
    "distances = []\n",
    "score1 = []\n",
    "score2 = []\n",
    "for a , b in pairs:\n",
    "    distances.append(hammingdistance(final_encodings[a,:], final_encodings[b,:]))\n",
    "    score1.append(final_means[a,0])\n",
    "    score2.append(final_means[b,0])\n",
    "distances = np.array(distances)\n",
    "score1 = np.array(score1)\n",
    "score2 = np.array(score1)"
   ]
  },
  {
   "cell_type": "code",
   "execution_count": 15,
   "metadata": {},
   "outputs": [
    {
     "name": "stdout",
     "output_type": "stream",
     "text": [
      "SpearmanrResult(correlation=-0.05410356500747106, pvalue=0.5929089722412506)\n"
     ]
    },
    {
     "data": {
      "image/png": "[encoded data removed]",
      "text/plain": [
       "<Figure size 432x288 with 1 Axes>"
      ]
     },
     "metadata": {
      "needs_background": "light"
     },
     "output_type": "display_data"
    }
   ],
   "source": [
    "x = distances\n",
    "#y = np.mean(maxes, axis = 1)\n",
    "y = np.mean(unique, axis = 1)\n",
    "plt.plot(x, y, '.')\n",
    "plt.xlabel('hamming distance')\n",
    "plt.ylabel('mean metric')\n",
    "plt.legend\n",
    "print(spearmanr(x, y))"
   ]
  },
  {
   "cell_type": "code",
   "execution_count": 16,
   "metadata": {},
   "outputs": [
    {
     "name": "stdout",
     "output_type": "stream",
     "text": [
      "SpearmanrResult(correlation=0.29257227904687305, pvalue=0.0031382594104065503)\n"
     ]
    },
    {
     "data": {
      "image/png": "[encoded data removed]",
      "text/plain": [
       "<Figure size 432x288 with 1 Axes>"
      ]
     },
     "metadata": {
      "needs_background": "light"
     },
     "output_type": "display_data"
    }
   ],
   "source": [
    "X = np.array([distances, score1, score2]).T\n",
    "y = np.mean(maxes, axis = 1)\n",
    "\n",
    "clf = LinearRegression()\n",
    "clf.fit(X, y)\n",
    "#clfs.append(clf)\n",
    "y_preds = clf.predict(X)\n",
    "\n",
    "x = y_preds\n",
    "#y = maxes_mean\n",
    "\n",
    "\n",
    "plt.plot(x, y, '.')\n",
    "plt.xlabel('predicted')\n",
    "plt.ylabel('actual')\n",
    "plt.legend\n",
    "print(spearmanr(x, y))"
   ]
  },
  {
   "cell_type": "code",
   "execution_count": null,
   "metadata": {},
   "outputs": [],
   "source": []
  }
 ],
 "metadata": {
  "kernelspec": {
   "display_name": "Python 3.9.13 ('ProtGraphR')",
   "language": "python",
   "name": "python3"
  },
  "language_info": {
   "codemirror_mode": {
    "name": "ipython",
    "version": 3
   },
   "file_extension": ".py",
   "mimetype": "text/x-python",
   "name": "python",
   "nbconvert_exporter": "python",
   "pygments_lexer": "ipython3",
   "version": "3.9.13"
  },
  "orig_nbformat": 4,
  "vscode": {
   "interpreter": {
    "hash": "139d1aaa1d1fb05ac2b871ea076ee69809b0d9a8dfdac7dc2e2d4e05ffa29f01"
   }
  }
 },
 "nbformat": 4,
 "nbformat_minor": 2
}
